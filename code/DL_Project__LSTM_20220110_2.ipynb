{
  "nbformat": 4,
  "nbformat_minor": 0,
  "metadata": {
    "colab": {
      "name": "DL_Project_ LSTM_20220110_2.ipynb",
      "provenance": [],
      "machine_shape": "hm"
    },
    "kernelspec": {
      "name": "python3",
      "display_name": "Python 3"
    },
    "language_info": {
      "name": "python"
    },
    "accelerator": "GPU"
  },
  "cells": [
    {
      "cell_type": "code",
      "execution_count": 4,
      "metadata": {
        "colab": {
          "base_uri": "https://localhost:8080/"
        },
        "id": "_u_Bqxa2KvLQ",
        "outputId": "24617f6d-66a2-487f-f4bc-12eac6b2e7de"
      },
      "outputs": [
        {
          "output_type": "stream",
          "name": "stdout",
          "text": [
            "Mounted at /content/drive\n"
          ]
        }
      ],
      "source": [
        "from google.colab import drive\n",
        "drive.mount('/content/drive')"
      ]
    },
    {
      "cell_type": "code",
      "source": [
        "# https://github.com/ninja3697/Stocks-Price-Prediction-using-Multivariate-Analysis/blob/master/Multivatiate-LSTM/.ipynb_checkpoints/Multivariate-3-LSTM-Copy1-checkpoint.ipynb\n",
        "# Importing dependencies\n",
        "\n",
        "import numpy as np\n",
        "np.random.seed(1)\n",
        "import tensorflow as tf\n",
        "tf.random.set_seed(2)\n",
        "import pandas as pd\n",
        "import matplotlib.pyplot as plt\n",
        "from tensorflow.keras.models import Sequential, load_model\n",
        "from keras.layers.core import Dense\n",
        "from keras.layers.recurrent import LSTM\n",
        "from tensorflow.keras import optimizers\n",
        "from tensorflow.keras.callbacks import EarlyStopping\n",
        "from sklearn.preprocessing import MinMaxScaler\n",
        "from sklearn.metrics import mean_squared_error, r2_score\n",
        "from keras.layers import Dropout\n",
        "from sklearn.model_selection import KFold\n",
        "from math import sqrt\n",
        "import datetime as dt\n",
        "plt.style.use('ggplot')"
      ],
      "metadata": {
        "id": "u7wI7_OcVRNN"
      },
      "execution_count": 5,
      "outputs": []
    },
    {
      "cell_type": "code",
      "source": [
        "%cd '/content/drive/Shareddrives/myShareDrive'"
      ],
      "metadata": {
        "colab": {
          "base_uri": "https://localhost:8080/"
        },
        "id": "WXb-8StpLHcy",
        "outputId": "a4b61b58-2899-40fe-dea0-97bd20e54323"
      },
      "execution_count": 6,
      "outputs": [
        {
          "output_type": "stream",
          "name": "stdout",
          "text": [
            "/content/drive/Shareddrives/myShareDrive\n"
          ]
        }
      ]
    },
    {
      "cell_type": "code",
      "source": [
        "#data = pd.read_csv('./dataset/FS_sp500_Value.csv', parse_dates=['Date'], infer_datetime_format=True)\n",
        "data = pd.read_csv('./dataset/FS_sp500_Value.csv', parse_dates=['Date'], infer_datetime_format=True, index_col=0)"
      ],
      "metadata": {
        "id": "p8XOk-KrNS1_",
        "colab": {
          "base_uri": "https://localhost:8080/"
        },
        "outputId": "78f1b548-effe-488f-ff44-3cd59dcde2c7"
      },
      "execution_count": 7,
      "outputs": [
        {
          "output_type": "stream",
          "name": "stderr",
          "text": [
            "/usr/local/lib/python3.7/dist-packages/numpy/lib/arraysetops.py:580: FutureWarning: elementwise comparison failed; returning scalar instead, but in the future will perform elementwise comparison\n",
            "  mask |= (ar1 == a)\n"
          ]
        }
      ]
    },
    {
      "cell_type": "code",
      "source": [
        "#data_APA = data.query('Ticker == \"APA\"').drop(['Unnamed: 0', 'Ticker'], axis=1)\n",
        "data_APA = data.query('Ticker == \"APA\"').drop(['Ticker'], axis=1)"
      ],
      "metadata": {
        "id": "M4pixtAQOou_"
      },
      "execution_count": 8,
      "outputs": []
    },
    {
      "cell_type": "code",
      "source": [
        "# Using set_index() method on 'Name' column\n",
        "data_APA = data_APA.set_index(data_APA['Date'])"
      ],
      "metadata": {
        "id": "uy0tl8ggTqwh"
      },
      "execution_count": 9,
      "outputs": []
    },
    {
      "cell_type": "code",
      "source": [
        "# Correlation matrix\n",
        "data_APA.corr()['Close']"
      ],
      "metadata": {
        "colab": {
          "base_uri": "https://localhost:8080/"
        },
        "id": "m9YgdzvaULBO",
        "outputId": "57910be4-db8b-4ce6-fb1f-ce3b9596553a"
      },
      "execution_count": 10,
      "outputs": [
        {
          "output_type": "execute_result",
          "data": {
            "text/plain": [
              "High         0.999711\n",
              "Low          0.999743\n",
              "Open         0.999399\n",
              "Close        1.000000\n",
              "Volume      -0.479447\n",
              "Adj Close    0.999291\n",
              "Name: Close, dtype: float64"
            ]
          },
          "metadata": {},
          "execution_count": 10
        }
      ]
    },
    {
      "cell_type": "code",
      "source": [
        "#data_APA = data_APA.drop(['Volume'], axis=1)"
      ],
      "metadata": {
        "id": "xf0yInSJUsj5"
      },
      "execution_count": null,
      "outputs": []
    },
    {
      "cell_type": "code",
      "source": [
        "#print(data_APA.describe().Volume) "
      ],
      "metadata": {
        "id": "uvdcrDllH3kz"
      },
      "execution_count": null,
      "outputs": []
    },
    {
      "cell_type": "code",
      "source": [
        "data_APA.drop(data_APA[data_APA['Volume']==0].index, inplace = True) #Dropping rows with volume value 0"
      ],
      "metadata": {
        "id": "iQc_laYNHzF2"
      },
      "execution_count": 11,
      "outputs": []
    },
    {
      "cell_type": "code",
      "source": [
        "data_APA.shape"
      ],
      "metadata": {
        "colab": {
          "base_uri": "https://localhost:8080/"
        },
        "id": "8NMff9RtIajt",
        "outputId": "f796422b-2dc8-4815-e5f9-13050698bdb3"
      },
      "execution_count": 12,
      "outputs": [
        {
          "output_type": "execute_result",
          "data": {
            "text/plain": [
              "(2997, 7)"
            ]
          },
          "metadata": {},
          "execution_count": 12
        }
      ]
    },
    {
      "cell_type": "code",
      "source": [
        "# Setting up an early stop\n",
        "earlystop = EarlyStopping(monitor='val_loss', min_delta=0.0001, patience=80,  verbose=1, mode='min')\n",
        "callbacks_list = [earlystop]"
      ],
      "metadata": {
        "id": "I6vgANC_VHT-"
      },
      "execution_count": 13,
      "outputs": []
    },
    {
      "cell_type": "code",
      "source": [
        "#Build and train the model\n",
        "def fit_model(train,val,timesteps,hl,lr,batch,epochs,loss,activation):\n",
        "    X_train = []\n",
        "    Y_train = []\n",
        "    X_val = []\n",
        "    Y_val = []\n",
        "  \n",
        "    # Loop for training data\n",
        "    for i in range(timesteps,train.shape[0]):\n",
        "        X_train.append(train[i-timesteps:i])\n",
        "        Y_train.append(train[i][0])\n",
        "    X_train,Y_train = np.array(X_train),np.array(Y_train)\n",
        "  \n",
        "    # Loop for val data\n",
        "    for i in range(timesteps,val.shape[0]):\n",
        "        X_val.append(val[i-timesteps:i])\n",
        "        Y_val.append(val[i][0])\n",
        "    X_val,Y_val = np.array(X_val),np.array(Y_val)\n",
        "    \n",
        "    # Adding Layers to the model\n",
        "    model = Sequential()\n",
        "    #Adding the first LSTM layer and some Dropout regularisation\n",
        "    model.add(LSTM(units = 50, activation = activation, return_sequences = True, input_shape = (X_train.shape[1],X_train.shape[2])))\n",
        "    model.add(Dropout(0.2))\n",
        "    # Adding LSTM layers and some Dropout regularisation\n",
        "    for i in range(len(hl)-1):        \n",
        "      model.add(LSTM(hl[i], activation = activation,return_sequences = True))\n",
        "      #model.add(Dropout(0.2))\n",
        "    model.add(LSTM(hl[-1],activation = activation))\n",
        "    model.add(Dropout(0.2))\n",
        "    # Adding the output layer\n",
        "    model.add(Dense(units = 1))\n",
        "\n",
        "    # Compiling the RNN\n",
        "    model.compile(optimizer = tf.keras.optimizers.Adam(learning_rate= lr), loss = loss)\n",
        "    \n",
        "    # Training the data\n",
        "    history = model.fit(X_train,Y_train,epochs = epochs,batch_size = batch,validation_data = (X_val, Y_val),verbose = 1,\n",
        "                        shuffle = False, callbacks=callbacks_list)\n",
        "    model.reset_states()\n",
        "    return model, history.history['loss'], history.history['val_loss']"
      ],
      "metadata": {
        "id": "Ged4SsfM7sVp"
      },
      "execution_count": 14,
      "outputs": []
    },
    {
      "cell_type": "code",
      "source": [
        "# Evaluating the model\n",
        "def evaluate_model(model,test,timesteps):\n",
        "    X_test = []\n",
        "    Y_test = []\n",
        "\n",
        "    # Loop for testing data\n",
        "    for i in range(timesteps,test.shape[0]):\n",
        "        X_test.append(test[i-timesteps:i])\n",
        "        Y_test.append(test[i][0])\n",
        "    X_test,Y_test = np.array(X_test),np.array(Y_test)\n",
        "    #print(X_test.shape,Y_test.shape)\n",
        "  \n",
        "    # Prediction Time !!!!\n",
        "    Y_hat = model.predict(X_test)\n",
        "    mse = mean_squared_error(Y_test,Y_hat)\n",
        "    rmse = sqrt(mse)\n",
        "    r = r2_score(Y_test,Y_hat)\n",
        "    return mse, rmse, r, Y_test, Y_hat"
      ],
      "metadata": {
        "id": "mKPFTGDAVbeS"
      },
      "execution_count": 15,
      "outputs": []
    },
    {
      "cell_type": "code",
      "source": [
        "# Plotting the predictions\n",
        "def plot_data(Y_test,Y_hat):\n",
        "    plt.plot(Y_test,c = 'r')\n",
        "    plt.plot(Y_hat,c = 'y')\n",
        "    plt.xlabel('Day')\n",
        "    plt.ylabel('Price')\n",
        "    plt.title('Stock Prediction Graph using Multivariate-LSTM model')\n",
        "    plt.legend(['Actual','Predicted'],loc = 'lower right')\n",
        "    plt.show()"
      ],
      "metadata": {
        "id": "DtJVGXQsVgaL"
      },
      "execution_count": 16,
      "outputs": []
    },
    {
      "cell_type": "code",
      "source": [
        "# Plotting the training errors\n",
        "def plot_error(train_loss,val_loss):\n",
        "    plt.plot(train_loss,c = 'r')\n",
        "    plt.plot(val_loss,c = 'b')\n",
        "    plt.ylabel('Loss')\n",
        "    plt.legend(['train','val'],loc = 'upper right')\n",
        "    plt.show()"
      ],
      "metadata": {
        "id": "zhi61YqyVmNg"
      },
      "execution_count": 17,
      "outputs": []
    },
    {
      "cell_type": "code",
      "source": [
        "# Extracting the series\n",
        "series = data_APA[['Close','High','Volume']] # Picking the series with high correlation\n",
        "print(series.shape)\n",
        "print(series.tail())"
      ],
      "metadata": {
        "colab": {
          "base_uri": "https://localhost:8080/"
        },
        "id": "CjzVlVkkJtm1",
        "outputId": "e0922af7-fac2-49f0-d029-4e47ef139c43"
      },
      "execution_count": 18,
      "outputs": [
        {
          "output_type": "stream",
          "name": "stdout",
          "text": [
            "(2997, 3)\n",
            "                Close       High    Volume\n",
            "Date                                      \n",
            "2021-11-19  26.000000  27.010000  12427500\n",
            "2021-11-22  26.530001  27.360001  11652900\n",
            "2021-11-23  28.469999  28.500000  10602000\n",
            "2021-11-24  28.610001  29.209999   8531600\n",
            "2021-11-26  26.240000  26.549999   8469000\n"
          ]
        }
      ]
    },
    {
      "cell_type": "code",
      "source": [
        "# Cross_Train_Val Test Split\n",
        "cross_train_val_start = dt.date(2010,1,4)\n",
        "cross_train_val_end = dt.date(2021,6,30)\n",
        "cross_train_val_data = series.loc[cross_train_val_start:cross_train_val_end]\n",
        "\n",
        "test_start = dt.date(2021,7,1)\n",
        "test_end = dt.date(2021,12,31)\n",
        "test_data = series.loc[test_start:test_end]\n",
        "\n",
        "print(cross_train_val_data.shape,test_data.shape)"
      ],
      "metadata": {
        "colab": {
          "base_uri": "https://localhost:8080/"
        },
        "id": "Q88XgwO7yOvw",
        "outputId": "7b144e8e-ef03-4fff-d3a7-106768c35dc8"
      },
      "execution_count": 19,
      "outputs": [
        {
          "output_type": "stream",
          "name": "stdout",
          "text": [
            "(2893, 3) (104, 3)\n"
          ]
        }
      ]
    },
    {
      "cell_type": "code",
      "source": [
        "# Normalisation\n",
        "from sklearn.preprocessing import MinMaxScaler\n",
        "sc = MinMaxScaler(feature_range = (0, 1))\n",
        "\n",
        "train = sc.fit_transform(cross_train_val_data)\n",
        "test = sc.transform(test_data)\n",
        "print(train.shape,test.shape)"
      ],
      "metadata": {
        "colab": {
          "base_uri": "https://localhost:8080/"
        },
        "id": "gtddltVN4RwV",
        "outputId": "c45a71be-04ee-464a-9ef8-579bf7843c65"
      },
      "execution_count": 20,
      "outputs": [
        {
          "output_type": "stream",
          "name": "stdout",
          "text": [
            "(2893, 3) (104, 3)\n"
          ]
        }
      ]
    },
    {
      "cell_type": "code",
      "source": [
        "timesteps = [50] \n",
        "#hl = []\n",
        "#for i in range(60,50,10):\n",
        "#  hl.append([i,i-5])\n",
        "hl = [[60,55]]\n",
        "lr = [1e-3]\n",
        "batch_size = [64]\n",
        "num_epochs = [50]\n",
        "#optimizers = ['SGD', 'RMSprop', 'Adam']\n",
        "loss = ['mean_squared_error']\n",
        "activation = ['selu']"
      ],
      "metadata": {
        "id": "oe1qzCSFPDLZ"
      },
      "execution_count": 50,
      "outputs": []
    },
    {
      "cell_type": "code",
      "source": [
        "results = list()\n",
        "cross_val_results = list()\n",
        "n_split = 5\n",
        "X = train\n",
        "\n",
        "for t in timesteps:\n",
        "  for l in hl:\n",
        "      for rate in lr:\n",
        "          for batch in batch_size:\n",
        "              for epochs in num_epochs:\n",
        "                for loss in loss:\n",
        "                  for a in activation:\n",
        "                    \n",
        "                    train_loss = pd.DataFrame()\n",
        "                    val_loss = pd.DataFrame()\n",
        "                    train_loss_value = 0\n",
        "                    val_loss_value = 0\n",
        "                \n",
        "                    for train_index,test_index in KFold(n_split).split(X):\n",
        "                      #print(train_index,test_index)\n",
        "                      x_train = X[train_index]\n",
        "                      x_test = X[test_index]\n",
        "                      #y_train,y_test=Y[train_index],Y[test_index]\n",
        "                      model,train_error,val_error = fit_model(x_train,x_test,t,l,rate,batch,epochs,loss,a)\n",
        "                      train_loss['fold'] = train_error\n",
        "                      val_loss['fold'] = val_error\n",
        "                      mse, rmse, r2_value,true,predicted = evaluate_model(model,test,t)\n",
        "                      #print(\"Split 1\", fold_no)\n",
        "                      print('MSE = {}'.format(mse))\n",
        "                      print('RMSE = {}'.format(rmse))\n",
        "                      print('R-Squared Score = {}'.format(r2_value))\n",
        "                      \n",
        "                      plot_data(true,predicted)\n",
        "                      cross_val_results.append([mse,rmse,r2_value,0])\n",
        "                      #model,train_error,val_error = fit_model(x_train,x_test,timesteps,hl,lr,batch_size,num_epochs)\n",
        "                      print('train_error ',train_error)\n",
        "                      #model,train_loss,val_loss = fit_model(train,val,t,l,rate,batch,epochs)\n",
        "                      train_loss_value = train_loss_value + train_loss.iloc[-1]['fold']\n",
        "                      val_loss_value = val_loss_value + val_loss.iloc[-1]['fold']\n",
        "                \n",
        "                    results.append([t,l,rate,batch,epochs,loss,a,train_loss_value/n_split,val_loss_value/n_split])\n",
        "                    print(results)                  \n",
        "\n",
        "pd.DataFrame(results,columns=['Timestep','Hidden_Layers','Learning_Rate','Batch_Size','epochs','Loss','Activation','Train_Loss','Val_Loss']).to_csv('Multivariate-LSTM_model_Timesteps_0107.csv')\n",
        "pd.DataFrame(cross_val_results,columns=['mse','rmse','r2_value','0']).to_csv('Multivariate-LSTM_model_Mse_0107.csv')"
      ],
      "metadata": {
        "colab": {
          "base_uri": "https://localhost:8080/",
          "height": 1000
        },
        "id": "AUoZqBRKPIBV",
        "outputId": "9c4b0159-2abf-4053-afcd-5046b0234333"
      },
      "execution_count": 51,
      "outputs": [
        {
          "output_type": "stream",
          "name": "stdout",
          "text": [
            "Epoch 1/50\n",
            "36/36 [==============================] - 24s 472ms/step - loss: 0.0354 - val_loss: 0.2833\n",
            "Epoch 2/50\n",
            "36/36 [==============================] - 17s 460ms/step - loss: 0.0243 - val_loss: 0.3718\n",
            "Epoch 3/50\n",
            "36/36 [==============================] - 16s 458ms/step - loss: 0.0211 - val_loss: 0.0563\n",
            "Epoch 4/50\n",
            "36/36 [==============================] - 17s 460ms/step - loss: 0.0073 - val_loss: 0.1114\n",
            "Epoch 5/50\n",
            "36/36 [==============================] - 17s 460ms/step - loss: 0.0101 - val_loss: 0.1226\n",
            "Epoch 6/50\n",
            "36/36 [==============================] - 17s 461ms/step - loss: 0.0114 - val_loss: 0.0906\n",
            "Epoch 7/50\n",
            "36/36 [==============================] - 17s 460ms/step - loss: 0.0094 - val_loss: 0.0586\n",
            "Epoch 8/50\n",
            "36/36 [==============================] - 17s 460ms/step - loss: 0.0067 - val_loss: 0.0524\n",
            "Epoch 9/50\n",
            "36/36 [==============================] - 16s 458ms/step - loss: 0.0057 - val_loss: 0.0468\n",
            "Epoch 10/50\n",
            "36/36 [==============================] - 17s 462ms/step - loss: 0.0050 - val_loss: 0.0461\n",
            "Epoch 11/50\n",
            "36/36 [==============================] - 17s 459ms/step - loss: 0.0046 - val_loss: 0.0524\n",
            "Epoch 12/50\n",
            "36/36 [==============================] - 16s 458ms/step - loss: 0.0054 - val_loss: 0.0526\n",
            "Epoch 13/50\n",
            "36/36 [==============================] - 17s 460ms/step - loss: 0.0056 - val_loss: 0.0575\n",
            "Epoch 14/50\n",
            "36/36 [==============================] - 17s 461ms/step - loss: 0.0056 - val_loss: 0.0585\n",
            "Epoch 15/50\n",
            "36/36 [==============================] - 16s 456ms/step - loss: 0.0061 - val_loss: 0.0507\n",
            "Epoch 16/50\n",
            "36/36 [==============================] - 17s 461ms/step - loss: 0.0048 - val_loss: 0.0668\n",
            "Epoch 17/50\n",
            "36/36 [==============================] - 16s 457ms/step - loss: 0.0066 - val_loss: 0.0637\n",
            "Epoch 18/50\n",
            "36/36 [==============================] - 16s 458ms/step - loss: 0.0061 - val_loss: 0.0643\n",
            "Epoch 19/50\n",
            "36/36 [==============================] - 16s 457ms/step - loss: 0.0063 - val_loss: 0.0455\n",
            "Epoch 20/50\n",
            "36/36 [==============================] - 17s 460ms/step - loss: 0.0044 - val_loss: 0.0577\n",
            "Epoch 21/50\n",
            "36/36 [==============================] - 16s 458ms/step - loss: 0.0054 - val_loss: 0.0503\n",
            "Epoch 22/50\n",
            "36/36 [==============================] - 16s 457ms/step - loss: 0.0049 - val_loss: 0.0639\n",
            "Epoch 23/50\n",
            "36/36 [==============================] - 16s 456ms/step - loss: 0.0062 - val_loss: 0.0424\n",
            "Epoch 24/50\n",
            "36/36 [==============================] - 17s 463ms/step - loss: 0.0044 - val_loss: 0.0529\n",
            "Epoch 25/50\n",
            "36/36 [==============================] - 17s 461ms/step - loss: 0.0052 - val_loss: 0.0368\n",
            "Epoch 26/50\n",
            "36/36 [==============================] - 17s 461ms/step - loss: 0.0036 - val_loss: 0.0318\n",
            "Epoch 27/50\n",
            "36/36 [==============================] - 17s 460ms/step - loss: 0.0033 - val_loss: 0.0234\n",
            "Epoch 28/50\n",
            "36/36 [==============================] - 17s 459ms/step - loss: 0.0026 - val_loss: 0.0224\n",
            "Epoch 29/50\n",
            "36/36 [==============================] - 16s 457ms/step - loss: 0.0024 - val_loss: 0.0101\n",
            "Epoch 30/50\n",
            "36/36 [==============================] - 17s 461ms/step - loss: 0.0015 - val_loss: 0.0129\n",
            "Epoch 31/50\n",
            "36/36 [==============================] - 17s 459ms/step - loss: 0.0017 - val_loss: 0.0047\n",
            "Epoch 32/50\n",
            "36/36 [==============================] - 16s 456ms/step - loss: 0.0014 - val_loss: 0.0092\n",
            "Epoch 33/50\n",
            "36/36 [==============================] - 17s 460ms/step - loss: 0.0014 - val_loss: 0.0049\n",
            "Epoch 34/50\n",
            "36/36 [==============================] - 17s 461ms/step - loss: 0.0012 - val_loss: 0.0053\n",
            "Epoch 35/50\n",
            "36/36 [==============================] - 17s 459ms/step - loss: 0.0012 - val_loss: 0.0046\n",
            "Epoch 36/50\n",
            "36/36 [==============================] - 16s 457ms/step - loss: 0.0012 - val_loss: 0.0043\n",
            "Epoch 37/50\n",
            "36/36 [==============================] - 17s 459ms/step - loss: 0.0012 - val_loss: 0.0053\n",
            "Epoch 38/50\n",
            "36/36 [==============================] - 16s 458ms/step - loss: 0.0012 - val_loss: 0.0044\n",
            "Epoch 39/50\n",
            "36/36 [==============================] - 17s 460ms/step - loss: 0.0012 - val_loss: 0.0093\n",
            "Epoch 40/50\n",
            "36/36 [==============================] - 17s 460ms/step - loss: 0.0015 - val_loss: 0.0037\n",
            "Epoch 41/50\n",
            "36/36 [==============================] - 16s 456ms/step - loss: 0.0012 - val_loss: 0.0113\n",
            "Epoch 42/50\n",
            "36/36 [==============================] - 17s 461ms/step - loss: 0.0016 - val_loss: 0.0066\n",
            "Epoch 43/50\n",
            "36/36 [==============================] - 16s 456ms/step - loss: 0.0013 - val_loss: 0.0095\n",
            "Epoch 44/50\n",
            "36/36 [==============================] - 17s 463ms/step - loss: 0.0014 - val_loss: 0.0099\n",
            "Epoch 45/50\n",
            "36/36 [==============================] - 17s 460ms/step - loss: 0.0013 - val_loss: 0.0148\n",
            "Epoch 46/50\n",
            "36/36 [==============================] - 17s 460ms/step - loss: 0.0016 - val_loss: 0.0106\n",
            "Epoch 47/50\n",
            "36/36 [==============================] - 16s 458ms/step - loss: 0.0013 - val_loss: 0.0171\n",
            "Epoch 48/50\n",
            "36/36 [==============================] - 17s 459ms/step - loss: 0.0017 - val_loss: 0.0133\n",
            "Epoch 49/50\n",
            "36/36 [==============================] - 17s 462ms/step - loss: 0.0014 - val_loss: 0.0181\n",
            "Epoch 50/50\n",
            "36/36 [==============================] - 17s 459ms/step - loss: 0.0018 - val_loss: 0.0174\n",
            "MSE = 0.00020090073183243656\n",
            "RMSE = 0.014173945528060864\n",
            "R-Squared Score = 0.7116805830718771\n"
          ]
        },
        {
          "output_type": "display_data",
          "data": {
            "image/png": "[encoded data removed]",
            "text/plain": [
              "<Figure size 432x288 with 1 Axes>"
            ]
          },
          "metadata": {}
        },
        {
          "output_type": "stream",
          "name": "stdout",
          "text": [
            "train_error  [0.03544359654188156, 0.0242941714823246, 0.02106187492609024, 0.007264916319400072, 0.01006848644465208, 0.011423538438975811, 0.009355121292173862, 0.006676614750176668, 0.00572043564170599, 0.004998829215764999, 0.004622022621333599, 0.005404209718108177, 0.00563512509688735, 0.005591400433331728, 0.006127835717052221, 0.004757008980959654, 0.006623147986829281, 0.0060733892023563385, 0.006322037428617477, 0.0043888702057302, 0.005425058305263519, 0.004872565623372793, 0.006221561226993799, 0.004363528452813625, 0.005232651252299547, 0.003594830632209778, 0.0032996307127177715, 0.0026484711561352015, 0.002365686697885394, 0.0015404816949740052, 0.0017168932827189565, 0.0013610825408250093, 0.0014476635260507464, 0.0012218272313475609, 0.0012283084215596318, 0.0011688345111906528, 0.001172326970845461, 0.001221882994286716, 0.0011998619884252548, 0.001452900585718453, 0.0011732239509001374, 0.0015945677878335118, 0.0012744783889502287, 0.0013602051185443997, 0.0013399975141510367, 0.0016048112884163857, 0.001337934867478907, 0.001694773673079908, 0.0013845849316567183, 0.0017552922945469618]\n",
            "Epoch 1/50\n",
            "36/36 [==============================] - 23s 483ms/step - loss: 0.0519 - val_loss: 0.0262\n",
            "Epoch 2/50\n",
            "36/36 [==============================] - 17s 461ms/step - loss: 0.0165 - val_loss: 0.1481\n",
            "Epoch 3/50\n",
            "36/36 [==============================] - 17s 465ms/step - loss: 0.0399 - val_loss: 0.1724\n",
            "Epoch 4/50\n",
            "36/36 [==============================] - 17s 465ms/step - loss: 0.0393 - val_loss: 0.0952\n",
            "Epoch 5/50\n",
            "36/36 [==============================] - 17s 463ms/step - loss: 0.0321 - val_loss: 0.0183\n",
            "Epoch 6/50\n",
            "36/36 [==============================] - 17s 461ms/step - loss: 0.0170 - val_loss: 0.0249\n",
            "Epoch 7/50\n",
            "36/36 [==============================] - 17s 464ms/step - loss: 0.0156 - val_loss: 0.0144\n",
            "Epoch 8/50\n",
            "36/36 [==============================] - 17s 463ms/step - loss: 0.0117 - val_loss: 0.0263\n",
            "Epoch 9/50\n",
            "36/36 [==============================] - 17s 465ms/step - loss: 0.0125 - val_loss: 0.0194\n",
            "Epoch 10/50\n",
            "36/36 [==============================] - 17s 465ms/step - loss: 0.0100 - val_loss: 0.0152\n",
            "Epoch 11/50\n",
            "36/36 [==============================] - 17s 465ms/step - loss: 0.0076 - val_loss: 0.0087\n",
            "Epoch 12/50\n",
            "36/36 [==============================] - 17s 463ms/step - loss: 0.0048 - val_loss: 0.0043\n",
            "Epoch 13/50\n",
            "36/36 [==============================] - 17s 465ms/step - loss: 0.0035 - val_loss: 5.5481e-04\n",
            "Epoch 14/50\n",
            "36/36 [==============================] - 17s 463ms/step - loss: 0.0025 - val_loss: 6.8155e-04\n",
            "Epoch 15/50\n",
            "36/36 [==============================] - 17s 463ms/step - loss: 0.0025 - val_loss: 3.6711e-04\n",
            "Epoch 16/50\n",
            "36/36 [==============================] - 17s 463ms/step - loss: 0.0024 - val_loss: 0.0022\n",
            "Epoch 17/50\n",
            "36/36 [==============================] - 17s 467ms/step - loss: 0.0030 - val_loss: 6.7291e-04\n",
            "Epoch 18/50\n",
            "36/36 [==============================] - 17s 463ms/step - loss: 0.0025 - val_loss: 0.0032\n",
            "Epoch 19/50\n",
            "36/36 [==============================] - 17s 463ms/step - loss: 0.0028 - val_loss: 0.0016\n",
            "Epoch 20/50\n",
            "36/36 [==============================] - 17s 462ms/step - loss: 0.0028 - val_loss: 0.0067\n",
            "Epoch 21/50\n",
            "36/36 [==============================] - 17s 468ms/step - loss: 0.0040 - val_loss: 0.0030\n",
            "Epoch 22/50\n",
            "36/36 [==============================] - 17s 461ms/step - loss: 0.0036 - val_loss: 0.0079\n",
            "Epoch 23/50\n",
            "36/36 [==============================] - 17s 465ms/step - loss: 0.0048 - val_loss: 0.0063\n",
            "Epoch 24/50\n",
            "36/36 [==============================] - 17s 463ms/step - loss: 0.0043 - val_loss: 0.0104\n",
            "Epoch 25/50\n",
            "36/36 [==============================] - 17s 463ms/step - loss: 0.0052 - val_loss: 0.0089\n",
            "Epoch 26/50\n",
            "36/36 [==============================] - 17s 462ms/step - loss: 0.0050 - val_loss: 0.0103\n",
            "Epoch 27/50\n",
            "36/36 [==============================] - 17s 466ms/step - loss: 0.0048 - val_loss: 0.0086\n",
            "Epoch 28/50\n",
            "36/36 [==============================] - 17s 462ms/step - loss: 0.0045 - val_loss: 0.0108\n",
            "Epoch 29/50\n",
            "36/36 [==============================] - 17s 465ms/step - loss: 0.0047 - val_loss: 0.0092\n",
            "Epoch 30/50\n",
            "36/36 [==============================] - 17s 461ms/step - loss: 0.0044 - val_loss: 0.0106\n",
            "Epoch 31/50\n",
            "36/36 [==============================] - 17s 463ms/step - loss: 0.0043 - val_loss: 0.0062\n",
            "Epoch 32/50\n",
            "36/36 [==============================] - 17s 463ms/step - loss: 0.0038 - val_loss: 0.0111\n",
            "Epoch 33/50\n",
            "36/36 [==============================] - 17s 464ms/step - loss: 0.0046 - val_loss: 0.0036\n",
            "Epoch 34/50\n",
            "36/36 [==============================] - 17s 458ms/step - loss: 0.0031 - val_loss: 0.0107\n",
            "Epoch 35/50\n",
            "36/36 [==============================] - 17s 464ms/step - loss: 0.0042 - val_loss: 0.0076\n",
            "Epoch 36/50\n",
            "36/36 [==============================] - 17s 463ms/step - loss: 0.0037 - val_loss: 0.0046\n",
            "Epoch 37/50\n",
            "36/36 [==============================] - 17s 460ms/step - loss: 0.0028 - val_loss: 0.0068\n",
            "Epoch 38/50\n",
            "36/36 [==============================] - 17s 462ms/step - loss: 0.0031 - val_loss: 0.0041\n",
            "Epoch 39/50\n",
            "36/36 [==============================] - 17s 462ms/step - loss: 0.0029 - val_loss: 0.0058\n",
            "Epoch 40/50\n",
            "36/36 [==============================] - 17s 459ms/step - loss: 0.0029 - val_loss: 0.0029\n",
            "Epoch 41/50\n",
            "36/36 [==============================] - 17s 463ms/step - loss: 0.0025 - val_loss: 0.0074\n",
            "Epoch 42/50\n",
            "36/36 [==============================] - 17s 461ms/step - loss: 0.0031 - val_loss: 0.0027\n",
            "Epoch 43/50\n",
            "36/36 [==============================] - 17s 463ms/step - loss: 0.0023 - val_loss: 0.0062\n",
            "Epoch 44/50\n",
            "36/36 [==============================] - 17s 460ms/step - loss: 0.0026 - val_loss: 0.0037\n",
            "Epoch 45/50\n",
            "36/36 [==============================] - 17s 460ms/step - loss: 0.0024 - val_loss: 0.0067\n",
            "Epoch 46/50\n",
            "36/36 [==============================] - 17s 459ms/step - loss: 0.0030 - val_loss: 0.0036\n",
            "Epoch 47/50\n",
            "36/36 [==============================] - 17s 465ms/step - loss: 0.0026 - val_loss: 0.0093\n",
            "Epoch 48/50\n",
            "36/36 [==============================] - 17s 461ms/step - loss: 0.0035 - val_loss: 0.0048\n",
            "Epoch 49/50\n",
            "36/36 [==============================] - 17s 462ms/step - loss: 0.0028 - val_loss: 0.0087\n",
            "Epoch 50/50\n",
            "36/36 [==============================] - 17s 465ms/step - loss: 0.0035 - val_loss: 0.0080\n",
            "MSE = 0.00015148051610536556\n",
            "RMSE = 0.012307742120525827\n",
            "R-Squared Score = 0.7826052016779235\n"
          ]
        },
        {
          "output_type": "display_data",
          "data": {
            "image/png": "[encoded data removed]",
            "text/plain": [
              "<Figure size 432x288 with 1 Axes>"
            ]
          },
          "metadata": {}
        },
        {
          "output_type": "stream",
          "name": "stdout",
          "text": [
            "train_error  [0.051913246512413025, 0.01654711179435253, 0.039937250316143036, 0.039265722036361694, 0.03206568583846092, 0.017016980797052383, 0.015564252622425556, 0.011703615076839924, 0.01250943262130022, 0.010027192533016205, 0.007551597431302071, 0.004816236440092325, 0.00345870153978467, 0.002514592371881008, 0.0024927991908043623, 0.0023870232980698347, 0.0029628898482769728, 0.0025279908441007137, 0.0027733745519071817, 0.0027637870516628027, 0.003990447148680687, 0.0035824168007820845, 0.004756037145853043, 0.004272813908755779, 0.005200781859457493, 0.00501289963722229, 0.0048231990076601505, 0.004521515220403671, 0.00469078216701746, 0.00438713887706399, 0.004287448246032, 0.0038237622939050198, 0.0046394383534789085, 0.00307878153398633, 0.00418086489662528, 0.0036521581932902336, 0.002789393998682499, 0.003124012378975749, 0.002875795355066657, 0.0028592071030288935, 0.002469823695719242, 0.003140965010970831, 0.0022907385136932135, 0.0026309043169021606, 0.002417556941509247, 0.0030203566420823336, 0.00256175035610795, 0.0035350655671209097, 0.0028006231877952814, 0.0035419396590441465]\n",
            "Epoch 1/50\n",
            "36/36 [==============================] - 23s 482ms/step - loss: 0.0765 - val_loss: 0.0109\n",
            "Epoch 2/50\n",
            "36/36 [==============================] - 17s 466ms/step - loss: 0.0249 - val_loss: 0.0285\n",
            "Epoch 3/50\n",
            "36/36 [==============================] - 17s 465ms/step - loss: 0.0340 - val_loss: 0.0095\n",
            "Epoch 4/50\n",
            "36/36 [==============================] - 17s 469ms/step - loss: 0.0178 - val_loss: 0.0010\n",
            "Epoch 5/50\n",
            "36/36 [==============================] - 17s 468ms/step - loss: 0.0118 - val_loss: 0.0027\n",
            "Epoch 6/50\n",
            "36/36 [==============================] - 17s 467ms/step - loss: 0.0104 - val_loss: 0.0011\n",
            "Epoch 7/50\n",
            "36/36 [==============================] - 17s 466ms/step - loss: 0.0085 - val_loss: 0.0012\n",
            "Epoch 8/50\n",
            "36/36 [==============================] - 17s 465ms/step - loss: 0.0056 - val_loss: 6.7396e-04\n",
            "Epoch 9/50\n",
            "36/36 [==============================] - 17s 464ms/step - loss: 0.0050 - val_loss: 0.0015\n",
            "Epoch 10/50\n",
            "36/36 [==============================] - 17s 469ms/step - loss: 0.0040 - val_loss: 0.0011\n",
            "Epoch 11/50\n",
            "36/36 [==============================] - 17s 467ms/step - loss: 0.0034 - val_loss: 0.0021\n",
            "Epoch 12/50\n",
            "36/36 [==============================] - 17s 466ms/step - loss: 0.0033 - val_loss: 9.8977e-04\n",
            "Epoch 13/50\n",
            "36/36 [==============================] - 17s 468ms/step - loss: 0.0033 - val_loss: 0.0012\n",
            "Epoch 14/50\n",
            "36/36 [==============================] - 17s 467ms/step - loss: 0.0031 - val_loss: 7.0929e-04\n",
            "Epoch 15/50\n",
            "36/36 [==============================] - 17s 463ms/step - loss: 0.0031 - val_loss: 0.0021\n",
            "Epoch 16/50\n",
            "36/36 [==============================] - 17s 469ms/step - loss: 0.0029 - val_loss: 8.2099e-04\n",
            "Epoch 17/50\n",
            "36/36 [==============================] - 17s 469ms/step - loss: 0.0034 - val_loss: 7.5666e-04\n",
            "Epoch 18/50\n",
            "36/36 [==============================] - 17s 468ms/step - loss: 0.0026 - val_loss: 8.0490e-04\n",
            "Epoch 19/50\n",
            "36/36 [==============================] - 17s 465ms/step - loss: 0.0026 - val_loss: 0.0021\n",
            "Epoch 20/50\n",
            "36/36 [==============================] - 17s 466ms/step - loss: 0.0028 - val_loss: 7.9850e-04\n",
            "Epoch 21/50\n",
            "36/36 [==============================] - 17s 462ms/step - loss: 0.0026 - val_loss: 0.0020\n",
            "Epoch 22/50\n",
            "36/36 [==============================] - 17s 464ms/step - loss: 0.0026 - val_loss: 7.1289e-04\n",
            "Epoch 23/50\n",
            "36/36 [==============================] - 17s 463ms/step - loss: 0.0027 - val_loss: 0.0010\n",
            "Epoch 24/50\n",
            "36/36 [==============================] - 17s 467ms/step - loss: 0.0026 - val_loss: 6.4139e-04\n",
            "Epoch 25/50\n",
            "36/36 [==============================] - 17s 460ms/step - loss: 0.0028 - val_loss: 0.0013\n",
            "Epoch 26/50\n",
            "36/36 [==============================] - 17s 463ms/step - loss: 0.0028 - val_loss: 7.4514e-04\n",
            "Epoch 27/50\n",
            "36/36 [==============================] - 17s 462ms/step - loss: 0.0026 - val_loss: 9.7284e-04\n",
            "Epoch 28/50\n",
            "36/36 [==============================] - 17s 464ms/step - loss: 0.0025 - val_loss: 0.0015\n",
            "Epoch 29/50\n",
            "36/36 [==============================] - 17s 459ms/step - loss: 0.0027 - val_loss: 5.5877e-04\n",
            "Epoch 30/50\n",
            "36/36 [==============================] - 17s 463ms/step - loss: 0.0027 - val_loss: 0.0031\n",
            "Epoch 31/50\n",
            "36/36 [==============================] - 17s 464ms/step - loss: 0.0029 - val_loss: 0.0010\n",
            "Epoch 32/50\n",
            "36/36 [==============================] - 17s 463ms/step - loss: 0.0035 - val_loss: 0.0022\n",
            "Epoch 33/50\n",
            "36/36 [==============================] - 17s 464ms/step - loss: 0.0035 - val_loss: 0.0016\n",
            "Epoch 34/50\n",
            "36/36 [==============================] - 17s 462ms/step - loss: 0.0031 - val_loss: 0.0015\n",
            "Epoch 35/50\n",
            "36/36 [==============================] - 17s 461ms/step - loss: 0.0027 - val_loss: 8.0334e-04\n",
            "Epoch 36/50\n",
            "36/36 [==============================] - 17s 469ms/step - loss: 0.0025 - val_loss: 6.7090e-04\n",
            "Epoch 37/50\n",
            "36/36 [==============================] - 17s 464ms/step - loss: 0.0023 - val_loss: 0.0032\n",
            "Epoch 38/50\n",
            "36/36 [==============================] - 17s 463ms/step - loss: 0.0028 - val_loss: 0.0016\n",
            "Epoch 39/50\n",
            "36/36 [==============================] - 17s 462ms/step - loss: 0.0025 - val_loss: 0.0018\n",
            "Epoch 40/50\n",
            "36/36 [==============================] - 17s 467ms/step - loss: 0.0025 - val_loss: 8.9608e-04\n",
            "Epoch 41/50\n",
            "36/36 [==============================] - 17s 463ms/step - loss: 0.0022 - val_loss: 0.0013\n",
            "Epoch 42/50\n",
            "36/36 [==============================] - 17s 464ms/step - loss: 0.0022 - val_loss: 4.9258e-04\n",
            "Epoch 43/50\n",
            "36/36 [==============================] - 17s 462ms/step - loss: 0.0020 - val_loss: 6.5362e-04\n",
            "Epoch 44/50\n",
            "36/36 [==============================] - 17s 465ms/step - loss: 0.0021 - val_loss: 7.8026e-04\n",
            "Epoch 45/50\n",
            "36/36 [==============================] - 17s 463ms/step - loss: 0.0021 - val_loss: 0.0012\n",
            "Epoch 46/50\n",
            "36/36 [==============================] - 17s 471ms/step - loss: 0.0027 - val_loss: 0.0036\n",
            "Epoch 47/50\n",
            "36/36 [==============================] - 17s 467ms/step - loss: 0.0037 - val_loss: 0.0067\n",
            "Epoch 48/50\n",
            "36/36 [==============================] - 17s 471ms/step - loss: 0.0050 - val_loss: 0.0039\n",
            "Epoch 49/50\n",
            "36/36 [==============================] - 17s 469ms/step - loss: 0.0037 - val_loss: 0.0031\n",
            "Epoch 50/50\n",
            "36/36 [==============================] - 17s 463ms/step - loss: 0.0028 - val_loss: 0.0025\n",
            "MSE = 0.00012619298847348404\n",
            "RMSE = 0.011233565261015046\n",
            "R-Squared Score = 0.818896185567713\n"
          ]
        },
        {
          "output_type": "display_data",
          "data": {
            "image/png": "[encoded data removed]",
            "text/plain": [
              "<Figure size 432x288 with 1 Axes>"
            ]
          },
          "metadata": {}
        },
        {
          "output_type": "stream",
          "name": "stdout",
          "text": [
            "train_error  [0.07650518417358398, 0.024863669648766518, 0.034027550369501114, 0.017807476222515106, 0.011799083091318607, 0.010369250550866127, 0.008504056371748447, 0.005619108211249113, 0.005030899308621883, 0.0039719450287520885, 0.0034445468336343765, 0.003265839070081711, 0.0033498993143439293, 0.0030621252954006195, 0.003099334193393588, 0.00287168868817389, 0.0033734964672476053, 0.0026399961207062006, 0.0025643815752118826, 0.0027673651929944754, 0.0026087735313922167, 0.0026283154729753733, 0.0026615276001393795, 0.002586791990324855, 0.002834124956279993, 0.00284795043990016, 0.0026209817733615637, 0.002519058296456933, 0.002693473594263196, 0.0026674678083509207, 0.002908578608185053, 0.003548775566741824, 0.0034747710451483727, 0.003121446818113327, 0.002718630013987422, 0.00249109067954123, 0.0023463869001716375, 0.002779746428132057, 0.0024766246788203716, 0.002546042902395129, 0.0022151502780616283, 0.0021897524129599333, 0.001991735538467765, 0.002146939281374216, 0.0021323903929442167, 0.0026999369729310274, 0.0037225051783025265, 0.004954666830599308, 0.0037364496383816004, 0.0027627614326775074]\n",
            "Epoch 1/50\n",
            "36/36 [==============================] - 23s 483ms/step - loss: 0.0322 - val_loss: 0.0141\n",
            "Epoch 2/50\n",
            "36/36 [==============================] - 17s 464ms/step - loss: 0.0344 - val_loss: 0.0112\n",
            "Epoch 3/50\n",
            "36/36 [==============================] - 17s 467ms/step - loss: 0.0317 - val_loss: 0.0100\n",
            "Epoch 4/50\n",
            "36/36 [==============================] - 17s 465ms/step - loss: 0.0258 - val_loss: 0.0015\n",
            "Epoch 5/50\n",
            "36/36 [==============================] - 17s 466ms/step - loss: 0.0156 - val_loss: 6.5272e-04\n",
            "Epoch 6/50\n",
            "36/36 [==============================] - 17s 468ms/step - loss: 0.0130 - val_loss: 3.5073e-04\n",
            "Epoch 7/50\n",
            "36/36 [==============================] - 17s 470ms/step - loss: 0.0107 - val_loss: 3.5506e-04\n",
            "Epoch 8/50\n",
            "36/36 [==============================] - 17s 467ms/step - loss: 0.0091 - val_loss: 4.4610e-04\n",
            "Epoch 9/50\n",
            "36/36 [==============================] - 17s 463ms/step - loss: 0.0096 - val_loss: 4.8699e-04\n",
            "Epoch 10/50\n",
            "36/36 [==============================] - 17s 464ms/step - loss: 0.0096 - val_loss: 3.3638e-04\n",
            "Epoch 11/50\n",
            "36/36 [==============================] - 17s 467ms/step - loss: 0.0087 - val_loss: 3.0022e-04\n",
            "Epoch 12/50\n",
            "36/36 [==============================] - 17s 467ms/step - loss: 0.0077 - val_loss: 2.7709e-04\n",
            "Epoch 13/50\n",
            "36/36 [==============================] - 17s 470ms/step - loss: 0.0086 - val_loss: 3.3272e-04\n",
            "Epoch 14/50\n",
            "36/36 [==============================] - 17s 466ms/step - loss: 0.0079 - val_loss: 3.0440e-04\n",
            "Epoch 15/50\n",
            "36/36 [==============================] - 17s 466ms/step - loss: 0.0071 - val_loss: 4.1011e-04\n",
            "Epoch 16/50\n",
            "36/36 [==============================] - 17s 470ms/step - loss: 0.0065 - val_loss: 5.2755e-04\n",
            "Epoch 17/50\n",
            "36/36 [==============================] - 17s 465ms/step - loss: 0.0054 - val_loss: 2.5783e-04\n",
            "Epoch 18/50\n",
            "36/36 [==============================] - 17s 468ms/step - loss: 0.0056 - val_loss: 2.9073e-04\n",
            "Epoch 19/50\n",
            "36/36 [==============================] - 17s 464ms/step - loss: 0.0062 - val_loss: 4.3150e-04\n",
            "Epoch 20/50\n",
            "36/36 [==============================] - 17s 466ms/step - loss: 0.0048 - val_loss: 2.5181e-04\n",
            "Epoch 21/50\n",
            "36/36 [==============================] - 17s 462ms/step - loss: 0.0049 - val_loss: 3.3893e-04\n",
            "Epoch 22/50\n",
            "36/36 [==============================] - 17s 469ms/step - loss: 0.0043 - val_loss: 2.5284e-04\n",
            "Epoch 23/50\n",
            "36/36 [==============================] - 17s 469ms/step - loss: 0.0041 - val_loss: 3.1986e-04\n",
            "Epoch 24/50\n",
            "36/36 [==============================] - 17s 462ms/step - loss: 0.0036 - val_loss: 6.4932e-04\n",
            "Epoch 25/50\n",
            "36/36 [==============================] - 17s 466ms/step - loss: 0.0035 - val_loss: 6.8016e-04\n",
            "Epoch 26/50\n",
            "36/36 [==============================] - 17s 465ms/step - loss: 0.0027 - val_loss: 2.9903e-04\n",
            "Epoch 27/50\n",
            "36/36 [==============================] - 17s 465ms/step - loss: 0.0033 - val_loss: 2.7357e-04\n",
            "Epoch 28/50\n",
            "36/36 [==============================] - 17s 468ms/step - loss: 0.0027 - val_loss: 7.5567e-04\n",
            "Epoch 29/50\n",
            "36/36 [==============================] - 17s 464ms/step - loss: 0.0030 - val_loss: 3.2547e-04\n",
            "Epoch 30/50\n",
            "36/36 [==============================] - 17s 470ms/step - loss: 0.0026 - val_loss: 2.6793e-04\n",
            "Epoch 31/50\n",
            "36/36 [==============================] - 17s 471ms/step - loss: 0.0028 - val_loss: 0.0011\n",
            "Epoch 32/50\n",
            "36/36 [==============================] - 17s 467ms/step - loss: 0.0030 - val_loss: 6.8878e-04\n",
            "Epoch 33/50\n",
            "36/36 [==============================] - 17s 466ms/step - loss: 0.0024 - val_loss: 0.0013\n",
            "Epoch 34/50\n",
            "36/36 [==============================] - 17s 463ms/step - loss: 0.0026 - val_loss: 2.9251e-04\n",
            "Epoch 35/50\n",
            "36/36 [==============================] - 17s 472ms/step - loss: 0.0023 - val_loss: 2.6109e-04\n",
            "Epoch 36/50\n",
            "36/36 [==============================] - 17s 469ms/step - loss: 0.0023 - val_loss: 3.5048e-04\n",
            "Epoch 37/50\n",
            "36/36 [==============================] - 17s 468ms/step - loss: 0.0023 - val_loss: 8.6091e-04\n",
            "Epoch 38/50\n",
            "36/36 [==============================] - 17s 469ms/step - loss: 0.0024 - val_loss: 0.0010\n",
            "Epoch 39/50\n",
            "36/36 [==============================] - 17s 465ms/step - loss: 0.0022 - val_loss: 0.0011\n",
            "Epoch 40/50\n",
            "36/36 [==============================] - 17s 467ms/step - loss: 0.0024 - val_loss: 2.2569e-04\n",
            "Epoch 41/50\n",
            "36/36 [==============================] - 17s 472ms/step - loss: 0.0022 - val_loss: 8.1875e-04\n",
            "Epoch 42/50\n",
            "36/36 [==============================] - 17s 463ms/step - loss: 0.0025 - val_loss: 2.5589e-04\n",
            "Epoch 43/50\n",
            "36/36 [==============================] - 17s 468ms/step - loss: 0.0022 - val_loss: 0.0015\n",
            "Epoch 44/50\n",
            "36/36 [==============================] - 17s 465ms/step - loss: 0.0022 - val_loss: 4.1678e-04\n",
            "Epoch 45/50\n",
            "36/36 [==============================] - 17s 465ms/step - loss: 0.0024 - val_loss: 4.6260e-04\n",
            "Epoch 46/50\n",
            "36/36 [==============================] - 17s 466ms/step - loss: 0.0024 - val_loss: 0.0026\n",
            "Epoch 47/50\n",
            "36/36 [==============================] - 17s 465ms/step - loss: 0.0026 - val_loss: 4.1310e-04\n",
            "Epoch 48/50\n",
            "36/36 [==============================] - 17s 462ms/step - loss: 0.0024 - val_loss: 0.0015\n",
            "Epoch 49/50\n",
            "36/36 [==============================] - 17s 469ms/step - loss: 0.0022 - val_loss: 3.8559e-04\n",
            "Epoch 50/50\n",
            "36/36 [==============================] - 17s 466ms/step - loss: 0.0021 - val_loss: 2.2247e-04\n",
            "MSE = 0.00015321995740338743\n",
            "RMSE = 0.012378204934617436\n",
            "R-Squared Score = 0.7801088707972343\n"
          ]
        },
        {
          "output_type": "display_data",
          "data": {
            "image/png": "[encoded data removed]",
            "text/plain": [
              "<Figure size 432x288 with 1 Axes>"
            ]
          },
          "metadata": {}
        },
        {
          "output_type": "stream",
          "name": "stdout",
          "text": [
            "train_error  [0.03219829499721527, 0.03441977500915527, 0.031708624213933945, 0.02575462870299816, 0.015595476143062115, 0.013028349727392197, 0.010670692659914494, 0.009061545133590698, 0.009600532241165638, 0.009635563008487225, 0.00872497633099556, 0.007720624096691608, 0.008616351522505283, 0.007904920727014542, 0.007083800155669451, 0.006486664991825819, 0.005398792214691639, 0.005610333289951086, 0.006189380772411823, 0.0048399558290839195, 0.004885335918515921, 0.004298653919249773, 0.004067185800522566, 0.003617001697421074, 0.003529382636770606, 0.0027195254806429148, 0.003307354636490345, 0.0027216454036533833, 0.002962014637887478, 0.0026131009217351675, 0.0027795617934316397, 0.002951320493593812, 0.002425007987767458, 0.002557266503572464, 0.0022885382641106844, 0.0022612684406340122, 0.0022931648418307304, 0.0024099310394376516, 0.0021860466804355383, 0.0023506239522248507, 0.0021653196308761835, 0.002515956526622176, 0.002214201260358095, 0.002232546918094158, 0.002393172588199377, 0.002413657959550619, 0.002615787787362933, 0.0023714760318398476, 0.002205842873081565, 0.002108752727508545]\n",
            "Epoch 1/50\n",
            "36/36 [==============================] - 23s 489ms/step - loss: 0.0898 - val_loss: 0.0079\n",
            "Epoch 2/50\n",
            "36/36 [==============================] - 17s 466ms/step - loss: 0.0274 - val_loss: 0.0119\n",
            "Epoch 3/50\n",
            "36/36 [==============================] - 17s 473ms/step - loss: 0.0195 - val_loss: 0.0042\n",
            "Epoch 4/50\n",
            "36/36 [==============================] - 17s 467ms/step - loss: 0.0149 - val_loss: 0.0083\n",
            "Epoch 5/50\n",
            "36/36 [==============================] - 17s 473ms/step - loss: 0.0105 - val_loss: 0.0047\n",
            "Epoch 6/50\n",
            "36/36 [==============================] - 17s 472ms/step - loss: 0.0122 - val_loss: 0.0058\n",
            "Epoch 7/50\n",
            "36/36 [==============================] - 17s 469ms/step - loss: 0.0106 - val_loss: 0.0049\n",
            "Epoch 8/50\n",
            "36/36 [==============================] - 17s 473ms/step - loss: 0.0080 - val_loss: 0.0041\n",
            "Epoch 9/50\n",
            "36/36 [==============================] - 17s 472ms/step - loss: 0.0064 - val_loss: 0.0037\n",
            "Epoch 10/50\n",
            "36/36 [==============================] - 17s 469ms/step - loss: 0.0059 - val_loss: 0.0035\n",
            "Epoch 11/50\n",
            "36/36 [==============================] - 17s 479ms/step - loss: 0.0051 - val_loss: 0.0030\n",
            "Epoch 12/50\n",
            "36/36 [==============================] - 17s 468ms/step - loss: 0.0051 - val_loss: 0.0028\n",
            "Epoch 13/50\n",
            "36/36 [==============================] - 17s 471ms/step - loss: 0.0051 - val_loss: 0.0026\n",
            "Epoch 14/50\n",
            "36/36 [==============================] - 17s 473ms/step - loss: 0.0045 - val_loss: 0.0025\n",
            "Epoch 15/50\n",
            "36/36 [==============================] - 17s 472ms/step - loss: 0.0041 - val_loss: 0.0026\n",
            "Epoch 16/50\n",
            "36/36 [==============================] - 17s 472ms/step - loss: 0.0040 - val_loss: 0.0023\n",
            "Epoch 17/50\n",
            "36/36 [==============================] - 17s 471ms/step - loss: 0.0036 - val_loss: 0.0023\n",
            "Epoch 18/50\n",
            "36/36 [==============================] - 17s 469ms/step - loss: 0.0034 - val_loss: 0.0026\n",
            "Epoch 19/50\n",
            "36/36 [==============================] - 17s 469ms/step - loss: 0.0037 - val_loss: 0.0021\n",
            "Epoch 20/50\n",
            "36/36 [==============================] - 17s 473ms/step - loss: 0.0035 - val_loss: 0.0025\n",
            "Epoch 21/50\n",
            "36/36 [==============================] - 17s 470ms/step - loss: 0.0040 - val_loss: 0.0022\n",
            "Epoch 22/50\n",
            "36/36 [==============================] - 17s 471ms/step - loss: 0.0040 - val_loss: 0.0019\n",
            "Epoch 23/50\n",
            "36/36 [==============================] - 17s 469ms/step - loss: 0.0038 - val_loss: 0.0031\n",
            "Epoch 24/50\n",
            "36/36 [==============================] - 17s 471ms/step - loss: 0.0040 - val_loss: 0.0020\n",
            "Epoch 25/50\n",
            "36/36 [==============================] - 17s 471ms/step - loss: 0.0046 - val_loss: 0.0024\n",
            "Epoch 26/50\n",
            "36/36 [==============================] - 17s 476ms/step - loss: 0.0046 - val_loss: 0.0017\n",
            "Epoch 27/50\n",
            "36/36 [==============================] - 17s 472ms/step - loss: 0.0048 - val_loss: 0.0018\n",
            "Epoch 28/50\n",
            "36/36 [==============================] - 17s 472ms/step - loss: 0.0050 - val_loss: 0.0013\n",
            "Epoch 29/50\n",
            "36/36 [==============================] - 17s 474ms/step - loss: 0.0047 - val_loss: 6.8783e-04\n",
            "Epoch 30/50\n",
            "36/36 [==============================] - 17s 469ms/step - loss: 0.0042 - val_loss: 8.3695e-04\n",
            "Epoch 31/50\n",
            "36/36 [==============================] - 17s 472ms/step - loss: 0.0045 - val_loss: 6.6304e-04\n",
            "Epoch 32/50\n",
            "36/36 [==============================] - 17s 472ms/step - loss: 0.0041 - val_loss: 5.7761e-04\n",
            "Epoch 33/50\n",
            "36/36 [==============================] - 17s 469ms/step - loss: 0.0035 - val_loss: 7.8075e-04\n",
            "Epoch 34/50\n",
            "36/36 [==============================] - 17s 472ms/step - loss: 0.0031 - val_loss: 6.3617e-04\n",
            "Epoch 35/50\n",
            "36/36 [==============================] - 17s 475ms/step - loss: 0.0028 - val_loss: 6.4540e-04\n",
            "Epoch 36/50\n",
            "36/36 [==============================] - 17s 469ms/step - loss: 0.0027 - val_loss: 7.8506e-04\n",
            "Epoch 37/50\n",
            "36/36 [==============================] - 17s 472ms/step - loss: 0.0023 - val_loss: 7.2471e-04\n",
            "Epoch 38/50\n",
            "36/36 [==============================] - 17s 476ms/step - loss: 0.0024 - val_loss: 8.2886e-04\n",
            "Epoch 39/50\n",
            "36/36 [==============================] - 17s 470ms/step - loss: 0.0023 - val_loss: 0.0012\n",
            "Epoch 40/50\n",
            "36/36 [==============================] - 17s 472ms/step - loss: 0.0023 - val_loss: 0.0014\n",
            "Epoch 41/50\n",
            "36/36 [==============================] - 17s 474ms/step - loss: 0.0023 - val_loss: 0.0016\n",
            "Epoch 42/50\n",
            "36/36 [==============================] - 17s 467ms/step - loss: 0.0025 - val_loss: 0.0017\n",
            "Epoch 43/50\n",
            "36/36 [==============================] - 17s 467ms/step - loss: 0.0023 - val_loss: 0.0016\n",
            "Epoch 44/50\n",
            "36/36 [==============================] - 17s 472ms/step - loss: 0.0021 - val_loss: 0.0023\n",
            "Epoch 45/50\n",
            "36/36 [==============================] - 17s 469ms/step - loss: 0.0024 - val_loss: 0.0014\n",
            "Epoch 46/50\n",
            "36/36 [==============================] - 17s 472ms/step - loss: 0.0020 - val_loss: 0.0019\n",
            "Epoch 47/50\n",
            "36/36 [==============================] - 17s 470ms/step - loss: 0.0021 - val_loss: 0.0023\n",
            "Epoch 48/50\n",
            "36/36 [==============================] - 17s 466ms/step - loss: 0.0021 - val_loss: 0.0021\n",
            "Epoch 49/50\n",
            "36/36 [==============================] - 17s 475ms/step - loss: 0.0021 - val_loss: 0.0026\n",
            "Epoch 50/50\n",
            "36/36 [==============================] - 17s 469ms/step - loss: 0.0025 - val_loss: 0.0021\n",
            "WARNING:tensorflow:5 out of the last 9 calls to <function Model.make_predict_function.<locals>.predict_function at 0x7f5d66a3df80> triggered tf.function retracing. Tracing is expensive and the excessive number of tracings could be due to (1) creating @tf.function repeatedly in a loop, (2) passing tensors with different shapes, (3) passing Python objects instead of tensors. For (1), please define your @tf.function outside of the loop. For (2), @tf.function has experimental_relax_shapes=True option that relaxes argument shapes that can avoid unnecessary retracing. For (3), please refer to https://www.tensorflow.org/guide/function#controlling_retracing and https://www.tensorflow.org/api_docs/python/tf/function for  more details.\n",
            "MSE = 0.0003828455047045852\n",
            "RMSE = 0.019566438222236186\n",
            "R-Squared Score = 0.45056550225987213\n"
          ]
        },
        {
          "output_type": "display_data",
          "data": {
            "image/png": "[encoded data removed]",
            "text/plain": [
              "<Figure size 432x288 with 1 Axes>"
            ]
          },
          "metadata": {}
        },
        {
          "output_type": "stream",
          "name": "stdout",
          "text": [
            "train_error  [0.08980995416641235, 0.027438286691904068, 0.019524963572621346, 0.014902910217642784, 0.010505445301532745, 0.012180903926491737, 0.010628575459122658, 0.007973389700055122, 0.006444874685257673, 0.005894453264772892, 0.005053474102169275, 0.0051275864243507385, 0.005051253363490105, 0.004547820892184973, 0.0040717520751059055, 0.003973080310970545, 0.00358444987796247, 0.003351561026647687, 0.0037194080650806427, 0.0034958620090037584, 0.004028764553368092, 0.004010077565908432, 0.0037905897479504347, 0.003967683762311935, 0.004617779515683651, 0.004576091654598713, 0.0048231626860797405, 0.005015979055315256, 0.004694731906056404, 0.004220101051032543, 0.004518668167293072, 0.004057721234858036, 0.003458956256508827, 0.0030736136250197887, 0.002847585827112198, 0.0026689772494137287, 0.002349800430238247, 0.002392576774582267, 0.0023105056025087833, 0.002294467529281974, 0.0023167806211858988, 0.0025432477705180645, 0.002344343811273575, 0.002144951606169343, 0.0023576582316309214, 0.0019543699454516172, 0.0021195742301642895, 0.0021221719216555357, 0.002126209670677781, 0.002517674583941698]\n",
            "[[50, [60, 55], 0.001, 64, 50, 'mean_squared_error', 'selu', 0.002537284139543772, 0.006073606034624391]]\n"
          ]
        }
      ]
    },
    {
      "cell_type": "code",
      "source": [
        "results"
      ],
      "metadata": {
        "id": "kLagbWLQ_W-g",
        "colab": {
          "base_uri": "https://localhost:8080/"
        },
        "outputId": "3cd74258-994d-4200-befa-9f0d71ebbbed"
      },
      "execution_count": 52,
      "outputs": [
        {
          "output_type": "execute_result",
          "data": {
            "text/plain": [
              "[[50,\n",
              "  [60, 55],\n",
              "  0.001,\n",
              "  64,\n",
              "  50,\n",
              "  'mean_squared_error',\n",
              "  'selu',\n",
              "  0.002537284139543772,\n",
              "  0.006073606034624391]]"
            ]
          },
          "metadata": {},
          "execution_count": 52
        }
      ]
    },
    {
      "cell_type": "code",
      "source": [
        "cross_val_results"
      ],
      "metadata": {
        "colab": {
          "base_uri": "https://localhost:8080/"
        },
        "id": "SvArg1WHeLqn",
        "outputId": "ed417e26-f8c7-4d2a-c391-6acd4a1d0e0f"
      },
      "execution_count": 53,
      "outputs": [
        {
          "output_type": "execute_result",
          "data": {
            "text/plain": [
              "[[0.00020090073183243656, 0.014173945528060864, 0.7116805830718771, 0],\n",
              " [0.00015148051610536556, 0.012307742120525827, 0.7826052016779235, 0],\n",
              " [0.00012619298847348404, 0.011233565261015046, 0.818896185567713, 0],\n",
              " [0.00015321995740338743, 0.012378204934617436, 0.7801088707972343, 0],\n",
              " [0.0003828455047045852, 0.019566438222236186, 0.45056550225987213, 0]]"
            ]
          },
          "metadata": {},
          "execution_count": 53
        }
      ]
    },
    {
      "cell_type": "code",
      "source": [
        "# Data (train,val,test data) for Building model\n",
        "train_start = dt.date(2010,1,4)\n",
        "train_end = dt.date(2019,12,31)\n",
        "train_data = series.loc[train_start:train_end]\n",
        "\n",
        "val_start = dt.date(2020,1,1)\n",
        "val_end = dt.date(2021,6,30)\n",
        "val_data = series.loc[val_start:val_end]\n",
        "\n",
        "test_start = dt.date(2021,7,1)\n",
        "test_end = dt.date(2021,11,26)\n",
        "test_data = series.loc[test_start:test_end]\n",
        "\n",
        "print(train_data.shape,val_data.shape,test_data.shape)"
      ],
      "metadata": {
        "colab": {
          "base_uri": "https://localhost:8080/"
        },
        "id": "PVHq9iLoRzUR",
        "outputId": "cf1abf2b-0526-4dc8-faaf-34a7d74682d5"
      },
      "execution_count": 64,
      "outputs": [
        {
          "output_type": "stream",
          "name": "stdout",
          "text": [
            "(2516, 3) (377, 3) (104, 3)\n"
          ]
        }
      ]
    },
    {
      "cell_type": "code",
      "source": [
        "# Normalisation\n",
        "from sklearn.preprocessing import MinMaxScaler\n",
        "sc = MinMaxScaler(feature_range = (0, 1))\n",
        "\n",
        "train = sc.fit_transform(train_data)\n",
        "val = sc.fit_transform(val_data)\n",
        "test = sc.transform(test_data)\n",
        "print(train.shape,val.shape,test.shape)"
      ],
      "metadata": {
        "colab": {
          "base_uri": "https://localhost:8080/"
        },
        "id": "yC8V5svPWFFq",
        "outputId": "24a80e90-a33b-4a92-9082-156c1df5b24e"
      },
      "execution_count": 65,
      "outputs": [
        {
          "output_type": "stream",
          "name": "stdout",
          "text": [
            "(2516, 3) (377, 3) (104, 3)\n"
          ]
        }
      ]
    },
    {
      "cell_type": "code",
      "source": [
        "# Parameters\n",
        "timesteps = 50\n",
        "hl = [60,55]\n",
        "lr = 1e-3\n",
        "batch = 64\n",
        "epochs = 100\n",
        "#optimizers = ['Adam']\n",
        "loss = 'mean_squared_error'\n",
        "activation = 'selu'"
      ],
      "metadata": {
        "id": "D1a0hsXrfKul"
      },
      "execution_count": 66,
      "outputs": []
    },
    {
      "cell_type": "code",
      "source": [
        "X_train = []\n",
        "Y_train = []\n",
        "X_val = []\n",
        "Y_val = []\n",
        "  \n",
        "# Loop for training data\n",
        "for i in range(timesteps,train.shape[0]):\n",
        "    X_train.append(train[i-timesteps:i])\n",
        "    Y_train.append(train[i][0])\n",
        "X_train,Y_train = np.array(X_train),np.array(Y_train)\n",
        "  \n",
        "# Loop for val data\n",
        "for i in range(timesteps,val.shape[0]):\n",
        "    X_val.append(val[i-timesteps:i])\n",
        "    Y_val.append(val[i][0])\n",
        "X_val,Y_val = np.array(X_val),np.array(Y_val)\n",
        "    \n",
        "# Adding Layers to the model\n",
        "model = Sequential()\n",
        "#Adding the first LSTM layer and some Dropout regularisation\n",
        "model.add(LSTM(units = 50, activation = activation, return_sequences = True, input_shape = (X_train.shape[1],X_train.shape[2])))\n",
        "model.add(Dropout(0.2))\n",
        "# Adding LSTM layers and some Dropout regularisation\n",
        "for i in range(len(hl)-1):        \n",
        "  model.add(LSTM(hl[i], activation = activation,return_sequences = True))\n",
        "  #model.add(Dropout(0.2))\n",
        "model.add(LSTM(hl[-1],activation = activation))\n",
        "model.add(Dropout(0.2))\n",
        "# Adding the output layer\n",
        "model.add(Dense(units = 1))\n",
        "\n",
        "# Compiling the RNN\n",
        "model.compile(optimizer = tf.keras.optimizers.Adam(learning_rate= lr), loss = loss)\n",
        "    \n",
        "# Training the data\n",
        "history = model.fit(X_train,Y_train,epochs = epochs,batch_size = batch,validation_data = (X_val, Y_val),verbose = 1,\n",
        "                        shuffle = False, callbacks=callbacks_list)\n",
        "model.reset_states()\n",
        "#model, history.history['loss'], history.history['val_loss']"
      ],
      "metadata": {
        "colab": {
          "base_uri": "https://localhost:8080/"
        },
        "id": "1PYpHZakgeWJ",
        "outputId": "3afb6ffd-4e63-4360-b232-edbaf368df4f"
      },
      "execution_count": 67,
      "outputs": [
        {
          "output_type": "stream",
          "name": "stdout",
          "text": [
            "Epoch 1/100\n",
            "39/39 [==============================] - 24s 482ms/step - loss: 0.0284 - val_loss: 0.0103\n",
            "Epoch 2/100\n",
            "39/39 [==============================] - 18s 472ms/step - loss: 0.0098 - val_loss: 0.0163\n",
            "Epoch 3/100\n",
            "39/39 [==============================] - 18s 466ms/step - loss: 0.0159 - val_loss: 0.0102\n",
            "Epoch 4/100\n",
            "39/39 [==============================] - 18s 465ms/step - loss: 0.0147 - val_loss: 0.0114\n",
            "Epoch 5/100\n",
            "39/39 [==============================] - 18s 470ms/step - loss: 0.0123 - val_loss: 0.0076\n",
            "Epoch 6/100\n",
            "39/39 [==============================] - 18s 464ms/step - loss: 0.0093 - val_loss: 0.0088\n",
            "Epoch 7/100\n",
            "39/39 [==============================] - 18s 462ms/step - loss: 0.0091 - val_loss: 0.0045\n",
            "Epoch 8/100\n",
            "39/39 [==============================] - 18s 467ms/step - loss: 0.0054 - val_loss: 0.0058\n",
            "Epoch 9/100\n",
            "39/39 [==============================] - 18s 464ms/step - loss: 0.0055 - val_loss: 0.0042\n",
            "Epoch 10/100\n",
            "39/39 [==============================] - 18s 470ms/step - loss: 0.0042 - val_loss: 0.0042\n",
            "Epoch 11/100\n",
            "39/39 [==============================] - 18s 466ms/step - loss: 0.0030 - val_loss: 0.0040\n",
            "Epoch 12/100\n",
            "39/39 [==============================] - 18s 461ms/step - loss: 0.0029 - val_loss: 0.0040\n",
            "Epoch 13/100\n",
            "39/39 [==============================] - 18s 466ms/step - loss: 0.0028 - val_loss: 0.0037\n",
            "Epoch 14/100\n",
            "39/39 [==============================] - 18s 466ms/step - loss: 0.0030 - val_loss: 0.0038\n",
            "Epoch 15/100\n",
            "39/39 [==============================] - 18s 467ms/step - loss: 0.0026 - val_loss: 0.0037\n",
            "Epoch 16/100\n",
            "39/39 [==============================] - 18s 469ms/step - loss: 0.0032 - val_loss: 0.0036\n",
            "Epoch 17/100\n",
            "39/39 [==============================] - 18s 470ms/step - loss: 0.0028 - val_loss: 0.0039\n",
            "Epoch 18/100\n",
            "39/39 [==============================] - 18s 465ms/step - loss: 0.0039 - val_loss: 0.0035\n",
            "Epoch 19/100\n",
            "39/39 [==============================] - 18s 465ms/step - loss: 0.0030 - val_loss: 0.0038\n",
            "Epoch 20/100\n",
            "39/39 [==============================] - 18s 463ms/step - loss: 0.0031 - val_loss: 0.0034\n",
            "Epoch 21/100\n",
            "39/39 [==============================] - 18s 465ms/step - loss: 0.0026 - val_loss: 0.0037\n",
            "Epoch 22/100\n",
            "39/39 [==============================] - 18s 461ms/step - loss: 0.0028 - val_loss: 0.0032\n",
            "Epoch 23/100\n",
            "39/39 [==============================] - 18s 462ms/step - loss: 0.0025 - val_loss: 0.0035\n",
            "Epoch 24/100\n",
            "39/39 [==============================] - 18s 464ms/step - loss: 0.0023 - val_loss: 0.0030\n",
            "Epoch 25/100\n",
            "39/39 [==============================] - 18s 464ms/step - loss: 0.0023 - val_loss: 0.0030\n",
            "Epoch 26/100\n",
            "39/39 [==============================] - 18s 463ms/step - loss: 0.0025 - val_loss: 0.0031\n",
            "Epoch 27/100\n",
            "39/39 [==============================] - 18s 463ms/step - loss: 0.0035 - val_loss: 0.0029\n",
            "Epoch 28/100\n",
            "39/39 [==============================] - 18s 470ms/step - loss: 0.0028 - val_loss: 0.0037\n",
            "Epoch 29/100\n",
            "39/39 [==============================] - 18s 465ms/step - loss: 0.0031 - val_loss: 0.0035\n",
            "Epoch 30/100\n",
            "39/39 [==============================] - 18s 463ms/step - loss: 0.0032 - val_loss: 0.0033\n",
            "Epoch 31/100\n",
            "39/39 [==============================] - 18s 474ms/step - loss: 0.0029 - val_loss: 0.0035\n",
            "Epoch 32/100\n",
            "39/39 [==============================] - 19s 477ms/step - loss: 0.0029 - val_loss: 0.0029\n",
            "Epoch 33/100\n",
            "39/39 [==============================] - 18s 470ms/step - loss: 0.0022 - val_loss: 0.0034\n",
            "Epoch 34/100\n",
            "39/39 [==============================] - 18s 469ms/step - loss: 0.0024 - val_loss: 0.0026\n",
            "Epoch 35/100\n",
            "39/39 [==============================] - 18s 458ms/step - loss: 0.0022 - val_loss: 0.0028\n",
            "Epoch 36/100\n",
            "39/39 [==============================] - 18s 466ms/step - loss: 0.0020 - val_loss: 0.0026\n",
            "Epoch 37/100\n",
            "39/39 [==============================] - 18s 467ms/step - loss: 0.0019 - val_loss: 0.0026\n",
            "Epoch 38/100\n",
            "39/39 [==============================] - 18s 461ms/step - loss: 0.0021 - val_loss: 0.0025\n",
            "Epoch 39/100\n",
            "39/39 [==============================] - 18s 461ms/step - loss: 0.0020 - val_loss: 0.0025\n",
            "Epoch 40/100\n",
            "39/39 [==============================] - 18s 465ms/step - loss: 0.0020 - val_loss: 0.0023\n",
            "Epoch 41/100\n",
            "39/39 [==============================] - 18s 470ms/step - loss: 0.0020 - val_loss: 0.0024\n",
            "Epoch 42/100\n",
            "39/39 [==============================] - 18s 465ms/step - loss: 0.0021 - val_loss: 0.0023\n",
            "Epoch 43/100\n",
            "39/39 [==============================] - 18s 464ms/step - loss: 0.0022 - val_loss: 0.0025\n",
            "Epoch 44/100\n",
            "39/39 [==============================] - 18s 466ms/step - loss: 0.0027 - val_loss: 0.0028\n",
            "Epoch 45/100\n",
            "39/39 [==============================] - 18s 462ms/step - loss: 0.0029 - val_loss: 0.0029\n",
            "Epoch 46/100\n",
            "39/39 [==============================] - 18s 461ms/step - loss: 0.0029 - val_loss: 0.0040\n",
            "Epoch 47/100\n",
            "39/39 [==============================] - 18s 464ms/step - loss: 0.0035 - val_loss: 0.0027\n",
            "Epoch 48/100\n",
            "39/39 [==============================] - 18s 461ms/step - loss: 0.0026 - val_loss: 0.0033\n",
            "Epoch 49/100\n",
            "39/39 [==============================] - 18s 460ms/step - loss: 0.0023 - val_loss: 0.0027\n",
            "Epoch 50/100\n",
            "39/39 [==============================] - 18s 460ms/step - loss: 0.0019 - val_loss: 0.0023\n",
            "Epoch 51/100\n",
            "39/39 [==============================] - 18s 463ms/step - loss: 0.0019 - val_loss: 0.0025\n",
            "Epoch 52/100\n",
            "39/39 [==============================] - 18s 461ms/step - loss: 0.0019 - val_loss: 0.0021\n",
            "Epoch 53/100\n",
            "39/39 [==============================] - 18s 461ms/step - loss: 0.0019 - val_loss: 0.0025\n",
            "Epoch 54/100\n",
            "39/39 [==============================] - 18s 464ms/step - loss: 0.0019 - val_loss: 0.0021\n",
            "Epoch 55/100\n",
            "39/39 [==============================] - 18s 461ms/step - loss: 0.0019 - val_loss: 0.0021\n",
            "Epoch 56/100\n",
            "39/39 [==============================] - 18s 461ms/step - loss: 0.0018 - val_loss: 0.0021\n",
            "Epoch 57/100\n",
            "39/39 [==============================] - 18s 459ms/step - loss: 0.0016 - val_loss: 0.0022\n",
            "Epoch 58/100\n",
            "39/39 [==============================] - 18s 469ms/step - loss: 0.0017 - val_loss: 0.0020\n",
            "Epoch 59/100\n",
            "39/39 [==============================] - 18s 459ms/step - loss: 0.0018 - val_loss: 0.0019\n",
            "Epoch 60/100\n",
            "39/39 [==============================] - 18s 460ms/step - loss: 0.0015 - val_loss: 0.0019\n",
            "Epoch 61/100\n",
            "39/39 [==============================] - 18s 459ms/step - loss: 0.0016 - val_loss: 0.0019\n",
            "Epoch 62/100\n",
            "39/39 [==============================] - 18s 462ms/step - loss: 0.0016 - val_loss: 0.0018\n",
            "Epoch 63/100\n",
            "39/39 [==============================] - 18s 462ms/step - loss: 0.0016 - val_loss: 0.0017\n",
            "Epoch 64/100\n",
            "39/39 [==============================] - 18s 466ms/step - loss: 0.0017 - val_loss: 0.0018\n",
            "Epoch 65/100\n",
            "39/39 [==============================] - 18s 461ms/step - loss: 0.0015 - val_loss: 0.0016\n",
            "Epoch 66/100\n",
            "39/39 [==============================] - 18s 457ms/step - loss: 0.0018 - val_loss: 0.0020\n",
            "Epoch 67/100\n",
            "39/39 [==============================] - 18s 463ms/step - loss: 0.0017 - val_loss: 0.0016\n",
            "Epoch 68/100\n",
            "39/39 [==============================] - 18s 467ms/step - loss: 0.0018 - val_loss: 0.0016\n",
            "Epoch 69/100\n",
            "39/39 [==============================] - 18s 462ms/step - loss: 0.0019 - val_loss: 0.0022\n",
            "Epoch 70/100\n",
            "39/39 [==============================] - 18s 461ms/step - loss: 0.0023 - val_loss: 0.0018\n",
            "Epoch 71/100\n",
            "39/39 [==============================] - 18s 467ms/step - loss: 0.0020 - val_loss: 0.0020\n",
            "Epoch 72/100\n",
            "39/39 [==============================] - 18s 464ms/step - loss: 0.0028 - val_loss: 0.0020\n",
            "Epoch 73/100\n",
            "39/39 [==============================] - 18s 464ms/step - loss: 0.0020 - val_loss: 0.0018\n",
            "Epoch 74/100\n",
            "39/39 [==============================] - 18s 460ms/step - loss: 0.0020 - val_loss: 0.0026\n",
            "Epoch 75/100\n",
            "39/39 [==============================] - 18s 465ms/step - loss: 0.0018 - val_loss: 0.0019\n",
            "Epoch 76/100\n",
            "39/39 [==============================] - 18s 464ms/step - loss: 0.0019 - val_loss: 0.0021\n",
            "Epoch 77/100\n",
            "39/39 [==============================] - 18s 462ms/step - loss: 0.0016 - val_loss: 0.0021\n",
            "Epoch 78/100\n",
            "39/39 [==============================] - 18s 467ms/step - loss: 0.0017 - val_loss: 0.0020\n",
            "Epoch 79/100\n",
            "39/39 [==============================] - 18s 460ms/step - loss: 0.0015 - val_loss: 0.0017\n",
            "Epoch 80/100\n",
            "39/39 [==============================] - 18s 465ms/step - loss: 0.0017 - val_loss: 0.0020\n",
            "Epoch 81/100\n",
            "39/39 [==============================] - 18s 465ms/step - loss: 0.0017 - val_loss: 0.0022\n",
            "Epoch 82/100\n",
            "39/39 [==============================] - 18s 470ms/step - loss: 0.0017 - val_loss: 0.0018\n",
            "Epoch 83/100\n",
            "39/39 [==============================] - 18s 468ms/step - loss: 0.0016 - val_loss: 0.0016\n",
            "Epoch 84/100\n",
            "39/39 [==============================] - 18s 468ms/step - loss: 0.0015 - val_loss: 0.0019\n",
            "Epoch 85/100\n",
            "39/39 [==============================] - 18s 470ms/step - loss: 0.0015 - val_loss: 0.0017\n",
            "Epoch 86/100\n",
            "39/39 [==============================] - 18s 466ms/step - loss: 0.0014 - val_loss: 0.0016\n",
            "Epoch 87/100\n",
            "39/39 [==============================] - 18s 464ms/step - loss: 0.0014 - val_loss: 0.0015\n",
            "Epoch 88/100\n",
            "39/39 [==============================] - 18s 467ms/step - loss: 0.0014 - val_loss: 0.0015\n",
            "Epoch 89/100\n",
            "39/39 [==============================] - 18s 461ms/step - loss: 0.0013 - val_loss: 0.0014\n",
            "Epoch 90/100\n",
            "39/39 [==============================] - 18s 463ms/step - loss: 0.0015 - val_loss: 0.0016\n",
            "Epoch 91/100\n",
            "39/39 [==============================] - 18s 471ms/step - loss: 0.0013 - val_loss: 0.0015\n",
            "Epoch 92/100\n",
            "39/39 [==============================] - 18s 460ms/step - loss: 0.0014 - val_loss: 0.0014\n",
            "Epoch 93/100\n",
            "39/39 [==============================] - 18s 463ms/step - loss: 0.0013 - val_loss: 0.0014\n",
            "Epoch 94/100\n",
            "39/39 [==============================] - 18s 467ms/step - loss: 0.0012 - val_loss: 0.0013\n",
            "Epoch 95/100\n",
            "39/39 [==============================] - 18s 464ms/step - loss: 0.0011 - val_loss: 0.0014\n",
            "Epoch 96/100\n",
            "39/39 [==============================] - 18s 462ms/step - loss: 0.0013 - val_loss: 0.0016\n",
            "Epoch 97/100\n",
            "39/39 [==============================] - 18s 459ms/step - loss: 0.0013 - val_loss: 0.0014\n",
            "Epoch 98/100\n",
            "39/39 [==============================] - 18s 466ms/step - loss: 0.0021 - val_loss: 0.0013\n",
            "Epoch 99/100\n",
            "39/39 [==============================] - 18s 463ms/step - loss: 0.0018 - val_loss: 0.0013\n",
            "Epoch 100/100\n",
            "39/39 [==============================] - 18s 465ms/step - loss: 0.0018 - val_loss: 0.0014\n"
          ]
        }
      ]
    },
    {
      "cell_type": "code",
      "source": [
        "results = list()\n",
        "cross_val_results = list()\n",
        "\n",
        "mse, rmse, r2_value,true,predicted = evaluate_model(model,test,timesteps)\n",
        "\n",
        "print('MSE = {}'.format(mse))\n",
        "print('RMSE = {}'.format(rmse))\n",
        "print('R-Squared Score = {}'.format(r2_value))\n",
        "                      \n",
        "plot_data(true,predicted)\n"
      ],
      "metadata": {
        "colab": {
          "base_uri": "https://localhost:8080/",
          "height": 351
        },
        "id": "QMygZd4WjqEw",
        "outputId": "63a58dc5-69bd-413e-f42b-dfe5b2d08a44"
      },
      "execution_count": 68,
      "outputs": [
        {
          "output_type": "stream",
          "name": "stdout",
          "text": [
            "MSE = 0.0014981071162395126\n",
            "RMSE = 0.03870538872352935\n",
            "R-Squared Score = 0.8876417258075385\n"
          ]
        },
        {
          "output_type": "display_data",
          "data": {
            "image/png": "[encoded data removed]",
            "text/plain": [
              "<Figure size 432x288 with 1 Axes>"
            ]
          },
          "metadata": {}
        }
      ]
    },
    {
      "cell_type": "code",
      "source": [
        "import matplotlib.pyplot as pyplot\n",
        "pyplot.plot(history.history['loss'], label='train')\n",
        "pyplot.plot(history.history['val_loss'], label='test')\n",
        "pyplot.legend()\n",
        "pyplot.show()"
      ],
      "metadata": {
        "id": "th2u9Yu49N0e",
        "outputId": "8a862ff2-c23c-485d-fe1b-1b2eeadca03a",
        "colab": {
          "base_uri": "https://localhost:8080/",
          "height": 265
        }
      },
      "execution_count": 69,
      "outputs": [
        {
          "output_type": "display_data",
          "data": {
            "image/png": "[encoded data removed]",
            "text/plain": [
              "<Figure size 432x288 with 1 Axes>"
            ]
          },
          "metadata": {}
        }
      ]
    },
    {
      "cell_type": "code",
      "source": [
        "model.summary()"
      ],
      "metadata": {
        "colab": {
          "base_uri": "https://localhost:8080/"
        },
        "id": "5Y8hwnKCwmoZ",
        "outputId": "79e5a910-39f1-4f93-e7fe-2efa8c85fd7f"
      },
      "execution_count": 70,
      "outputs": [
        {
          "output_type": "stream",
          "name": "stdout",
          "text": [
            "Model: \"sequential_6\"\n",
            "_________________________________________________________________\n",
            " Layer (type)                Output Shape              Param #   \n",
            "=================================================================\n",
            " lstm_18 (LSTM)              (None, 50, 50)            10800     \n",
            "                                                                 \n",
            " dropout_12 (Dropout)        (None, 50, 50)            0         \n",
            "                                                                 \n",
            " lstm_19 (LSTM)              (None, 50, 60)            26640     \n",
            "                                                                 \n",
            " lstm_20 (LSTM)              (None, 55)                25520     \n",
            "                                                                 \n",
            " dropout_13 (Dropout)        (None, 55)                0         \n",
            "                                                                 \n",
            " dense_6 (Dense)             (None, 1)                 56        \n",
            "                                                                 \n",
            "=================================================================\n",
            "Total params: 63,016\n",
            "Trainable params: 63,016\n",
            "Non-trainable params: 0\n",
            "_________________________________________________________________\n"
          ]
        }
      ]
    },
    {
      "cell_type": "code",
      "source": [
        "print(history.history['loss'])"
      ],
      "metadata": {
        "colab": {
          "base_uri": "https://localhost:8080/"
        },
        "id": "xKs4uSA7yoIN",
        "outputId": "e8b90504-05f2-4a56-97c9-cbf1787ba1de"
      },
      "execution_count": 71,
      "outputs": [
        {
          "output_type": "stream",
          "name": "stdout",
          "text": [
            "[0.028415268287062645, 0.009822038002312183, 0.015857525169849396, 0.014721237123012543, 0.012334727682173252, 0.009292937815189362, 0.009077480994164944, 0.005449837073683739, 0.005544764455407858, 0.004197289235889912, 0.0030416271183639765, 0.002921321662142873, 0.0027752493042498827, 0.0030023183207958937, 0.002641631755977869, 0.00317767565138638, 0.0027969982475042343, 0.003852288005873561, 0.0030407682061195374, 0.003079264424741268, 0.0026172492653131485, 0.00281531666405499, 0.002545091323554516, 0.0023382948711514473, 0.0023179538547992706, 0.0024746176786720753, 0.0034817561972886324, 0.0027730048168450594, 0.003127530450001359, 0.0031598403584212065, 0.002894788281992078, 0.0028970292769372463, 0.0022232811897993088, 0.0023708981461822987, 0.002198403002694249, 0.0020228740759193897, 0.0019364662002772093, 0.002092045499011874, 0.0020238826982676983, 0.001980825560167432, 0.001963709481060505, 0.0021364481654018164, 0.0021950695663690567, 0.0026663863100111485, 0.0029209458734840155, 0.002872558543458581, 0.0035026613622903824, 0.002634710632264614, 0.0023285725619643927, 0.0018745275447145104, 0.001913257292471826, 0.0019030892290174961, 0.001871243817731738, 0.0019155637128278613, 0.0018521054880693555, 0.0017631032969802618, 0.0016007181257009506, 0.0016780206933617592, 0.0018486500484868884, 0.0015113328117877245, 0.0016150035662576556, 0.0016099330969154835, 0.0016407364746555686, 0.0017390830907970667, 0.00145141058601439, 0.001807335764169693, 0.001747898175381124, 0.0017689578235149384, 0.0018570972606539726, 0.0022567498963326216, 0.0020438178908079863, 0.002762583317235112, 0.001958591630682349, 0.002039931947365403, 0.0018256009789183736, 0.0018701562657952309, 0.0015873541124165058, 0.0017269377131015062, 0.0015045388136059046, 0.0017359256744384766, 0.0016582412645220757, 0.0016780680743977427, 0.0016433659475296736, 0.0014673357363790274, 0.0015051887603476644, 0.001363067189231515, 0.001445884583517909, 0.0013924991944804788, 0.0013216063380241394, 0.0014881872339174151, 0.0013275612145662308, 0.0013991908635944128, 0.001304641948081553, 0.001226716092787683, 0.0011410847073420882, 0.001270105130970478, 0.0013192823389545083, 0.0020680290181189775, 0.0018170143011957407, 0.0018326007993891835]\n"
          ]
        }
      ]
    },
    {
      "cell_type": "code",
      "source": [
        "print(history.history['val_loss'])"
      ],
      "metadata": {
        "colab": {
          "base_uri": "https://localhost:8080/"
        },
        "id": "RthHAQony11H",
        "outputId": "0fd15702-4470-4301-e7e0-576ad82440f7"
      },
      "execution_count": 72,
      "outputs": [
        {
          "output_type": "stream",
          "name": "stdout",
          "text": [
            "[0.010317390784621239, 0.016270233318209648, 0.010195312090218067, 0.011370114982128143, 0.007586444728076458, 0.00875844806432724, 0.004531411454081535, 0.005834460258483887, 0.004194081295281649, 0.0042202528566122055, 0.003990876022726297, 0.0039558252319693565, 0.003724012989550829, 0.003759960411116481, 0.0036649322137236595, 0.0035577614326030016, 0.0038716071285307407, 0.0035244054161012173, 0.0037885510828346014, 0.0034223704133182764, 0.0036646754015237093, 0.003192585427314043, 0.0035067943390458822, 0.003005252918228507, 0.0030489310156553984, 0.003095522290095687, 0.0029027096461504698, 0.0037054847925901413, 0.0035405289381742477, 0.003339244984090328, 0.0034624706022441387, 0.0029433288145810366, 0.003431208897382021, 0.002628678921610117, 0.0028208207804709673, 0.0025747818872332573, 0.0025723143480718136, 0.002450404455885291, 0.0025237451773136854, 0.0023348082322627306, 0.0023888072464615107, 0.002250113058835268, 0.00250192335806787, 0.0028090111445635557, 0.002934088697656989, 0.004011095501482487, 0.0026986259035766125, 0.0033466739114373922, 0.0026774797588586807, 0.00234343227930367, 0.002487161895260215, 0.0021294057369232178, 0.0024523448664695024, 0.0020726255606859922, 0.0020643246825784445, 0.002060279017314315, 0.0021510112565010786, 0.00195927731692791, 0.0019119292264804244, 0.0019116966286674142, 0.0018882016884163022, 0.0018341508693993092, 0.0016965550603345037, 0.0017576972022652626, 0.001640535774640739, 0.0020184307359158993, 0.0016435555880889297, 0.0016102041117846966, 0.0022120673675090075, 0.001776056713424623, 0.0020136204548180103, 0.0019716292154043913, 0.0018386212177574635, 0.002646590815857053, 0.001857485738582909, 0.00205466290935874, 0.002090793801471591, 0.00197899853810668, 0.0016917150933295488, 0.001976046711206436, 0.00215019634924829, 0.0017856897320598364, 0.0015889963833615184, 0.0018661515787243843, 0.0016765977488830686, 0.0016478238394483924, 0.0015424912562593818, 0.00145076890476048, 0.0014369204873219132, 0.0016107858391478658, 0.0015338356606662273, 0.0014004168333485723, 0.0013942404184490442, 0.0013466853415593505, 0.0013608414446935058, 0.0016275534871965647, 0.001398446736857295, 0.0012898884015157819, 0.0013283166335895658, 0.0014049651799723506]\n"
          ]
        }
      ]
    },
    {
      "cell_type": "code",
      "source": [
        "model.save('DL_Project_LSTM_20220110')"
      ],
      "metadata": {
        "id": "eecBzK3VcUcs",
        "colab": {
          "base_uri": "https://localhost:8080/"
        },
        "outputId": "3b6289cd-75e2-4b90-94c8-a3bde2f2761a"
      },
      "execution_count": 73,
      "outputs": [
        {
          "output_type": "stream",
          "name": "stdout",
          "text": [
            "INFO:tensorflow:Assets written to: DL_Project_LSTM_20220110/assets\n"
          ]
        },
        {
          "output_type": "stream",
          "name": "stderr",
          "text": [
            "INFO:tensorflow:Assets written to: DL_Project_LSTM_20220110/assets\n",
            "WARNING:absl:<keras.layers.recurrent.LSTM object at 0x7f5d68b32b90> has the same name 'LSTM' as a built-in Keras object. Consider renaming <class 'keras.layers.recurrent.LSTM'> to avoid naming conflicts when loading with `tf.keras.models.load_model`. If renaming is not possible, pass the object in the `custom_objects` parameter of the load function.\n",
            "WARNING:absl:<keras.layers.recurrent.LSTM object at 0x7f5d6684e0d0> has the same name 'LSTM' as a built-in Keras object. Consider renaming <class 'keras.layers.recurrent.LSTM'> to avoid naming conflicts when loading with `tf.keras.models.load_model`. If renaming is not possible, pass the object in the `custom_objects` parameter of the load function.\n",
            "WARNING:absl:<keras.layers.recurrent.LSTM object at 0x7f5d6577dd50> has the same name 'LSTM' as a built-in Keras object. Consider renaming <class 'keras.layers.recurrent.LSTM'> to avoid naming conflicts when loading with `tf.keras.models.load_model`. If renaming is not possible, pass the object in the `custom_objects` parameter of the load function.\n",
            "WARNING:absl:<keras.layers.recurrent.LSTMCell object at 0x7f5d6636a110> has the same name 'LSTMCell' as a built-in Keras object. Consider renaming <class 'keras.layers.recurrent.LSTMCell'> to avoid naming conflicts when loading with `tf.keras.models.load_model`. If renaming is not possible, pass the object in the `custom_objects` parameter of the load function.\n",
            "WARNING:absl:<keras.layers.recurrent.LSTMCell object at 0x7f5d68a71cd0> has the same name 'LSTMCell' as a built-in Keras object. Consider renaming <class 'keras.layers.recurrent.LSTMCell'> to avoid naming conflicts when loading with `tf.keras.models.load_model`. If renaming is not possible, pass the object in the `custom_objects` parameter of the load function.\n",
            "WARNING:absl:<keras.layers.recurrent.LSTMCell object at 0x7f5d66947610> has the same name 'LSTMCell' as a built-in Keras object. Consider renaming <class 'keras.layers.recurrent.LSTMCell'> to avoid naming conflicts when loading with `tf.keras.models.load_model`. If renaming is not possible, pass the object in the `custom_objects` parameter of the load function.\n"
          ]
        }
      ]
    }
  ]
}