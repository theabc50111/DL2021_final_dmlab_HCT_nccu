{
 "cells": [
  {
   "cell_type": "code",
   "execution_count": 1,
   "metadata": {
    "colab": {
     "base_uri": "https://localhost:8080/"
    },
    "id": "_u_Bqxa2KvLQ",
    "outputId": "c2f7e974-4c51-4a43-f322-cf3bd14c63ca"
   },
   "outputs": [
    {
     "name": "stdout",
     "output_type": "stream",
     "text": [
      "time: 309 µs (started: 2022-01-08 04:44:45 +00:00)\n"
     ]
    }
   ],
   "source": [
    "# from google.colab import drive\n",
    "# drive.mount('/content/drive')"
   ]
  },
  {
   "cell_type": "code",
   "execution_count": 2,
   "metadata": {
    "id": "u7wI7_OcVRNN"
   },
   "outputs": [
    {
     "name": "stdout",
     "output_type": "stream",
     "text": [
      "time: 1.64 s (started: 2022-01-08 04:44:45 +00:00)\n"
     ]
    }
   ],
   "source": [
    "# https://github.com/ninja3697/Stocks-Price-Prediction-using-Multivariate-Analysis/blob/master/Multivatiate-LSTM/.ipynb_checkpoints/Multivariate-3-LSTM-Copy1-checkpoint.ipynb\n",
    "# Importing dependencies\n",
    "\n",
    "import numpy as np\n",
    "np.random.seed(1)\n",
    "import tensorflow as tf\n",
    "tf.random.set_seed(2)\n",
    "import pandas as pd\n",
    "import matplotlib.pyplot as plt\n",
    "from tensorflow.keras.models import Sequential, load_model\n",
    "from keras.layers.core import Dense\n",
    "from keras.layers.recurrent import LSTM\n",
    "from tensorflow.keras import optimizers\n",
    "from tensorflow.keras.callbacks import EarlyStopping\n",
    "from sklearn.preprocessing import MinMaxScaler\n",
    "from sklearn.metrics import mean_squared_error, r2_score\n",
    "from keras.layers import Dropout\n",
    "from sklearn.model_selection import KFold\n",
    "from math import sqrt\n",
    "import datetime as dt\n",
    "plt.style.use('ggplot')"
   ]
  },
  {
   "cell_type": "code",
   "execution_count": 3,
   "metadata": {
    "colab": {
     "base_uri": "https://localhost:8080/"
    },
    "id": "WXb-8StpLHcy",
    "outputId": "2eeede5b-7217-4f87-db7b-96a10ab8c87e"
   },
   "outputs": [
    {
     "name": "stdout",
     "output_type": "stream",
     "text": [
      "time: 293 µs (started: 2022-01-08 04:44:46 +00:00)\n"
     ]
    }
   ],
   "source": [
    "# %cd '/content/drive/Shareddrives/myShareDrive'"
   ]
  },
  {
   "cell_type": "code",
   "execution_count": 4,
   "metadata": {
    "colab": {
     "base_uri": "https://localhost:8080/"
    },
    "id": "p8XOk-KrNS1_",
    "outputId": "5f54b834-fb34-4412-8a8a-7c1edc8463dd"
   },
   "outputs": [
    {
     "name": "stdout",
     "output_type": "stream",
     "text": [
      "time: 1.45 s (started: 2022-01-08 04:44:46 +00:00)\n"
     ]
    }
   ],
   "source": [
    "#data = pd.read_csv('./dataset/FS_sp500_Value.csv', parse_dates=['Date'], infer_datetime_format=True)\n",
    "data = pd.read_csv('./dataset/FS_sp500_Value.csv', parse_dates=['Date'], infer_datetime_format=True, index_col=0)"
   ]
  },
  {
   "cell_type": "code",
   "execution_count": 5,
   "metadata": {
    "id": "M4pixtAQOou_"
   },
   "outputs": [
    {
     "name": "stdout",
     "output_type": "stream",
     "text": [
      "time: 18.3 ms (started: 2022-01-08 04:44:48 +00:00)\n"
     ]
    }
   ],
   "source": [
    "#data_APA = data.query('Ticker == \"APA\"').drop(['Unnamed: 0', 'Ticker'], axis=1)\n",
    "data_APA = data.query('Ticker == \"APA\"').drop(['Ticker'], axis=1)"
   ]
  },
  {
   "cell_type": "code",
   "execution_count": 6,
   "metadata": {
    "id": "uy0tl8ggTqwh"
   },
   "outputs": [
    {
     "name": "stdout",
     "output_type": "stream",
     "text": [
      "time: 617 µs (started: 2022-01-08 04:44:48 +00:00)\n"
     ]
    }
   ],
   "source": [
    "# Using set_index() method on 'Name' column\n",
    "data_APA = data_APA.set_index(data_APA['Date'])"
   ]
  },
  {
   "cell_type": "code",
   "execution_count": 7,
   "metadata": {
    "colab": {
     "base_uri": "https://localhost:8080/"
    },
    "id": "m9YgdzvaULBO",
    "outputId": "26ea487b-4f39-4001-912e-1fa7fe4f7b8c"
   },
   "outputs": [
    {
     "data": {
      "text/plain": [
       "High         0.999711\n",
       "Low          0.999743\n",
       "Open         0.999399\n",
       "Close        1.000000\n",
       "Volume      -0.479447\n",
       "Adj Close    0.999291\n",
       "Name: Close, dtype: float64"
      ]
     },
     "execution_count": 7,
     "metadata": {},
     "output_type": "execute_result"
    },
    {
     "name": "stdout",
     "output_type": "stream",
     "text": [
      "time: 3.23 ms (started: 2022-01-08 04:44:48 +00:00)\n"
     ]
    }
   ],
   "source": [
    "# Correlation matrix\n",
    "data_APA.corr()['Close']"
   ]
  },
  {
   "cell_type": "code",
   "execution_count": 8,
   "metadata": {
    "id": "xf0yInSJUsj5"
   },
   "outputs": [
    {
     "name": "stdout",
     "output_type": "stream",
     "text": [
      "time: 280 µs (started: 2022-01-08 04:44:48 +00:00)\n"
     ]
    }
   ],
   "source": [
    "#data_APA = data_APA.drop(['Volume'], axis=1)"
   ]
  },
  {
   "cell_type": "code",
   "execution_count": 9,
   "metadata": {
    "id": "uvdcrDllH3kz"
   },
   "outputs": [
    {
     "name": "stdout",
     "output_type": "stream",
     "text": [
      "time: 283 µs (started: 2022-01-08 04:44:48 +00:00)\n"
     ]
    }
   ],
   "source": [
    "#print(data_APA.describe().Volume) "
   ]
  },
  {
   "cell_type": "code",
   "execution_count": 10,
   "metadata": {
    "id": "iQc_laYNHzF2"
   },
   "outputs": [
    {
     "name": "stdout",
     "output_type": "stream",
     "text": [
      "time: 1.33 ms (started: 2022-01-08 04:44:48 +00:00)\n"
     ]
    }
   ],
   "source": [
    "data_APA.drop(data_APA[data_APA['Volume']==0].index, inplace = True) #Dropping rows with volume value 0"
   ]
  },
  {
   "cell_type": "code",
   "execution_count": 11,
   "metadata": {
    "colab": {
     "base_uri": "https://localhost:8080/"
    },
    "id": "8NMff9RtIajt",
    "outputId": "ab620ab3-500c-41d3-83da-e2f54d0195bd"
   },
   "outputs": [
    {
     "data": {
      "text/plain": [
       "(2997, 7)"
      ]
     },
     "execution_count": 11,
     "metadata": {},
     "output_type": "execute_result"
    },
    {
     "name": "stdout",
     "output_type": "stream",
     "text": [
      "time: 1.03 ms (started: 2022-01-08 04:44:48 +00:00)\n"
     ]
    }
   ],
   "source": [
    "data_APA.shape"
   ]
  },
  {
   "cell_type": "code",
   "execution_count": 12,
   "metadata": {
    "id": "I6vgANC_VHT-"
   },
   "outputs": [
    {
     "name": "stdout",
     "output_type": "stream",
     "text": [
      "time: 401 µs (started: 2022-01-08 04:44:48 +00:00)\n"
     ]
    }
   ],
   "source": [
    "# Setting up an early stop\n",
    "earlystop = EarlyStopping(monitor='val_loss', min_delta=0.0001, patience=80,  verbose=1, mode='min')\n",
    "callbacks_list = [earlystop]"
   ]
  },
  {
   "cell_type": "code",
   "execution_count": 13,
   "metadata": {
    "id": "Ged4SsfM7sVp"
   },
   "outputs": [
    {
     "name": "stdout",
     "output_type": "stream",
     "text": [
      "time: 1.02 ms (started: 2022-01-08 04:44:48 +00:00)\n"
     ]
    }
   ],
   "source": [
    "#Build and train the model\n",
    "def fit_model(train,val,timesteps,hl,lr,batch,epochs,loss,activation):\n",
    "    X_train = []\n",
    "    Y_train = []\n",
    "    X_val = []\n",
    "    Y_val = []\n",
    "  \n",
    "    # Loop for training data\n",
    "    for i in range(timesteps,train.shape[0]):\n",
    "        X_train.append(train[i-timesteps:i])\n",
    "        Y_train.append(train[i][0])\n",
    "    X_train,Y_train = np.array(X_train),np.array(Y_train)\n",
    "  \n",
    "    # Loop for val data\n",
    "    for i in range(timesteps,val.shape[0]):\n",
    "        X_val.append(val[i-timesteps:i])\n",
    "        Y_val.append(val[i][0])\n",
    "    X_val,Y_val = np.array(X_val),np.array(Y_val)\n",
    "    \n",
    "    # Adding Layers to the model\n",
    "    model = Sequential()\n",
    "    #Adding the first LSTM layer and some Dropout regularisation\n",
    "    model.add(LSTM(units = 50, activation = activation, return_sequences = True, input_shape = (X_train.shape[1],X_train.shape[2])))\n",
    "    model.add(Dropout(0.2))\n",
    "    # Adding LSTM layers and some Dropout regularisation\n",
    "    for i in range(len(hl)-1):        \n",
    "      model.add(LSTM(hl[i], activation = activation,return_sequences = True))\n",
    "      #model.add(Dropout(0.2))\n",
    "    model.add(LSTM(hl[-1],activation = activation))\n",
    "    model.add(Dropout(0.2))\n",
    "    # Adding the output layer\n",
    "    model.add(Dense(units = 1))\n",
    "\n",
    "    # Compiling the RNN\n",
    "    model.compile(optimizer = tf.keras.optimizers.Adam(learning_rate= lr), loss = loss)\n",
    "    \n",
    "    model.summary()\n",
    "    # Training the data\n",
    "    history = model.fit(X_train,Y_train,epochs = epochs,batch_size = batch,validation_data = (X_val, Y_val),verbose = 1,\n",
    "                        shuffle = False, callbacks=callbacks_list)\n",
    "    model.reset_states()\n",
    "    return model, history.history['loss'], history.history['val_loss']"
   ]
  },
  {
   "cell_type": "code",
   "execution_count": 14,
   "metadata": {
    "id": "mKPFTGDAVbeS"
   },
   "outputs": [
    {
     "name": "stdout",
     "output_type": "stream",
     "text": [
      "time: 553 µs (started: 2022-01-08 04:44:48 +00:00)\n"
     ]
    }
   ],
   "source": [
    "# Evaluating the model\n",
    "def evaluate_model(model,test,timesteps):\n",
    "    X_test = []\n",
    "    Y_test = []\n",
    "\n",
    "    # Loop for testing data\n",
    "    for i in range(timesteps,test.shape[0]):\n",
    "        X_test.append(test[i-timesteps:i])\n",
    "        Y_test.append(test[i][0])\n",
    "    X_test,Y_test = np.array(X_test),np.array(Y_test)\n",
    "    #print(X_test.shape,Y_test.shape)\n",
    "  \n",
    "    # Prediction Time !!!!\n",
    "    Y_hat = model.predict(X_test)\n",
    "    mse = mean_squared_error(Y_test,Y_hat)\n",
    "    rmse = sqrt(mse)\n",
    "    r = r2_score(Y_test,Y_hat)\n",
    "    return mse, rmse, r, Y_test, Y_hat"
   ]
  },
  {
   "cell_type": "code",
   "execution_count": 15,
   "metadata": {
    "id": "DtJVGXQsVgaL"
   },
   "outputs": [
    {
     "name": "stdout",
     "output_type": "stream",
     "text": [
      "time: 442 µs (started: 2022-01-08 04:44:48 +00:00)\n"
     ]
    }
   ],
   "source": [
    "# Plotting the predictions\n",
    "def plot_data(Y_test,Y_hat):\n",
    "    plt.plot(Y_test,c = 'r')\n",
    "    plt.plot(Y_hat,c = 'y')\n",
    "    plt.xlabel('Day')\n",
    "    plt.ylabel('Price')\n",
    "    plt.title('Stock Prediction Graph using Multivariate-LSTM model')\n",
    "    plt.legend(['Actual','Predicted'],loc = 'lower right')\n",
    "    plt.show()"
   ]
  },
  {
   "cell_type": "code",
   "execution_count": 16,
   "metadata": {
    "id": "zhi61YqyVmNg"
   },
   "outputs": [
    {
     "name": "stdout",
     "output_type": "stream",
     "text": [
      "time: 415 µs (started: 2022-01-08 04:44:48 +00:00)\n"
     ]
    }
   ],
   "source": [
    "# Plotting the training errors\n",
    "def plot_error(train_loss,val_loss):\n",
    "    plt.plot(train_loss,c = 'r')\n",
    "    plt.plot(val_loss,c = 'b')\n",
    "    plt.ylabel('Loss')\n",
    "    plt.legend(['train','val'],loc = 'upper right')\n",
    "    plt.show()"
   ]
  },
  {
   "cell_type": "code",
   "execution_count": 17,
   "metadata": {
    "colab": {
     "base_uri": "https://localhost:8080/"
    },
    "id": "CjzVlVkkJtm1",
    "outputId": "225df676-2eed-4203-b1c6-1cfb43de0b93"
   },
   "outputs": [
    {
     "name": "stdout",
     "output_type": "stream",
     "text": [
      "(2997, 3)\n",
      "                Close       High    Volume\n",
      "Date                                      \n",
      "2021-11-19  26.000000  27.010000  12427500\n",
      "2021-11-22  26.530001  27.360001  11652900\n",
      "2021-11-23  28.469999  28.500000  10602000\n",
      "2021-11-24  28.610001  29.209999   8531600\n",
      "2021-11-26  26.240000  26.549999   8469000\n",
      "time: 2.59 ms (started: 2022-01-08 04:44:48 +00:00)\n"
     ]
    }
   ],
   "source": [
    "# Extracting the series\n",
    "series = data_APA[['Close','High','Volume']] # Picking the series with high correlation\n",
    "print(series.shape)\n",
    "print(series.tail())"
   ]
  },
  {
   "cell_type": "code",
   "execution_count": 18,
   "metadata": {
    "colab": {
     "base_uri": "https://localhost:8080/"
    },
    "id": "Q88XgwO7yOvw",
    "outputId": "491acee7-ac92-4aed-bc9a-fbf9b788fa55"
   },
   "outputs": [
    {
     "name": "stdout",
     "output_type": "stream",
     "text": [
      "(2893, 3) (104, 3)\n",
      "time: 938 µs (started: 2022-01-08 04:44:48 +00:00)\n"
     ]
    }
   ],
   "source": [
    "# Cross_Train_Val Test Split\n",
    "cross_train_val_start = dt.date(2010,1,4)\n",
    "cross_train_val_end = dt.date(2021,6,30)\n",
    "cross_train_val_data = series.loc[cross_train_val_start:cross_train_val_end]\n",
    "\n",
    "test_start = dt.date(2021,7,1)\n",
    "test_end = dt.date(2021,12,31)\n",
    "test_data = series.loc[test_start:test_end]\n",
    "\n",
    "print(cross_train_val_data.shape,test_data.shape)"
   ]
  },
  {
   "cell_type": "code",
   "execution_count": 19,
   "metadata": {
    "colab": {
     "base_uri": "https://localhost:8080/"
    },
    "id": "gtddltVN4RwV",
    "outputId": "60df1762-284f-4aaf-e8d9-2bd22a18b1a0"
   },
   "outputs": [
    {
     "name": "stdout",
     "output_type": "stream",
     "text": [
      "(2893, 3) (104, 3)\n",
      "time: 3.12 ms (started: 2022-01-08 04:44:48 +00:00)\n"
     ]
    }
   ],
   "source": [
    "# Normalisation\n",
    "from sklearn.preprocessing import MinMaxScaler\n",
    "sc = MinMaxScaler(feature_range = (0, 1))\n",
    "\n",
    "train = sc.fit_transform(cross_train_val_data)\n",
    "test = sc.transform(test_data)\n",
    "print(train.shape,test.shape)"
   ]
  },
  {
   "cell_type": "code",
   "execution_count": 20,
   "metadata": {
    "id": "oe1qzCSFPDLZ"
   },
   "outputs": [
    {
     "name": "stdout",
     "output_type": "stream",
     "text": [
      "time: 512 µs (started: 2022-01-08 04:44:48 +00:00)\n"
     ]
    }
   ],
   "source": [
    "timesteps = [50] \n",
    "hl = []\n",
    "for i in range(40,50,10):\n",
    "    hl.append([i,i-5])\n",
    "lr = [1e-3]\n",
    "batch_size = [64]\n",
    "num_epochs = [50]\n",
    "#optimizers = ['SGD', 'RMSprop', 'Adam']\n",
    "loss = ['mean_squared_error']\n",
    "activation = ['selu']"
   ]
  },
  {
   "cell_type": "code",
   "execution_count": null,
   "metadata": {
    "colab": {
     "base_uri": "https://localhost:8080/",
     "height": 1000
    },
    "id": "AUoZqBRKPIBV",
    "outputId": "61b0c812-81a0-45f3-8822-436ea5e8d3a4",
    "tags": []
   },
   "outputs": [
    {
     "name": "stderr",
     "output_type": "stream",
     "text": [
      "2022-01-08 04:44:48.812811: I tensorflow/stream_executor/cuda/cuda_gpu_executor.cc:939] successful NUMA node read from SysFS had negative value (-1), but there must be at least one NUMA node, so returning NUMA node zero\n",
      "2022-01-08 04:44:48.813060: I tensorflow/stream_executor/cuda/cuda_gpu_executor.cc:939] successful NUMA node read from SysFS had negative value (-1), but there must be at least one NUMA node, so returning NUMA node zero\n",
      "2022-01-08 04:44:48.816512: I tensorflow/stream_executor/cuda/cuda_gpu_executor.cc:939] successful NUMA node read from SysFS had negative value (-1), but there must be at least one NUMA node, so returning NUMA node zero\n",
      "2022-01-08 04:44:48.816763: I tensorflow/stream_executor/cuda/cuda_gpu_executor.cc:939] successful NUMA node read from SysFS had negative value (-1), but there must be at least one NUMA node, so returning NUMA node zero\n",
      "2022-01-08 04:44:48.817201: I tensorflow/stream_executor/cuda/cuda_gpu_executor.cc:939] successful NUMA node read from SysFS had negative value (-1), but there must be at least one NUMA node, so returning NUMA node zero\n",
      "2022-01-08 04:44:48.817419: I tensorflow/stream_executor/cuda/cuda_gpu_executor.cc:939] successful NUMA node read from SysFS had negative value (-1), but there must be at least one NUMA node, so returning NUMA node zero\n",
      "2022-01-08 04:44:48.818254: I tensorflow/core/platform/cpu_feature_guard.cc:151] This TensorFlow binary is optimized with oneAPI Deep Neural Network Library (oneDNN) to use the following CPU instructions in performance-critical operations:  AVX2 FMA\n",
      "To enable them in other operations, rebuild TensorFlow with the appropriate compiler flags.\n",
      "2022-01-08 04:44:48.964661: I tensorflow/stream_executor/cuda/cuda_gpu_executor.cc:939] successful NUMA node read from SysFS had negative value (-1), but there must be at least one NUMA node, so returning NUMA node zero\n",
      "2022-01-08 04:44:48.964910: I tensorflow/stream_executor/cuda/cuda_gpu_executor.cc:939] successful NUMA node read from SysFS had negative value (-1), but there must be at least one NUMA node, so returning NUMA node zero\n",
      "2022-01-08 04:44:48.965321: I tensorflow/stream_executor/cuda/cuda_gpu_executor.cc:939] successful NUMA node read from SysFS had negative value (-1), but there must be at least one NUMA node, so returning NUMA node zero\n",
      "2022-01-08 04:44:48.965501: I tensorflow/stream_executor/cuda/cuda_gpu_executor.cc:939] successful NUMA node read from SysFS had negative value (-1), but there must be at least one NUMA node, so returning NUMA node zero\n",
      "2022-01-08 04:44:48.965901: I tensorflow/stream_executor/cuda/cuda_gpu_executor.cc:939] successful NUMA node read from SysFS had negative value (-1), but there must be at least one NUMA node, so returning NUMA node zero\n",
      "2022-01-08 04:44:48.966081: I tensorflow/stream_executor/cuda/cuda_gpu_executor.cc:939] successful NUMA node read from SysFS had negative value (-1), but there must be at least one NUMA node, so returning NUMA node zero\n",
      "2022-01-08 04:44:49.495212: I tensorflow/stream_executor/cuda/cuda_gpu_executor.cc:939] successful NUMA node read from SysFS had negative value (-1), but there must be at least one NUMA node, so returning NUMA node zero\n",
      "2022-01-08 04:44:49.495455: I tensorflow/stream_executor/cuda/cuda_gpu_executor.cc:939] successful NUMA node read from SysFS had negative value (-1), but there must be at least one NUMA node, so returning NUMA node zero\n",
      "2022-01-08 04:44:49.495847: I tensorflow/stream_executor/cuda/cuda_gpu_executor.cc:939] successful NUMA node read from SysFS had negative value (-1), but there must be at least one NUMA node, so returning NUMA node zero\n",
      "2022-01-08 04:44:49.496025: I tensorflow/stream_executor/cuda/cuda_gpu_executor.cc:939] successful NUMA node read from SysFS had negative value (-1), but there must be at least one NUMA node, so returning NUMA node zero\n",
      "2022-01-08 04:44:49.496405: I tensorflow/stream_executor/cuda/cuda_gpu_executor.cc:939] successful NUMA node read from SysFS had negative value (-1), but there must be at least one NUMA node, so returning NUMA node zero\n",
      "2022-01-08 04:44:49.496576: I tensorflow/core/common_runtime/gpu/gpu_device.cc:1525] Created device /job:localhost/replica:0/task:0/device:GPU:0 with 338 MB memory:  -> device: 0, name: NVIDIA GeForce RTX 2080 Ti, pci bus id: 0000:01:00.0, compute capability: 7.5\n",
      "2022-01-08 04:44:49.496919: I tensorflow/stream_executor/cuda/cuda_gpu_executor.cc:939] successful NUMA node read from SysFS had negative value (-1), but there must be at least one NUMA node, so returning NUMA node zero\n",
      "2022-01-08 04:44:49.497280: I tensorflow/core/common_runtime/gpu/gpu_device.cc:1525] Created device /job:localhost/replica:0/task:0/device:GPU:1 with 9331 MB memory:  -> device: 1, name: NVIDIA GeForce RTX 2080 Ti, pci bus id: 0000:02:00.0, compute capability: 7.5\n"
     ]
    },
    {
     "name": "stdout",
     "output_type": "stream",
     "text": [
      "Model: \"sequential\"\n",
      "_________________________________________________________________\n",
      " Layer (type)                Output Shape              Param #   \n",
      "=================================================================\n",
      " lstm (LSTM)                 (None, 50, 50)            10800     \n",
      "                                                                 \n",
      " dropout (Dropout)           (None, 50, 50)            0         \n",
      "                                                                 \n",
      " lstm_1 (LSTM)               (None, 50, 40)            14560     \n",
      "                                                                 \n",
      " lstm_2 (LSTM)               (None, 35)                10640     \n",
      "                                                                 \n",
      " dropout_1 (Dropout)         (None, 35)                0         \n",
      "                                                                 \n",
      " dense (Dense)               (None, 1)                 36        \n",
      "                                                                 \n",
      "=================================================================\n",
      "Total params: 36,036\n",
      "Trainable params: 36,036\n",
      "Non-trainable params: 0\n",
      "_________________________________________________________________\n",
      "Epoch 1/50\n",
      "36/36 [==============================] - 13s 258ms/step - loss: 0.0665 - val_loss: 0.4764\n",
      "Epoch 2/50\n",
      "36/36 [==============================] - 9s 248ms/step - loss: 0.0433 - val_loss: 0.2813\n",
      "Epoch 3/50\n",
      "36/36 [==============================] - 9s 248ms/step - loss: 0.0306 - val_loss: 0.1140\n",
      "Epoch 4/50\n",
      "36/36 [==============================] - 9s 246ms/step - loss: 0.0149 - val_loss: 0.0584\n",
      "Epoch 5/50\n",
      "36/36 [==============================] - 9s 246ms/step - loss: 0.0097 - val_loss: 0.0511\n",
      "Epoch 6/50\n",
      "36/36 [==============================] - 9s 249ms/step - loss: 0.0079 - val_loss: 0.0831\n",
      "Epoch 7/50\n",
      "36/36 [==============================] - 9s 245ms/step - loss: 0.0106 - val_loss: 0.0650\n",
      "Epoch 8/50\n",
      "36/36 [==============================] - 9s 249ms/step - loss: 0.0092 - val_loss: 0.0641\n",
      "Epoch 9/50\n",
      "36/36 [==============================] - 9s 247ms/step - loss: 0.0087 - val_loss: 0.0768\n",
      "Epoch 10/50\n",
      "36/36 [==============================] - 9s 249ms/step - loss: 0.0089 - val_loss: 0.0560\n",
      "Epoch 11/50\n",
      "36/36 [==============================] - 9s 250ms/step - loss: 0.0075 - val_loss: 0.0509\n",
      "Epoch 12/50\n",
      "36/36 [==============================] - 9s 249ms/step - loss: 0.0068 - val_loss: 0.0602\n",
      "Epoch 13/50\n",
      "36/36 [==============================] - 9s 248ms/step - loss: 0.0074 - val_loss: 0.0498\n",
      "Epoch 14/50\n",
      "36/36 [==============================] - 9s 248ms/step - loss: 0.0066 - val_loss: 0.0378\n",
      "Epoch 15/50\n",
      "36/36 [==============================] - 9s 249ms/step - loss: 0.0050 - val_loss: 0.0298\n",
      "Epoch 16/50\n",
      "36/36 [==============================] - 9s 246ms/step - loss: 0.0043 - val_loss: 0.0219\n",
      "Epoch 17/50\n",
      "36/36 [==============================] - 9s 246ms/step - loss: 0.0036 - val_loss: 0.0147\n",
      "Epoch 18/50\n",
      "36/36 [==============================] - 9s 251ms/step - loss: 0.0029 - val_loss: 0.0146\n",
      "Epoch 19/50\n",
      "36/36 [==============================] - 9s 251ms/step - loss: 0.0030 - val_loss: 0.0126\n",
      "Epoch 20/50\n",
      "36/36 [==============================] - 9s 250ms/step - loss: 0.0026 - val_loss: 0.0102\n",
      "Epoch 21/50\n",
      "36/36 [==============================] - 9s 247ms/step - loss: 0.0023 - val_loss: 0.0134\n",
      "Epoch 22/50\n",
      "36/36 [==============================] - 9s 246ms/step - loss: 0.0025 - val_loss: 0.0102\n",
      "Epoch 23/50\n",
      "36/36 [==============================] - 9s 246ms/step - loss: 0.0024 - val_loss: 0.0142\n",
      "Epoch 24/50\n",
      "36/36 [==============================] - 9s 245ms/step - loss: 0.0029 - val_loss: 0.0116\n",
      "Epoch 25/50\n",
      "36/36 [==============================] - 9s 247ms/step - loss: 0.0025 - val_loss: 0.0166\n",
      "Epoch 26/50\n",
      "36/36 [==============================] - 9s 248ms/step - loss: 0.0026 - val_loss: 0.0127\n",
      "Epoch 27/50\n",
      "36/36 [==============================] - 9s 247ms/step - loss: 0.0025 - val_loss: 0.0144\n",
      "Epoch 28/50\n",
      "36/36 [==============================] - 9s 249ms/step - loss: 0.0026 - val_loss: 0.0135\n",
      "Epoch 29/50\n",
      "36/36 [==============================] - 9s 247ms/step - loss: 0.0023 - val_loss: 0.0166\n",
      "Epoch 30/50\n",
      "36/36 [==============================] - 9s 246ms/step - loss: 0.0025 - val_loss: 0.0174\n",
      "Epoch 31/50\n",
      "36/36 [==============================] - 9s 248ms/step - loss: 0.0026 - val_loss: 0.0183\n",
      "Epoch 32/50\n",
      "36/36 [==============================] - 9s 250ms/step - loss: 0.0029 - val_loss: 0.0150\n",
      "Epoch 33/50\n",
      "36/36 [==============================] - 9s 247ms/step - loss: 0.0024 - val_loss: 0.0283\n",
      "Epoch 34/50\n",
      "36/36 [==============================] - 9s 246ms/step - loss: 0.0034 - val_loss: 0.0158\n",
      "Epoch 35/50\n",
      "36/36 [==============================] - 9s 249ms/step - loss: 0.0026 - val_loss: 0.0222\n",
      "Epoch 36/50\n",
      "36/36 [==============================] - 9s 247ms/step - loss: 0.0029 - val_loss: 0.0216\n",
      "Epoch 37/50\n",
      "36/36 [==============================] - 9s 246ms/step - loss: 0.0028 - val_loss: 0.0275\n",
      "Epoch 38/50\n",
      "36/36 [==============================] - 9s 249ms/step - loss: 0.0032 - val_loss: 0.0214\n",
      "Epoch 39/50\n",
      "36/36 [==============================] - 9s 245ms/step - loss: 0.0026 - val_loss: 0.0284\n",
      "Epoch 40/50\n",
      "36/36 [==============================] - 9s 249ms/step - loss: 0.0032 - val_loss: 0.0261\n",
      "Epoch 41/50\n",
      "36/36 [==============================] - 9s 246ms/step - loss: 0.0030 - val_loss: 0.0320\n",
      "Epoch 42/50\n",
      "36/36 [==============================] - 9s 246ms/step - loss: 0.0034 - val_loss: 0.0280\n",
      "Epoch 43/50\n",
      "36/36 [==============================] - 9s 248ms/step - loss: 0.0034 - val_loss: 0.0310\n",
      "Epoch 44/50\n",
      "36/36 [==============================] - 9s 247ms/step - loss: 0.0031 - val_loss: 0.0267\n",
      "Epoch 45/50\n",
      "36/36 [==============================] - 9s 250ms/step - loss: 0.0032 - val_loss: 0.0295\n",
      "Epoch 46/50\n",
      "36/36 [==============================] - 9s 245ms/step - loss: 0.0032 - val_loss: 0.0182\n",
      "Epoch 47/50\n",
      "36/36 [==============================] - 9s 249ms/step - loss: 0.0023 - val_loss: 0.0261\n",
      "Epoch 48/50\n",
      "36/36 [==============================] - 9s 249ms/step - loss: 0.0028 - val_loss: 0.0205\n",
      "Epoch 49/50\n",
      "36/36 [==============================] - 9s 248ms/step - loss: 0.0025 - val_loss: 0.0254\n",
      "Epoch 50/50\n",
      "36/36 [==============================] - 9s 246ms/step - loss: 0.0026 - val_loss: 0.0198\n",
      "MSE = 0.0003485199370488793\n",
      "RMSE = 0.018668688680485282\n",
      "R-Squared Score = 0.4998272822541552\n"
     ]
    },
    {
     "data": {
      "image/png": "[encoded data removed]",
      "text/plain": [
       "<Figure size 432x288 with 1 Axes>"
      ]
     },
     "metadata": {},
     "output_type": "display_data"
    },
    {
     "name": "stdout",
     "output_type": "stream",
     "text": [
      "train_error  [0.06652462482452393, 0.04329930245876312, 0.030597524717450142, 0.014916455373167992, 0.009718907997012138, 0.007854441180825233, 0.010621379129588604, 0.009216615930199623, 0.00866405013948679, 0.008901149034500122, 0.007478686049580574, 0.006776624359190464, 0.007433578837662935, 0.006629173178225756, 0.005028578452765942, 0.004310570191591978, 0.0036389364395290613, 0.00290117459371686, 0.0030057679396122694, 0.0025747139006853104, 0.0023188311606645584, 0.002483916701748967, 0.0023903704714030027, 0.0028530273120850325, 0.0025253293570131063, 0.002615810837596655, 0.0025060090702027082, 0.002630312228575349, 0.002299942309036851, 0.0025019750464707613, 0.002575347665697336, 0.002892759395763278, 0.00242989556863904, 0.003448145231232047, 0.002639706712216139, 0.002947169588878751, 0.002810737118124962, 0.003211074974387884, 0.0026353357825428247, 0.003230731701478362, 0.0029801460914313793, 0.003385489108040929, 0.0034279131796211004, 0.0030726625118404627, 0.0032190221827477217, 0.0031737475655972958, 0.0022636333014816046, 0.002826833399012685, 0.002544353250414133, 0.0026485598646104336]\n",
      "Model: \"sequential_1\"\n",
      "_________________________________________________________________\n",
      " Layer (type)                Output Shape              Param #   \n",
      "=================================================================\n",
      " lstm_3 (LSTM)               (None, 50, 50)            10800     \n",
      "                                                                 \n",
      " dropout_2 (Dropout)         (None, 50, 50)            0         \n",
      "                                                                 \n",
      " lstm_4 (LSTM)               (None, 50, 40)            14560     \n",
      "                                                                 \n",
      " lstm_5 (LSTM)               (None, 35)                10640     \n",
      "                                                                 \n",
      " dropout_3 (Dropout)         (None, 35)                0         \n",
      "                                                                 \n",
      " dense_1 (Dense)             (None, 1)                 36        \n",
      "                                                                 \n",
      "=================================================================\n",
      "Total params: 36,036\n",
      "Trainable params: 36,036\n",
      "Non-trainable params: 0\n",
      "_________________________________________________________________\n",
      "Epoch 1/50\n",
      "36/36 [==============================] - 13s 258ms/step - loss: 0.0603 - val_loss: 0.1765\n",
      "Epoch 2/50\n",
      "36/36 [==============================] - 9s 248ms/step - loss: 0.0551 - val_loss: 0.0912\n",
      "Epoch 3/50\n",
      "36/36 [==============================] - 9s 247ms/step - loss: 0.0367 - val_loss: 0.0088\n",
      "Epoch 4/50\n",
      "36/36 [==============================] - 9s 250ms/step - loss: 0.0140 - val_loss: 0.0432\n",
      "Epoch 5/50\n",
      "36/36 [==============================] - 9s 246ms/step - loss: 0.0226 - val_loss: 0.0058\n",
      "Epoch 6/50\n",
      "36/36 [==============================] - 9s 249ms/step - loss: 0.0108 - val_loss: 0.0042\n",
      "Epoch 7/50\n",
      "36/36 [==============================] - 9s 248ms/step - loss: 0.0089 - val_loss: 0.0057\n",
      "Epoch 8/50\n",
      "36/36 [==============================] - 9s 248ms/step - loss: 0.0094 - val_loss: 0.0054\n",
      "Epoch 9/50\n",
      "36/36 [==============================] - 9s 248ms/step - loss: 0.0081 - val_loss: 0.0083\n",
      "Epoch 10/50\n",
      "36/36 [==============================] - 9s 244ms/step - loss: 0.0089 - val_loss: 0.0082\n",
      "Epoch 11/50\n",
      "36/36 [==============================] - 9s 249ms/step - loss: 0.0081 - val_loss: 0.0081\n",
      "Epoch 12/50\n",
      "36/36 [==============================] - 9s 247ms/step - loss: 0.0073 - val_loss: 0.0056\n",
      "Epoch 13/50\n",
      "36/36 [==============================] - 9s 248ms/step - loss: 0.0058 - val_loss: 0.0063\n",
      "Epoch 14/50\n",
      "36/36 [==============================] - 9s 246ms/step - loss: 0.0049 - val_loss: 0.0051\n",
      "Epoch 15/50\n",
      "36/36 [==============================] - 9s 247ms/step - loss: 0.0049 - val_loss: 0.0051\n",
      "Epoch 16/50\n",
      "36/36 [==============================] - 9s 250ms/step - loss: 0.0046 - val_loss: 0.0034\n",
      "Epoch 17/50\n",
      "36/36 [==============================] - 9s 247ms/step - loss: 0.0039 - val_loss: 0.0044\n",
      "Epoch 18/50\n",
      "36/36 [==============================] - 9s 247ms/step - loss: 0.0041 - val_loss: 0.0052\n",
      "Epoch 19/50\n",
      "36/36 [==============================] - 9s 248ms/step - loss: 0.0048 - val_loss: 0.0077\n",
      "Epoch 20/50\n",
      "36/36 [==============================] - 9s 248ms/step - loss: 0.0052 - val_loss: 0.0023\n",
      "Epoch 21/50\n",
      "36/36 [==============================] - 9s 248ms/step - loss: 0.0039 - val_loss: 0.0076\n",
      "Epoch 22/50\n",
      "36/36 [==============================] - 9s 246ms/step - loss: 0.0046 - val_loss: 0.0043\n",
      "Epoch 23/50\n",
      "36/36 [==============================] - 9s 248ms/step - loss: 0.0044 - val_loss: 0.0040\n",
      "Epoch 24/50\n",
      "36/36 [==============================] - 9s 248ms/step - loss: 0.0044 - val_loss: 0.0045\n",
      "Epoch 25/50\n",
      "36/36 [==============================] - 9s 251ms/step - loss: 0.0049 - val_loss: 0.0059\n",
      "Epoch 26/50\n",
      "36/36 [==============================] - 9s 247ms/step - loss: 0.0041 - val_loss: 0.0060\n",
      "Epoch 27/50\n",
      "36/36 [==============================] - 9s 249ms/step - loss: 0.0046 - val_loss: 0.0096\n",
      "Epoch 28/50\n",
      "36/36 [==============================] - 9s 247ms/step - loss: 0.0055 - val_loss: 0.0058\n",
      "Epoch 29/50\n",
      "36/36 [==============================] - 9s 249ms/step - loss: 0.0045 - val_loss: 0.0045\n",
      "Epoch 30/50\n",
      "36/36 [==============================] - 9s 248ms/step - loss: 0.0049 - val_loss: 0.0068\n",
      "Epoch 31/50\n",
      "36/36 [==============================] - 9s 247ms/step - loss: 0.0048 - val_loss: 0.0079\n",
      "Epoch 32/50\n",
      "36/36 [==============================] - 9s 248ms/step - loss: 0.0055 - val_loss: 0.0098\n",
      "Epoch 33/50\n",
      "36/36 [==============================] - 9s 247ms/step - loss: 0.0050 - val_loss: 0.0069\n",
      "Epoch 34/50\n",
      "36/36 [==============================] - 9s 246ms/step - loss: 0.0047 - val_loss: 0.0115\n",
      "Epoch 35/50\n",
      "36/36 [==============================] - 9s 250ms/step - loss: 0.0050 - val_loss: 0.0064\n",
      "Epoch 36/50\n",
      "36/36 [==============================] - 9s 246ms/step - loss: 0.0043 - val_loss: 0.0090\n",
      "Epoch 37/50\n",
      "36/36 [==============================] - 9s 245ms/step - loss: 0.0044 - val_loss: 0.0067\n",
      "Epoch 38/50\n",
      "36/36 [==============================] - 9s 246ms/step - loss: 0.0037 - val_loss: 0.0051\n",
      "Epoch 39/50\n",
      "36/36 [==============================] - 9s 248ms/step - loss: 0.0033 - val_loss: 0.0061\n",
      "Epoch 40/50\n",
      "36/36 [==============================] - 9s 246ms/step - loss: 0.0035 - val_loss: 0.0026\n",
      "Epoch 41/50\n",
      "36/36 [==============================] - 9s 247ms/step - loss: 0.0027 - val_loss: 0.0043\n",
      "Epoch 42/50\n",
      "36/36 [==============================] - 9s 246ms/step - loss: 0.0029 - val_loss: 0.0024\n",
      "Epoch 43/50\n",
      "36/36 [==============================] - 9s 249ms/step - loss: 0.0031 - val_loss: 0.0050\n",
      "Epoch 44/50\n",
      "36/36 [==============================] - 9s 246ms/step - loss: 0.0028 - val_loss: 0.0035\n",
      "Epoch 45/50\n",
      "36/36 [==============================] - 9s 247ms/step - loss: 0.0033 - val_loss: 0.0061\n",
      "Epoch 46/50\n",
      "36/36 [==============================] - 9s 247ms/step - loss: 0.0035 - val_loss: 0.0040\n",
      "Epoch 47/50\n",
      "36/36 [==============================] - 9s 246ms/step - loss: 0.0030 - val_loss: 0.0070\n",
      "Epoch 48/50\n",
      "36/36 [==============================] - 9s 248ms/step - loss: 0.0035 - val_loss: 0.0051\n",
      "Epoch 49/50\n",
      "36/36 [==============================] - 9s 246ms/step - loss: 0.0036 - val_loss: 0.0077\n",
      "Epoch 50/50\n",
      "36/36 [==============================] - 9s 249ms/step - loss: 0.0036 - val_loss: 0.0052\n",
      "MSE = 0.00024202300993318173\n",
      "RMSE = 0.015557088735787995\n",
      "R-Squared Score = 0.6526646146549384\n"
     ]
    },
    {
     "data": {
      "image/png": "[encoded data removed]",
      "text/plain": [
       "<Figure size 432x288 with 1 Axes>"
      ]
     },
     "metadata": {},
     "output_type": "display_data"
    },
    {
     "name": "stdout",
     "output_type": "stream",
     "text": [
      "train_error  [0.06026981770992279, 0.0551115982234478, 0.03672046214342117, 0.013972335495054722, 0.022633960470557213, 0.01081205252557993, 0.008874400518834591, 0.009368295781314373, 0.008074883371591568, 0.008934780955314636, 0.008088947273790836, 0.007302002981305122, 0.005762710701674223, 0.004921100568026304, 0.004894060082733631, 0.0045605250634253025, 0.003935129847377539, 0.004105811007320881, 0.004804700147360563, 0.005152602214366198, 0.003920720890164375, 0.0045973132364451885, 0.004402372986078262, 0.0044373623095452785, 0.004896463826298714, 0.004071783274412155, 0.004647424444556236, 0.0054695880971848965, 0.004544520750641823, 0.004876437596976757, 0.00484365364536643, 0.005478719715029001, 0.005041522905230522, 0.00473952479660511, 0.004981030244380236, 0.004318696446716785, 0.00443313317373395, 0.003659605048596859, 0.003306617494672537, 0.003476672573015094, 0.0026511934120208025, 0.002947828732430935, 0.0031096229795366526, 0.0028168135322630405, 0.003259288612753153, 0.003529774025082588, 0.0030165084172040224, 0.0034589923452585936, 0.003590240143239498, 0.0035939752124249935]\n",
      "Model: \"sequential_2\"\n",
      "_________________________________________________________________\n",
      " Layer (type)                Output Shape              Param #   \n",
      "=================================================================\n",
      " lstm_6 (LSTM)               (None, 50, 50)            10800     \n",
      "                                                                 \n",
      " dropout_4 (Dropout)         (None, 50, 50)            0         \n",
      "                                                                 \n",
      " lstm_7 (LSTM)               (None, 50, 40)            14560     \n",
      "                                                                 \n",
      " lstm_8 (LSTM)               (None, 35)                10640     \n",
      "                                                                 \n",
      " dropout_5 (Dropout)         (None, 35)                0         \n",
      "                                                                 \n",
      " dense_2 (Dense)             (None, 1)                 36        \n",
      "                                                                 \n",
      "=================================================================\n",
      "Total params: 36,036\n",
      "Trainable params: 36,036\n",
      "Non-trainable params: 0\n",
      "_________________________________________________________________\n",
      "Epoch 1/50\n",
      "36/36 [==============================] - 13s 256ms/step - loss: 0.0777 - val_loss: 0.0646\n",
      "Epoch 2/50\n",
      "36/36 [==============================] - 9s 250ms/step - loss: 0.0626 - val_loss: 0.0119\n",
      "Epoch 3/50\n",
      "36/36 [==============================] - 9s 249ms/step - loss: 0.0451 - val_loss: 0.0327\n",
      "Epoch 4/50\n",
      "36/36 [==============================] - 9s 247ms/step - loss: 0.0516 - val_loss: 0.0697\n",
      "Epoch 5/50\n",
      "36/36 [==============================] - 9s 250ms/step - loss: 0.0608 - val_loss: 0.0042\n",
      "Epoch 6/50\n",
      "36/36 [==============================] - 9s 247ms/step - loss: 0.0291 - val_loss: 0.0059\n",
      "Epoch 7/50\n",
      "36/36 [==============================] - 9s 248ms/step - loss: 0.0319 - val_loss: 0.0371\n",
      "Epoch 8/50\n",
      "36/36 [==============================] - 9s 247ms/step - loss: 0.0350 - val_loss: 0.0200\n",
      "Epoch 9/50\n",
      "36/36 [==============================] - 9s 243ms/step - loss: 0.0367 - val_loss: 0.0220\n",
      "Epoch 10/50\n",
      "36/36 [==============================] - 9s 248ms/step - loss: 0.0324 - val_loss: 0.0112\n",
      "Epoch 11/50\n",
      "36/36 [==============================] - 9s 248ms/step - loss: 0.0208 - val_loss: 0.0132\n",
      "Epoch 12/50\n",
      "36/36 [==============================] - 9s 244ms/step - loss: 0.0197 - val_loss: 0.0047\n",
      "Epoch 13/50\n",
      "36/36 [==============================] - 9s 247ms/step - loss: 0.0105 - val_loss: 0.0021\n",
      "Epoch 14/50\n",
      "36/36 [==============================] - 9s 248ms/step - loss: 0.0080 - val_loss: 0.0012\n",
      "Epoch 15/50\n",
      "36/36 [==============================] - 9s 247ms/step - loss: 0.0062 - val_loss: 0.0033\n",
      "Epoch 16/50\n",
      "36/36 [==============================] - 9s 247ms/step - loss: 0.0070 - val_loss: 0.0020\n",
      "Epoch 17/50\n",
      "36/36 [==============================] - 9s 246ms/step - loss: 0.0066 - val_loss: 0.0028\n",
      "Epoch 18/50\n",
      "36/36 [==============================] - 9s 249ms/step - loss: 0.0065 - val_loss: 0.0033\n",
      "Epoch 19/50\n",
      "36/36 [==============================] - 9s 247ms/step - loss: 0.0078 - val_loss: 0.0047\n",
      "Epoch 20/50\n",
      "36/36 [==============================] - 9s 247ms/step - loss: 0.0074 - val_loss: 0.0040\n",
      "Epoch 21/50\n",
      "36/36 [==============================] - 9s 248ms/step - loss: 0.0066 - val_loss: 0.0051\n",
      "Epoch 22/50\n",
      "36/36 [==============================] - 9s 248ms/step - loss: 0.0072 - val_loss: 0.0043\n",
      "Epoch 23/50\n",
      "36/36 [==============================] - 9s 247ms/step - loss: 0.0063 - val_loss: 0.0050\n",
      "Epoch 24/50\n",
      "36/36 [==============================] - 9s 248ms/step - loss: 0.0065 - val_loss: 0.0019\n",
      "Epoch 25/50\n",
      "36/36 [==============================] - 9s 248ms/step - loss: 0.0056 - val_loss: 0.0055\n",
      "Epoch 26/50\n",
      "36/36 [==============================] - 9s 247ms/step - loss: 0.0058 - val_loss: 0.0042\n",
      "Epoch 27/50\n",
      "36/36 [==============================] - 9s 250ms/step - loss: 0.0066 - val_loss: 0.0048\n",
      "Epoch 28/50\n",
      "36/36 [==============================] - 9s 248ms/step - loss: 0.0061 - val_loss: 0.0062\n",
      "Epoch 29/50\n",
      "36/36 [==============================] - 9s 245ms/step - loss: 0.0065 - val_loss: 0.0045\n",
      "Epoch 30/50\n",
      "36/36 [==============================] - 9s 248ms/step - loss: 0.0058 - val_loss: 0.0043\n",
      "Epoch 31/50\n",
      "36/36 [==============================] - 9s 247ms/step - loss: 0.0049 - val_loss: 0.0040\n",
      "Epoch 32/50\n",
      "36/36 [==============================] - 9s 247ms/step - loss: 0.0047 - val_loss: 0.0026\n",
      "Epoch 33/50\n",
      "36/36 [==============================] - 9s 249ms/step - loss: 0.0043 - val_loss: 0.0063\n",
      "Epoch 34/50\n",
      "36/36 [==============================] - 9s 247ms/step - loss: 0.0045 - val_loss: 0.0019\n",
      "Epoch 35/50\n",
      "36/36 [==============================] - 9s 244ms/step - loss: 0.0039 - val_loss: 0.0040\n",
      "Epoch 36/50\n",
      "36/36 [==============================] - 9s 247ms/step - loss: 0.0038 - val_loss: 0.0017\n",
      "Epoch 37/50\n",
      "36/36 [==============================] - 9s 245ms/step - loss: 0.0032 - val_loss: 0.0014\n",
      "Epoch 38/50\n",
      "36/36 [==============================] - 9s 246ms/step - loss: 0.0031 - val_loss: 0.0021\n",
      "Epoch 39/50\n",
      "36/36 [==============================] - 9s 247ms/step - loss: 0.0031 - val_loss: 5.8658e-04\n",
      "Epoch 40/50\n",
      "36/36 [==============================] - 9s 247ms/step - loss: 0.0030 - val_loss: 7.9830e-04\n",
      "Epoch 41/50\n",
      "36/36 [==============================] - 9s 245ms/step - loss: 0.0029 - val_loss: 5.5866e-04\n",
      "Epoch 42/50\n",
      "36/36 [==============================] - 9s 249ms/step - loss: 0.0028 - val_loss: 6.7865e-04\n",
      "Epoch 43/50\n",
      "36/36 [==============================] - 9s 248ms/step - loss: 0.0031 - val_loss: 5.3601e-04\n",
      "Epoch 44/50\n",
      "36/36 [==============================] - 9s 246ms/step - loss: 0.0026 - val_loss: 5.7911e-04\n",
      "Epoch 45/50\n",
      "36/36 [==============================] - 9s 244ms/step - loss: 0.0029 - val_loss: 0.0013\n",
      "Epoch 46/50\n",
      "36/36 [==============================] - 9s 248ms/step - loss: 0.0029 - val_loss: 0.0016\n",
      "Epoch 47/50\n",
      "36/36 [==============================] - 9s 248ms/step - loss: 0.0027 - val_loss: 0.0025\n",
      "Epoch 48/50\n",
      "36/36 [==============================] - 9s 249ms/step - loss: 0.0032 - val_loss: 0.0021\n",
      "Epoch 49/50\n",
      "36/36 [==============================] - 9s 249ms/step - loss: 0.0028 - val_loss: 5.8227e-04\n",
      "Epoch 50/50\n",
      "36/36 [==============================] - 9s 246ms/step - loss: 0.0029 - val_loss: 5.3524e-04\n",
      "MSE = 0.00021059161006125817\n",
      "RMSE = 0.014511774876329158\n",
      "R-Squared Score = 0.697772876838205\n"
     ]
    },
    {
     "data": {
      "image/png": "[encoded data removed]",
      "text/plain": [
       "<Figure size 432x288 with 1 Axes>"
      ]
     },
     "metadata": {},
     "output_type": "display_data"
    },
    {
     "name": "stdout",
     "output_type": "stream",
     "text": [
      "train_error  [0.07768487930297852, 0.06262391060590744, 0.045122820883989334, 0.051621612161397934, 0.06076083332300186, 0.029140422120690346, 0.03193173184990883, 0.03503205254673958, 0.03672628849744797, 0.03241046518087387, 0.020784955471754074, 0.019656453281641006, 0.010470021516084671, 0.008043832145631313, 0.006228077691048384, 0.0069887712597846985, 0.006571400910615921, 0.006518341600894928, 0.00776692433282733, 0.007391334045678377, 0.006564579904079437, 0.007188697811216116, 0.006299086846411228, 0.0064941043965518475, 0.005621973425149918, 0.005845413543283939, 0.006636303849518299, 0.006072145886719227, 0.006535572465509176, 0.005780403036624193, 0.004850022029131651, 0.0046526603400707245, 0.004290387034416199, 0.004453213419765234, 0.00387012236751616, 0.00377056747674942, 0.00319483014754951, 0.0031108378898352385, 0.003068921621888876, 0.0029831721913069487, 0.002852980513125658, 0.0027529397048056126, 0.0030590288806706667, 0.0026094105560332537, 0.002882136730477214, 0.0029097802471369505, 0.0026802236679941416, 0.0031599702779203653, 0.0028117219917476177, 0.002910242648795247]\n",
      "Model: \"sequential_3\"\n",
      "_________________________________________________________________\n",
      " Layer (type)                Output Shape              Param #   \n",
      "=================================================================\n",
      " lstm_9 (LSTM)               (None, 50, 50)            10800     \n",
      "                                                                 \n",
      " dropout_6 (Dropout)         (None, 50, 50)            0         \n",
      "                                                                 \n",
      " lstm_10 (LSTM)              (None, 50, 40)            14560     \n",
      "                                                                 \n",
      " lstm_11 (LSTM)              (None, 35)                10640     \n",
      "                                                                 \n",
      " dropout_7 (Dropout)         (None, 35)                0         \n",
      "                                                                 \n",
      " dense_3 (Dense)             (None, 1)                 36        \n",
      "                                                                 \n",
      "=================================================================\n",
      "Total params: 36,036\n",
      "Trainable params: 36,036\n",
      "Non-trainable params: 0\n",
      "_________________________________________________________________\n",
      "Epoch 1/50\n",
      "36/36 [==============================] - 13s 257ms/step - loss: 0.0407 - val_loss: 0.0461\n",
      "Epoch 2/50\n",
      "36/36 [==============================] - 9s 247ms/step - loss: 0.0474 - val_loss: 0.0440\n",
      "Epoch 3/50\n",
      "36/36 [==============================] - 9s 248ms/step - loss: 0.0415 - val_loss: 0.0238\n",
      "Epoch 4/50\n",
      "36/36 [==============================] - 9s 248ms/step - loss: 0.0297 - val_loss: 0.0124\n",
      "Epoch 5/50\n",
      "36/36 [==============================] - 9s 247ms/step - loss: 0.0378 - val_loss: 0.0043\n",
      "Epoch 6/50\n",
      "36/36 [==============================] - 9s 248ms/step - loss: 0.0233 - val_loss: 0.0032\n",
      "Epoch 7/50\n",
      "36/36 [==============================] - 9s 246ms/step - loss: 0.0238 - val_loss: 0.0010\n",
      "Epoch 8/50\n",
      "36/36 [==============================] - 9s 246ms/step - loss: 0.0144 - val_loss: 0.0023\n",
      "Epoch 9/50\n",
      "36/36 [==============================] - 9s 248ms/step - loss: 0.0164 - val_loss: 0.0042\n",
      "Epoch 10/50\n",
      "36/36 [==============================] - 9s 246ms/step - loss: 0.0144 - val_loss: 0.0043\n",
      "Epoch 11/50\n",
      "36/36 [==============================] - 9s 251ms/step - loss: 0.0149 - val_loss: 0.0039\n",
      "Epoch 12/50\n",
      "36/36 [==============================] - 9s 246ms/step - loss: 0.0131 - val_loss: 0.0021\n",
      "Epoch 13/50\n",
      "36/36 [==============================] - 9s 248ms/step - loss: 0.0113 - val_loss: 0.0035\n",
      "Epoch 14/50\n",
      "36/36 [==============================] - 9s 246ms/step - loss: 0.0122 - val_loss: 0.0023\n",
      "Epoch 15/50\n",
      "36/36 [==============================] - 9s 248ms/step - loss: 0.0105 - val_loss: 0.0029\n",
      "Epoch 16/50\n",
      "36/36 [==============================] - 9s 246ms/step - loss: 0.0104 - val_loss: 0.0016\n",
      "Epoch 17/50\n",
      "36/36 [==============================] - 9s 246ms/step - loss: 0.0089 - val_loss: 0.0015\n",
      "Epoch 18/50\n",
      "36/36 [==============================] - 9s 248ms/step - loss: 0.0083 - val_loss: 8.8103e-04\n",
      "Epoch 19/50\n",
      "36/36 [==============================] - 9s 246ms/step - loss: 0.0078 - val_loss: 8.4445e-04\n",
      "Epoch 20/50\n",
      "36/36 [==============================] - 9s 248ms/step - loss: 0.0063 - val_loss: 3.7618e-04\n",
      "Epoch 21/50\n",
      "36/36 [==============================] - 9s 249ms/step - loss: 0.0055 - val_loss: 4.5957e-04\n",
      "Epoch 22/50\n",
      "36/36 [==============================] - 9s 249ms/step - loss: 0.0051 - val_loss: 6.5624e-04\n",
      "Epoch 23/50\n",
      "36/36 [==============================] - 9s 245ms/step - loss: 0.0053 - val_loss: 3.0846e-04\n",
      "Epoch 24/50\n",
      "36/36 [==============================] - 9s 246ms/step - loss: 0.0042 - val_loss: 3.0173e-04\n",
      "Epoch 25/50\n",
      "36/36 [==============================] - 9s 246ms/step - loss: 0.0041 - val_loss: 3.0981e-04\n",
      "Epoch 26/50\n",
      "36/36 [==============================] - 9s 248ms/step - loss: 0.0039 - val_loss: 2.5307e-04\n",
      "Epoch 27/50\n",
      "36/36 [==============================] - 9s 247ms/step - loss: 0.0035 - val_loss: 2.2087e-04\n",
      "Epoch 28/50\n",
      "36/36 [==============================] - 9s 247ms/step - loss: 0.0034 - val_loss: 7.9577e-04\n",
      "Epoch 29/50\n",
      "36/36 [==============================] - 9s 248ms/step - loss: 0.0035 - val_loss: 2.2731e-04\n",
      "Epoch 30/50\n",
      "36/36 [==============================] - 9s 247ms/step - loss: 0.0031 - val_loss: 9.0167e-04\n",
      "Epoch 31/50\n",
      "36/36 [==============================] - 9s 245ms/step - loss: 0.0034 - val_loss: 8.6346e-04\n",
      "Epoch 32/50\n",
      "36/36 [==============================] - 9s 246ms/step - loss: 0.0032 - val_loss: 0.0017\n",
      "Epoch 33/50\n",
      "36/36 [==============================] - 9s 248ms/step - loss: 0.0038 - val_loss: 3.3860e-04\n",
      "Epoch 34/50\n",
      "36/36 [==============================] - 9s 247ms/step - loss: 0.0029 - val_loss: 2.3428e-04\n",
      "Epoch 35/50\n",
      "36/36 [==============================] - 9s 247ms/step - loss: 0.0029 - val_loss: 7.1682e-04\n",
      "Epoch 36/50\n",
      "36/36 [==============================] - 9s 246ms/step - loss: 0.0031 - val_loss: 7.1281e-04\n",
      "Epoch 37/50\n",
      "36/36 [==============================] - 9s 248ms/step - loss: 0.0029 - val_loss: 7.8982e-04\n",
      "Epoch 38/50\n",
      "36/36 [==============================] - 9s 247ms/step - loss: 0.0029 - val_loss: 2.2905e-04\n",
      "Epoch 39/50\n",
      "36/36 [==============================] - 9s 246ms/step - loss: 0.0027 - val_loss: 2.1402e-04\n",
      "Epoch 40/50\n",
      "36/36 [==============================] - 9s 246ms/step - loss: 0.0032 - val_loss: 9.6918e-04\n",
      "Epoch 41/50\n",
      "36/36 [==============================] - 9s 247ms/step - loss: 0.0031 - val_loss: 4.9021e-04\n",
      "Epoch 42/50\n",
      "36/36 [==============================] - 9s 248ms/step - loss: 0.0027 - val_loss: 0.0010\n",
      "Epoch 43/50\n",
      "36/36 [==============================] - 9s 247ms/step - loss: 0.0031 - val_loss: 3.2808e-04\n",
      "Epoch 44/50\n",
      "36/36 [==============================] - 9s 248ms/step - loss: 0.0028 - val_loss: 0.0012\n",
      "Epoch 45/50\n",
      "36/36 [==============================] - 9s 248ms/step - loss: 0.0031 - val_loss: 2.8551e-04\n",
      "Epoch 46/50\n",
      "36/36 [==============================] - 9s 248ms/step - loss: 0.0026 - val_loss: 5.5880e-04\n",
      "Epoch 47/50\n",
      "36/36 [==============================] - 9s 248ms/step - loss: 0.0029 - val_loss: 4.0757e-04\n",
      "Epoch 48/50\n",
      "36/36 [==============================] - 9s 249ms/step - loss: 0.0025 - val_loss: 4.3949e-04\n",
      "Epoch 49/50\n",
      "36/36 [==============================] - 9s 249ms/step - loss: 0.0028 - val_loss: 2.4799e-04\n",
      "Epoch 50/50\n",
      "36/36 [==============================] - 9s 248ms/step - loss: 0.0025 - val_loss: 4.9123e-04\n",
      "MSE = 0.00040207951699438167\n",
      "RMSE = 0.020051920531320228\n",
      "R-Squared Score = 0.4229621224314313\n"
     ]
    },
    {
     "data": {
      "image/png": "[encoded data removed]",
      "text/plain": [
       "<Figure size 432x288 with 1 Axes>"
      ]
     },
     "metadata": {},
     "output_type": "display_data"
    },
    {
     "name": "stdout",
     "output_type": "stream",
     "text": [
      "train_error  [0.0406905934214592, 0.04744568094611168, 0.0415242575109005, 0.02968977764248848, 0.03778843209147453, 0.023273635655641556, 0.023824291303753853, 0.014355764724314213, 0.016375528648495674, 0.014438883401453495, 0.014855312183499336, 0.013071907684206963, 0.011335616931319237, 0.012186226435005665, 0.010539203882217407, 0.010354637168347836, 0.008949069306254387, 0.008302055299282074, 0.007762734778225422, 0.006264240946620703, 0.00553709315136075, 0.005135920364409685, 0.005282882135361433, 0.004164074081927538, 0.0041211629286408424, 0.003909089602530003, 0.003450829302892089, 0.0033526408951729536, 0.0035461299121379852, 0.0031184395775198936, 0.0034277152735739946, 0.003159693442285061, 0.003812388749793172, 0.0029479560907930136, 0.0028832026291638613, 0.003102086717262864, 0.002942820079624653, 0.0029309915844351053, 0.0026936314534395933, 0.0031768176704645157, 0.0030669814441353083, 0.0027474917005747557, 0.003143037436529994, 0.002757529728114605, 0.0030558216385543346, 0.0025867295917123556, 0.002850304590538144, 0.0025021613109856844, 0.002806865843012929, 0.002514439634978771]\n",
      "Model: \"sequential_4\"\n",
      "_________________________________________________________________\n",
      " Layer (type)                Output Shape              Param #   \n",
      "=================================================================\n",
      " lstm_12 (LSTM)              (None, 50, 50)            10800     \n",
      "                                                                 \n",
      " dropout_8 (Dropout)         (None, 50, 50)            0         \n",
      "                                                                 \n",
      " lstm_13 (LSTM)              (None, 50, 40)            14560     \n",
      "                                                                 \n",
      " lstm_14 (LSTM)              (None, 35)                10640     \n",
      "                                                                 \n",
      " dropout_9 (Dropout)         (None, 35)                0         \n",
      "                                                                 \n",
      " dense_4 (Dense)             (None, 1)                 36        \n",
      "                                                                 \n",
      "=================================================================\n",
      "Total params: 36,036\n",
      "Trainable params: 36,036\n",
      "Non-trainable params: 0\n",
      "_________________________________________________________________\n",
      "Epoch 1/50\n",
      "18/36 [==============>...............] - ETA: 4s - loss: 0.1437"
     ]
    }
   ],
   "source": [
    "results = list()\n",
    "cross_val_results = list()\n",
    "n_split = 5\n",
    "X = train\n",
    "\n",
    "for t in timesteps:\n",
    "  for l in hl:\n",
    "      for rate in lr:\n",
    "          for batch in batch_size:\n",
    "              for epochs in num_epochs:\n",
    "                for loss in loss:\n",
    "                  for a in activation:\n",
    "                    \n",
    "                    train_loss = pd.DataFrame()\n",
    "                    val_loss = pd.DataFrame()\n",
    "                    train_loss_value = 0\n",
    "                    val_loss_value = 0\n",
    "                \n",
    "                    for train_index,test_index in KFold(n_split).split(X):\n",
    "                      #print(train_index,test_index)\n",
    "                      x_train = X[train_index]\n",
    "                      x_test = X[test_index]\n",
    "                      #y_train,y_test=Y[train_index],Y[test_index]\n",
    "                      model,train_error,val_error = fit_model(x_train,x_test,t,l,rate,batch,epochs,loss,a)\n",
    "                      train_loss['fold'] = train_error\n",
    "                      val_loss['fold'] = val_error\n",
    "                      mse, rmse, r2_value,true,predicted = evaluate_model(model,test,t)\n",
    "                      #print(\"Split 1\", fold_no)\n",
    "                      print('MSE = {}'.format(mse))\n",
    "                      print('RMSE = {}'.format(rmse))\n",
    "                      print('R-Squared Score = {}'.format(r2_value))\n",
    "                      \n",
    "                      plot_data(true,predicted)\n",
    "                      cross_val_results.append([mse,rmse,r2_value,0])\n",
    "                      #model,train_error,val_error = fit_model(x_train,x_test,timesteps,hl,lr,batch_size,num_epochs)\n",
    "                      print('train_error ',train_error)\n",
    "                      #model,train_loss,val_loss = fit_model(train,val,t,l,rate,batch,epochs)\n",
    "                      train_loss_value = train_loss_value + train_loss.iloc[-1]['fold']\n",
    "                      val_loss_value = val_loss_value + val_loss.iloc[-1]['fold']\n",
    "                \n",
    "                    results.append([t,l,rate,batch,epochs,loss,a,train_loss_value/n_split,val_loss_value/n_split])\n",
    "                    print(results)                  \n",
    "\n",
    "pd.DataFrame(results,columns=['Timestep','Hidden_Layers','Learning_Rate','Batch_Size','epochs','Loss','Activation','Train_Loss','Val_Loss']).to_csv('Multivariate-LSTM_model_Timesteps_0107.csv')\n",
    "pd.DataFrame(cross_val_results,columns=['mse','rmse','r2_value','0']).to_csv('Multivariate-LSTM_model_Mse_0107.csv')"
   ]
  },
  {
   "cell_type": "code",
   "execution_count": null,
   "metadata": {
    "colab": {
     "base_uri": "https://localhost:8080/"
    },
    "id": "kLagbWLQ_W-g",
    "outputId": "96e7eb40-c7ce-4184-9ff9-5a8b48bd71bd"
   },
   "outputs": [],
   "source": [
    "results"
   ]
  },
  {
   "cell_type": "code",
   "execution_count": null,
   "metadata": {
    "colab": {
     "base_uri": "https://localhost:8080/"
    },
    "id": "SvArg1WHeLqn",
    "outputId": "67ef6903-bdfb-4a00-89c1-8af65bbb845f"
   },
   "outputs": [],
   "source": [
    "cross_val_results"
   ]
  },
  {
   "cell_type": "code",
   "execution_count": null,
   "metadata": {
    "id": "D1a0hsXrfKul"
   },
   "outputs": [],
   "source": [
    "timesteps = 50\n",
    "hl = [60,55]\n",
    "lr = 1e-3\n",
    "batch = 64\n",
    "epochs = 100\n",
    "#optimizers = ['SGD', 'RMSprop', 'Adam']\n",
    "loss = 'mean_squared_error'\n",
    "activation = 'selu'"
   ]
  },
  {
   "cell_type": "code",
   "execution_count": null,
   "metadata": {
    "colab": {
     "base_uri": "https://localhost:8080/"
    },
    "id": "1PYpHZakgeWJ",
    "outputId": "fb1d1113-7d59-4094-c713-2e7116fe5d3e",
    "tags": []
   },
   "outputs": [],
   "source": [
    "X_train = []\n",
    "Y_train = []\n",
    "X_val = []\n",
    "Y_val = []\n",
    "  \n",
    "# Loop for training data\n",
    "for i in range(timesteps,train.shape[0]):\n",
    "    X_train.append(train[i-timesteps:i])\n",
    "    Y_train.append(train[i][0])\n",
    "X_train,Y_train = np.array(X_train),np.array(Y_train)\n",
    "  \n",
    "# Loop for val data\n",
    "for i in range(timesteps,test.shape[0]):\n",
    "    X_val.append(test[i-timesteps:i])\n",
    "    Y_val.append(test[i][0])\n",
    "X_val,Y_val = np.array(X_val),np.array(Y_val)\n",
    "    \n",
    "# Adding Layers to the model\n",
    "model = Sequential()\n",
    "#Adding the first LSTM layer and some Dropout regularisation\n",
    "model.add(LSTM(units = 50, activation = activation, return_sequences = True, input_shape = (X_train.shape[1],X_train.shape[2])))\n",
    "model.add(Dropout(0.2))\n",
    "# Adding LSTM layers and some Dropout regularisation\n",
    "for i in range(len(hl)-1):        \n",
    "  model.add(LSTM(hl[i], activation = activation,return_sequences = True))\n",
    "  #model.add(Dropout(0.2))\n",
    "model.add(LSTM(hl[-1],activation = activation))\n",
    "model.add(Dropout(0.2))\n",
    "# Adding the output layer\n",
    "model.add(Dense(units = 1))\n",
    "\n",
    "# Compiling the RNN\n",
    "model.compile(optimizer = tf.keras.optimizers.Adam(learning_rate= lr), loss = loss)\n",
    "    \n",
    "# Training the data\n",
    "history = model.fit(X_train,Y_train,epochs = epochs,batch_size = batch,validation_data = (X_val, Y_val),verbose = 1,\n",
    "                        shuffle = False, callbacks=callbacks_list)\n",
    "model.reset_states()\n",
    "#model, history.history['loss'], history.history['val_loss']"
   ]
  },
  {
   "cell_type": "code",
   "execution_count": null,
   "metadata": {
    "colab": {
     "base_uri": "https://localhost:8080/",
     "height": 389
    },
    "id": "QMygZd4WjqEw",
    "outputId": "cb3038f7-9977-49a7-c31e-b99dca5fdc7f"
   },
   "outputs": [],
   "source": [
    "results = list()\n",
    "cross_val_results = list()\n",
    "\n",
    "mse, rmse, r2_value,true,predicted = evaluate_model(model,test,timesteps)\n",
    "\n",
    "print(f\"length of prediction : {len(predicted)}\")\n",
    "print('MSE = {}'.format(mse))\n",
    "print('RMSE = {}'.format(rmse))\n",
    "print('R-Squared Score = {}'.format(r2_value))\n",
    "                      \n",
    "plot_data(true,predicted)\n"
   ]
  },
  {
   "cell_type": "code",
   "execution_count": null,
   "metadata": {
    "colab": {
     "base_uri": "https://localhost:8080/",
     "height": 265
    },
    "id": "th2u9Yu49N0e",
    "outputId": "7bc08a8b-5631-438a-9b2f-aa2939ab6389"
   },
   "outputs": [],
   "source": [
    "import matplotlib.pyplot as pyplot\n",
    "pyplot.plot(history.history['loss'], label='train')\n",
    "pyplot.plot(history.history['val_loss'], label='test')\n",
    "pyplot.legend()\n",
    "pyplot.show()"
   ]
  },
  {
   "cell_type": "code",
   "execution_count": null,
   "metadata": {
    "colab": {
     "base_uri": "https://localhost:8080/"
    },
    "id": "xKs4uSA7yoIN",
    "outputId": "37b3f8b6-ed42-4652-f76c-135d78fa6ce6"
   },
   "outputs": [],
   "source": [
    "print(history.history['loss'])"
   ]
  },
  {
   "cell_type": "code",
   "execution_count": null,
   "metadata": {
    "colab": {
     "base_uri": "https://localhost:8080/"
    },
    "id": "RthHAQony11H",
    "outputId": "8e6c7573-4c92-461d-bdb2-574fccb8131a"
   },
   "outputs": [],
   "source": [
    "print(history.history['val_loss'])"
   ]
  },
  {
   "cell_type": "code",
   "execution_count": null,
   "metadata": {
    "colab": {
     "base_uri": "https://localhost:8080/"
    },
    "id": "eecBzK3VcUcs",
    "outputId": "a00ffb73-9886-4962-c7be-c6a7681cffa0"
   },
   "outputs": [],
   "source": [
    "model.save('DL_Project_LSTM_20220107')"
   ]
  }
 ],
 "metadata": {
  "accelerator": "GPU",
  "colab": {
   "machine_shape": "hm",
   "name": "DL_Project_ LSTM_20220107.ipynb",
   "provenance": []
  },
  "kernelspec": {
   "display_name": "Python 3 (ipykernel)",
   "language": "python",
   "name": "python3"
  },
  "language_info": {
   "codemirror_mode": {
    "name": "ipython",
    "version": 3
   },
   "file_extension": ".py",
   "mimetype": "text/x-python",
   "name": "python",
   "nbconvert_exporter": "python",
   "pygments_lexer": "ipython3",
   "version": "3.8.10"
  }
 },
 "nbformat": 4,
 "nbformat_minor": 4
}
