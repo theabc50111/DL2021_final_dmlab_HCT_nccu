{
  "nbformat": 4,
  "nbformat_minor": 0,
  "metadata": {
    "colab": {
      "name": "DL_Project_ LSTM_20220107.ipynb",
      "provenance": [],
      "machine_shape": "hm"
    },
    "kernelspec": {
      "name": "python3",
      "display_name": "Python 3"
    },
    "language_info": {
      "name": "python"
    },
    "accelerator": "GPU"
  },
  "cells": [
    {
      "cell_type": "code",
      "execution_count": 1,
      "metadata": {
        "colab": {
          "base_uri": "https://localhost:8080/"
        },
        "id": "_u_Bqxa2KvLQ",
        "outputId": "c2f7e974-4c51-4a43-f322-cf3bd14c63ca"
      },
      "outputs": [
        {
          "output_type": "stream",
          "name": "stdout",
          "text": [
            "Mounted at /content/drive\n"
          ]
        }
      ],
      "source": [
        "from google.colab import drive\n",
        "drive.mount('/content/drive')"
      ]
    },
    {
      "cell_type": "code",
      "source": [
        "# https://github.com/ninja3697/Stocks-Price-Prediction-using-Multivariate-Analysis/blob/master/Multivatiate-LSTM/.ipynb_checkpoints/Multivariate-3-LSTM-Copy1-checkpoint.ipynb\n",
        "# Importing dependencies\n",
        "\n",
        "import numpy as np\n",
        "np.random.seed(1)\n",
        "import tensorflow as tf\n",
        "tf.random.set_seed(2)\n",
        "import pandas as pd\n",
        "import matplotlib.pyplot as plt\n",
        "from tensorflow.keras.models import Sequential, load_model\n",
        "from keras.layers.core import Dense\n",
        "from keras.layers.recurrent import LSTM\n",
        "from tensorflow.keras import optimizers\n",
        "from tensorflow.keras.callbacks import EarlyStopping\n",
        "from sklearn.preprocessing import MinMaxScaler\n",
        "from sklearn.metrics import mean_squared_error, r2_score\n",
        "from keras.layers import Dropout\n",
        "from sklearn.model_selection import KFold\n",
        "from math import sqrt\n",
        "import datetime as dt\n",
        "plt.style.use('ggplot')"
      ],
      "metadata": {
        "id": "u7wI7_OcVRNN"
      },
      "execution_count": 2,
      "outputs": []
    },
    {
      "cell_type": "code",
      "source": [
        "%cd '/content/drive/Shareddrives/myShareDrive'"
      ],
      "metadata": {
        "colab": {
          "base_uri": "https://localhost:8080/"
        },
        "id": "WXb-8StpLHcy",
        "outputId": "2eeede5b-7217-4f87-db7b-96a10ab8c87e"
      },
      "execution_count": 3,
      "outputs": [
        {
          "output_type": "stream",
          "name": "stdout",
          "text": [
            "/content/drive/Shareddrives/myShareDrive\n"
          ]
        }
      ]
    },
    {
      "cell_type": "code",
      "source": [
        "#data = pd.read_csv('./dataset/FS_sp500_Value.csv', parse_dates=['Date'], infer_datetime_format=True)\n",
        "data = pd.read_csv('./dataset/FS_sp500_Value.csv', parse_dates=['Date'], infer_datetime_format=True, index_col=0)"
      ],
      "metadata": {
        "id": "p8XOk-KrNS1_",
        "colab": {
          "base_uri": "https://localhost:8080/"
        },
        "outputId": "5f54b834-fb34-4412-8a8a-7c1edc8463dd"
      },
      "execution_count": 4,
      "outputs": [
        {
          "output_type": "stream",
          "name": "stderr",
          "text": [
            "/usr/local/lib/python3.7/dist-packages/numpy/lib/arraysetops.py:580: FutureWarning: elementwise comparison failed; returning scalar instead, but in the future will perform elementwise comparison\n",
            "  mask |= (ar1 == a)\n"
          ]
        }
      ]
    },
    {
      "cell_type": "code",
      "source": [
        "#data_APA = data.query('Ticker == \"APA\"').drop(['Unnamed: 0', 'Ticker'], axis=1)\n",
        "data_APA = data.query('Ticker == \"APA\"').drop(['Ticker'], axis=1)"
      ],
      "metadata": {
        "id": "M4pixtAQOou_"
      },
      "execution_count": 5,
      "outputs": []
    },
    {
      "cell_type": "code",
      "source": [
        "# Using set_index() method on 'Name' column\n",
        "data_APA = data_APA.set_index(data_APA['Date'])"
      ],
      "metadata": {
        "id": "uy0tl8ggTqwh"
      },
      "execution_count": 6,
      "outputs": []
    },
    {
      "cell_type": "code",
      "source": [
        "# Correlation matrix\n",
        "data_APA.corr()['Close']"
      ],
      "metadata": {
        "colab": {
          "base_uri": "https://localhost:8080/"
        },
        "id": "m9YgdzvaULBO",
        "outputId": "26ea487b-4f39-4001-912e-1fa7fe4f7b8c"
      },
      "execution_count": 7,
      "outputs": [
        {
          "output_type": "execute_result",
          "data": {
            "text/plain": [
              "High         0.999711\n",
              "Low          0.999743\n",
              "Open         0.999399\n",
              "Close        1.000000\n",
              "Volume      -0.479447\n",
              "Adj Close    0.999291\n",
              "Name: Close, dtype: float64"
            ]
          },
          "metadata": {},
          "execution_count": 7
        }
      ]
    },
    {
      "cell_type": "code",
      "source": [
        "#data_APA = data_APA.drop(['Volume'], axis=1)"
      ],
      "metadata": {
        "id": "xf0yInSJUsj5"
      },
      "execution_count": null,
      "outputs": []
    },
    {
      "cell_type": "code",
      "source": [
        "#print(data_APA.describe().Volume) "
      ],
      "metadata": {
        "id": "uvdcrDllH3kz"
      },
      "execution_count": null,
      "outputs": []
    },
    {
      "cell_type": "code",
      "source": [
        "data_APA.drop(data_APA[data_APA['Volume']==0].index, inplace = True) #Dropping rows with volume value 0"
      ],
      "metadata": {
        "id": "iQc_laYNHzF2"
      },
      "execution_count": 8,
      "outputs": []
    },
    {
      "cell_type": "code",
      "source": [
        "data_APA.shape"
      ],
      "metadata": {
        "colab": {
          "base_uri": "https://localhost:8080/"
        },
        "id": "8NMff9RtIajt",
        "outputId": "ab620ab3-500c-41d3-83da-e2f54d0195bd"
      },
      "execution_count": 9,
      "outputs": [
        {
          "output_type": "execute_result",
          "data": {
            "text/plain": [
              "(2997, 7)"
            ]
          },
          "metadata": {},
          "execution_count": 9
        }
      ]
    },
    {
      "cell_type": "code",
      "source": [
        "# Setting up an early stop\n",
        "earlystop = EarlyStopping(monitor='val_loss', min_delta=0.0001, patience=80,  verbose=1, mode='min')\n",
        "callbacks_list = [earlystop]"
      ],
      "metadata": {
        "id": "I6vgANC_VHT-"
      },
      "execution_count": 10,
      "outputs": []
    },
    {
      "cell_type": "code",
      "source": [
        "#Build and train the model\n",
        "def fit_model(train,val,timesteps,hl,lr,batch,epochs,loss,activation):\n",
        "    X_train = []\n",
        "    Y_train = []\n",
        "    X_val = []\n",
        "    Y_val = []\n",
        "  \n",
        "    # Loop for training data\n",
        "    for i in range(timesteps,train.shape[0]):\n",
        "        X_train.append(train[i-timesteps:i])\n",
        "        Y_train.append(train[i][0])\n",
        "    X_train,Y_train = np.array(X_train),np.array(Y_train)\n",
        "  \n",
        "    # Loop for val data\n",
        "    for i in range(timesteps,val.shape[0]):\n",
        "        X_val.append(val[i-timesteps:i])\n",
        "        Y_val.append(val[i][0])\n",
        "    X_val,Y_val = np.array(X_val),np.array(Y_val)\n",
        "    \n",
        "    # Adding Layers to the model\n",
        "    model = Sequential()\n",
        "    #Adding the first LSTM layer and some Dropout regularisation\n",
        "    model.add(LSTM(units = 50, activation = activation, return_sequences = True, input_shape = (X_train.shape[1],X_train.shape[2])))\n",
        "    model.add(Dropout(0.2))\n",
        "    # Adding LSTM layers and some Dropout regularisation\n",
        "    for i in range(len(hl)-1):        \n",
        "      model.add(LSTM(hl[i], activation = activation,return_sequences = True))\n",
        "      #model.add(Dropout(0.2))\n",
        "    model.add(LSTM(hl[-1],activation = activation))\n",
        "    model.add(Dropout(0.2))\n",
        "    # Adding the output layer\n",
        "    model.add(Dense(units = 1))\n",
        "\n",
        "    # Compiling the RNN\n",
        "    model.compile(optimizer = tf.keras.optimizers.Adam(learning_rate= lr), loss = loss)\n",
        "    \n",
        "    # Training the data\n",
        "    history = model.fit(X_train,Y_train,epochs = epochs,batch_size = batch,validation_data = (X_val, Y_val),verbose = 1,\n",
        "                        shuffle = False, callbacks=callbacks_list)\n",
        "    model.reset_states()\n",
        "    return model, history.history['loss'], history.history['val_loss']"
      ],
      "metadata": {
        "id": "Ged4SsfM7sVp"
      },
      "execution_count": 11,
      "outputs": []
    },
    {
      "cell_type": "code",
      "source": [
        "# Evaluating the model\n",
        "def evaluate_model(model,test,timesteps):\n",
        "    X_test = []\n",
        "    Y_test = []\n",
        "\n",
        "    # Loop for testing data\n",
        "    for i in range(timesteps,test.shape[0]):\n",
        "        X_test.append(test[i-timesteps:i])\n",
        "        Y_test.append(test[i][0])\n",
        "    X_test,Y_test = np.array(X_test),np.array(Y_test)\n",
        "    #print(X_test.shape,Y_test.shape)\n",
        "  \n",
        "    # Prediction Time !!!!\n",
        "    Y_hat = model.predict(X_test)\n",
        "    mse = mean_squared_error(Y_test,Y_hat)\n",
        "    rmse = sqrt(mse)\n",
        "    r = r2_score(Y_test,Y_hat)\n",
        "    return mse, rmse, r, Y_test, Y_hat"
      ],
      "metadata": {
        "id": "mKPFTGDAVbeS"
      },
      "execution_count": 12,
      "outputs": []
    },
    {
      "cell_type": "code",
      "source": [
        "# Plotting the predictions\n",
        "def plot_data(Y_test,Y_hat):\n",
        "    plt.plot(Y_test,c = 'r')\n",
        "    plt.plot(Y_hat,c = 'y')\n",
        "    plt.xlabel('Day')\n",
        "    plt.ylabel('Price')\n",
        "    plt.title('Stock Prediction Graph using Multivariate-LSTM model')\n",
        "    plt.legend(['Actual','Predicted'],loc = 'lower right')\n",
        "    plt.show()"
      ],
      "metadata": {
        "id": "DtJVGXQsVgaL"
      },
      "execution_count": 13,
      "outputs": []
    },
    {
      "cell_type": "code",
      "source": [
        "# Plotting the training errors\n",
        "def plot_error(train_loss,val_loss):\n",
        "    plt.plot(train_loss,c = 'r')\n",
        "    plt.plot(val_loss,c = 'b')\n",
        "    plt.ylabel('Loss')\n",
        "    plt.legend(['train','val'],loc = 'upper right')\n",
        "    plt.show()"
      ],
      "metadata": {
        "id": "zhi61YqyVmNg"
      },
      "execution_count": 14,
      "outputs": []
    },
    {
      "cell_type": "code",
      "source": [
        "# Extracting the series\n",
        "series = data_APA[['Close','High','Volume']] # Picking the series with high correlation\n",
        "print(series.shape)\n",
        "print(series.tail())"
      ],
      "metadata": {
        "colab": {
          "base_uri": "https://localhost:8080/"
        },
        "id": "CjzVlVkkJtm1",
        "outputId": "225df676-2eed-4203-b1c6-1cfb43de0b93"
      },
      "execution_count": 15,
      "outputs": [
        {
          "output_type": "stream",
          "name": "stdout",
          "text": [
            "(2997, 3)\n",
            "                Close       High    Volume\n",
            "Date                                      \n",
            "2021-11-19  26.000000  27.010000  12427500\n",
            "2021-11-22  26.530001  27.360001  11652900\n",
            "2021-11-23  28.469999  28.500000  10602000\n",
            "2021-11-24  28.610001  29.209999   8531600\n",
            "2021-11-26  26.240000  26.549999   8469000\n"
          ]
        }
      ]
    },
    {
      "cell_type": "code",
      "source": [
        "# Cross_Train_Val Test Split\n",
        "cross_train_val_start = dt.date(2010,1,4)\n",
        "cross_train_val_end = dt.date(2021,6,30)\n",
        "cross_train_val_data = series.loc[cross_train_val_start:cross_train_val_end]\n",
        "\n",
        "test_start = dt.date(2021,7,1)\n",
        "test_end = dt.date(2021,12,31)\n",
        "test_data = series.loc[test_start:test_end]\n",
        "\n",
        "print(cross_train_val_data.shape,test_data.shape)"
      ],
      "metadata": {
        "colab": {
          "base_uri": "https://localhost:8080/"
        },
        "id": "Q88XgwO7yOvw",
        "outputId": "491acee7-ac92-4aed-bc9a-fbf9b788fa55"
      },
      "execution_count": 16,
      "outputs": [
        {
          "output_type": "stream",
          "name": "stdout",
          "text": [
            "(2893, 3) (104, 3)\n"
          ]
        }
      ]
    },
    {
      "cell_type": "code",
      "source": [
        "# Normalisation\n",
        "from sklearn.preprocessing import MinMaxScaler\n",
        "sc = MinMaxScaler(feature_range = (0, 1))\n",
        "\n",
        "train = sc.fit_transform(cross_train_val_data)\n",
        "test = sc.transform(test_data)\n",
        "print(train.shape,test.shape)"
      ],
      "metadata": {
        "colab": {
          "base_uri": "https://localhost:8080/"
        },
        "id": "gtddltVN4RwV",
        "outputId": "60df1762-284f-4aaf-e8d9-2bd22a18b1a0"
      },
      "execution_count": 17,
      "outputs": [
        {
          "output_type": "stream",
          "name": "stdout",
          "text": [
            "(2893, 3) (104, 3)\n"
          ]
        }
      ]
    },
    {
      "cell_type": "code",
      "source": [
        "timesteps = [50] \n",
        "hl = []\n",
        "for i in range(40,50,10):\n",
        "    hl.append([i,i-5])\n",
        "lr = [1e-3]\n",
        "batch_size = [64]\n",
        "num_epochs = [50]\n",
        "#optimizers = ['SGD', 'RMSprop', 'Adam']\n",
        "loss = ['mean_squared_error']\n",
        "activation = ['selu']"
      ],
      "metadata": {
        "id": "oe1qzCSFPDLZ"
      },
      "execution_count": 18,
      "outputs": []
    },
    {
      "cell_type": "code",
      "source": [
        "results = list()\n",
        "cross_val_results = list()\n",
        "n_split = 5\n",
        "X = train\n",
        "\n",
        "for t in timesteps:\n",
        "  for l in hl:\n",
        "      for rate in lr:\n",
        "          for batch in batch_size:\n",
        "              for epochs in num_epochs:\n",
        "                for loss in loss:\n",
        "                  for a in activation:\n",
        "                    \n",
        "                    train_loss = pd.DataFrame()\n",
        "                    val_loss = pd.DataFrame()\n",
        "                    train_loss_value = 0\n",
        "                    val_loss_value = 0\n",
        "                \n",
        "                    for train_index,test_index in KFold(n_split).split(X):\n",
        "                      #print(train_index,test_index)\n",
        "                      x_train = X[train_index]\n",
        "                      x_test = X[test_index]\n",
        "                      #y_train,y_test=Y[train_index],Y[test_index]\n",
        "                      model,train_error,val_error = fit_model(x_train,x_test,t,l,rate,batch,epochs,loss,a)\n",
        "                      train_loss['fold'] = train_error\n",
        "                      val_loss['fold'] = val_error\n",
        "                      mse, rmse, r2_value,true,predicted = evaluate_model(model,test,t)\n",
        "                      #print(\"Split 1\", fold_no)\n",
        "                      print('MSE = {}'.format(mse))\n",
        "                      print('RMSE = {}'.format(rmse))\n",
        "                      print('R-Squared Score = {}'.format(r2_value))\n",
        "                      \n",
        "                      plot_data(true,predicted)\n",
        "                      cross_val_results.append([mse,rmse,r2_value,0])\n",
        "                      #model,train_error,val_error = fit_model(x_train,x_test,timesteps,hl,lr,batch_size,num_epochs)\n",
        "                      print('train_error ',train_error)\n",
        "                      #model,train_loss,val_loss = fit_model(train,val,t,l,rate,batch,epochs)\n",
        "                      train_loss_value = train_loss_value + train_loss.iloc[-1]['fold']\n",
        "                      val_loss_value = val_loss_value + val_loss.iloc[-1]['fold']\n",
        "                \n",
        "                    results.append([t,l,rate,batch,epochs,loss,a,train_loss_value/n_split,val_loss_value/n_split])\n",
        "                    print(results)                  \n",
        "\n",
        "pd.DataFrame(results,columns=['Timestep','Hidden_Layers','Learning_Rate','Batch_Size','epochs','Loss','Activation','Train_Loss','Val_Loss']).to_csv('Multivariate-LSTM_model_Timesteps_0107.csv')\n",
        "pd.DataFrame(cross_val_results,columns=['mse','rmse','r2_value','0']).to_csv('Multivariate-LSTM_model_Mse_0107.csv')"
      ],
      "metadata": {
        "colab": {
          "base_uri": "https://localhost:8080/",
          "height": 1000
        },
        "id": "AUoZqBRKPIBV",
        "outputId": "61b0c812-81a0-45f3-8822-436ea5e8d3a4"
      },
      "execution_count": 19,
      "outputs": [
        {
          "output_type": "stream",
          "name": "stdout",
          "text": [
            "Epoch 1/50\n",
            "36/36 [==============================] - 38s 819ms/step - loss: 0.0665 - val_loss: 0.4764\n",
            "Epoch 2/50\n",
            "36/36 [==============================] - 29s 811ms/step - loss: 0.0433 - val_loss: 0.2813\n",
            "Epoch 3/50\n",
            "36/36 [==============================] - 28s 790ms/step - loss: 0.0306 - val_loss: 0.1139\n",
            "Epoch 4/50\n",
            "36/36 [==============================] - 30s 841ms/step - loss: 0.0149 - val_loss: 0.0584\n",
            "Epoch 5/50\n",
            "36/36 [==============================] - 29s 804ms/step - loss: 0.0097 - val_loss: 0.0511\n",
            "Epoch 6/50\n",
            "36/36 [==============================] - 28s 782ms/step - loss: 0.0079 - val_loss: 0.0831\n",
            "Epoch 7/50\n",
            "36/36 [==============================] - 29s 797ms/step - loss: 0.0106 - val_loss: 0.0654\n",
            "Epoch 8/50\n",
            "36/36 [==============================] - 29s 804ms/step - loss: 0.0093 - val_loss: 0.0646\n",
            "Epoch 9/50\n",
            "36/36 [==============================] - 28s 772ms/step - loss: 0.0087 - val_loss: 0.0773\n",
            "Epoch 10/50\n",
            "36/36 [==============================] - 28s 776ms/step - loss: 0.0090 - val_loss: 0.0566\n",
            "Epoch 11/50\n",
            "36/36 [==============================] - 30s 825ms/step - loss: 0.0075 - val_loss: 0.0512\n",
            "Epoch 12/50\n",
            "36/36 [==============================] - 29s 792ms/step - loss: 0.0068 - val_loss: 0.0600\n",
            "Epoch 13/50\n",
            "36/36 [==============================] - 28s 789ms/step - loss: 0.0074 - val_loss: 0.0507\n",
            "Epoch 14/50\n",
            "36/36 [==============================] - 29s 805ms/step - loss: 0.0065 - val_loss: 0.0437\n",
            "Epoch 15/50\n",
            "36/36 [==============================] - 30s 838ms/step - loss: 0.0056 - val_loss: 0.0264\n",
            "Epoch 16/50\n",
            "36/36 [==============================] - 30s 828ms/step - loss: 0.0040 - val_loss: 0.0209\n",
            "Epoch 17/50\n",
            "36/36 [==============================] - 29s 801ms/step - loss: 0.0036 - val_loss: 0.0105\n",
            "Epoch 18/50\n",
            "36/36 [==============================] - 29s 819ms/step - loss: 0.0026 - val_loss: 0.0140\n",
            "Epoch 19/50\n",
            "36/36 [==============================] - 29s 816ms/step - loss: 0.0030 - val_loss: 0.0094\n",
            "Epoch 20/50\n",
            "36/36 [==============================] - 29s 817ms/step - loss: 0.0024 - val_loss: 0.0097\n",
            "Epoch 21/50\n",
            "36/36 [==============================] - 29s 802ms/step - loss: 0.0023 - val_loss: 0.0115\n",
            "Epoch 22/50\n",
            "36/36 [==============================] - 28s 773ms/step - loss: 0.0024 - val_loss: 0.0100\n",
            "Epoch 23/50\n",
            "36/36 [==============================] - 29s 814ms/step - loss: 0.0023 - val_loss: 0.0128\n",
            "Epoch 24/50\n",
            "36/36 [==============================] - 28s 775ms/step - loss: 0.0027 - val_loss: 0.0116\n",
            "Epoch 25/50\n",
            "36/36 [==============================] - 29s 814ms/step - loss: 0.0025 - val_loss: 0.0160\n",
            "Epoch 26/50\n",
            "36/36 [==============================] - 28s 788ms/step - loss: 0.0026 - val_loss: 0.0129\n",
            "Epoch 27/50\n",
            "36/36 [==============================] - 29s 803ms/step - loss: 0.0025 - val_loss: 0.0152\n",
            "Epoch 28/50\n",
            "36/36 [==============================] - 29s 816ms/step - loss: 0.0027 - val_loss: 0.0141\n",
            "Epoch 29/50\n",
            "36/36 [==============================] - 29s 818ms/step - loss: 0.0023 - val_loss: 0.0175\n",
            "Epoch 30/50\n",
            "36/36 [==============================] - 28s 777ms/step - loss: 0.0026 - val_loss: 0.0182\n",
            "Epoch 31/50\n",
            "36/36 [==============================] - 29s 797ms/step - loss: 0.0027 - val_loss: 0.0205\n",
            "Epoch 32/50\n",
            "36/36 [==============================] - 28s 785ms/step - loss: 0.0031 - val_loss: 0.0172\n",
            "Epoch 33/50\n",
            "36/36 [==============================] - 29s 810ms/step - loss: 0.0026 - val_loss: 0.0311\n",
            "Epoch 34/50\n",
            "36/36 [==============================] - 28s 778ms/step - loss: 0.0036 - val_loss: 0.0169\n",
            "Epoch 35/50\n",
            "36/36 [==============================] - 27s 751ms/step - loss: 0.0027 - val_loss: 0.0192\n",
            "Epoch 36/50\n",
            "36/36 [==============================] - 28s 775ms/step - loss: 0.0027 - val_loss: 0.0233\n",
            "Epoch 37/50\n",
            "36/36 [==============================] - 29s 805ms/step - loss: 0.0029 - val_loss: 0.0265\n",
            "Epoch 38/50\n",
            "36/36 [==============================] - 29s 814ms/step - loss: 0.0032 - val_loss: 0.0231\n",
            "Epoch 39/50\n",
            "36/36 [==============================] - 29s 810ms/step - loss: 0.0027 - val_loss: 0.0302\n",
            "Epoch 40/50\n",
            "36/36 [==============================] - 28s 776ms/step - loss: 0.0034 - val_loss: 0.0274\n",
            "Epoch 41/50\n",
            "36/36 [==============================] - 29s 806ms/step - loss: 0.0031 - val_loss: 0.0335\n",
            "Epoch 42/50\n",
            "36/36 [==============================] - 29s 808ms/step - loss: 0.0035 - val_loss: 0.0286\n",
            "Epoch 43/50\n",
            "36/36 [==============================] - 29s 812ms/step - loss: 0.0035 - val_loss: 0.0323\n",
            "Epoch 44/50\n",
            "36/36 [==============================] - 30s 833ms/step - loss: 0.0032 - val_loss: 0.0273\n",
            "Epoch 45/50\n",
            "36/36 [==============================] - 29s 817ms/step - loss: 0.0033 - val_loss: 0.0316\n",
            "Epoch 46/50\n",
            "36/36 [==============================] - 29s 793ms/step - loss: 0.0033 - val_loss: 0.0188\n",
            "Epoch 47/50\n",
            "36/36 [==============================] - 30s 827ms/step - loss: 0.0023 - val_loss: 0.0246\n",
            "Epoch 48/50\n",
            "36/36 [==============================] - 29s 817ms/step - loss: 0.0027 - val_loss: 0.0196\n",
            "Epoch 49/50\n",
            "36/36 [==============================] - 28s 770ms/step - loss: 0.0025 - val_loss: 0.0243\n",
            "Epoch 50/50\n",
            "36/36 [==============================] - 29s 798ms/step - loss: 0.0026 - val_loss: 0.0185\n",
            "MSE = 0.00036981795339383614\n",
            "RMSE = 0.01923065140326339\n",
            "R-Squared Score = 0.4692617805842795\n"
          ]
        },
        {
          "output_type": "display_data",
          "data": {
            "image/png": "[encoded data removed]",
            "text/plain": [
              "<Figure size 432x288 with 1 Axes>"
            ]
          },
          "metadata": {}
        },
        {
          "output_type": "stream",
          "name": "stdout",
          "text": [
            "train_error  [0.06652465462684631, 0.04329919070005417, 0.030596857890486717, 0.014913609251379967, 0.009717089124023914, 0.007858368568122387, 0.010633623227477074, 0.009256702847778797, 0.008705166168510914, 0.008954881690442562, 0.007521861232817173, 0.006803795695304871, 0.007443503942340612, 0.006529275327920914, 0.0056131440214812756, 0.003951599821448326, 0.003594324691221118, 0.002639433601871133, 0.0029671858064830303, 0.0023728490341454744, 0.0022750552743673325, 0.002355921780690551, 0.0023492611944675446, 0.0027427885215729475, 0.0025113646406680346, 0.002584420144557953, 0.002509168116375804, 0.002673409879207611, 0.002340155653655529, 0.0025645948480814695, 0.002653681207448244, 0.00307252979837358, 0.0026213836390525103, 0.0036224371287971735, 0.0027412695344537497, 0.002739186165854335, 0.0029013522434979677, 0.0031535921152681112, 0.002743113785982132, 0.003386082360520959, 0.0030913089867681265, 0.0035079610534012318, 0.0034922307822853327, 0.003197724698111415, 0.003255347954109311, 0.003291663248091936, 0.0022973257582634687, 0.002713531255722046, 0.0024742698296904564, 0.0025825556367635727]\n",
            "Epoch 1/50\n",
            "36/36 [==============================] - 37s 836ms/step - loss: 0.0603 - val_loss: 0.1765\n",
            "Epoch 2/50\n",
            "36/36 [==============================] - 31s 851ms/step - loss: 0.0551 - val_loss: 0.0911\n",
            "Epoch 3/50\n",
            "36/36 [==============================] - 30s 828ms/step - loss: 0.0366 - val_loss: 0.0093\n",
            "Epoch 4/50\n",
            "36/36 [==============================] - 30s 845ms/step - loss: 0.0142 - val_loss: 0.0372\n",
            "Epoch 5/50\n",
            "36/36 [==============================] - 30s 841ms/step - loss: 0.0213 - val_loss: 0.0082\n",
            "Epoch 6/50\n",
            "36/36 [==============================] - 31s 857ms/step - loss: 0.0110 - val_loss: 0.0105\n",
            "Epoch 7/50\n",
            "36/36 [==============================] - 31s 862ms/step - loss: 0.0102 - val_loss: 0.0147\n",
            "Epoch 8/50\n",
            "36/36 [==============================] - 31s 849ms/step - loss: 0.0114 - val_loss: 0.0020\n",
            "Epoch 9/50\n",
            "36/36 [==============================] - 30s 822ms/step - loss: 0.0072 - val_loss: 0.0056\n",
            "Epoch 10/50\n",
            "36/36 [==============================] - 29s 819ms/step - loss: 0.0075 - val_loss: 0.0064\n",
            "Epoch 11/50\n",
            "36/36 [==============================] - 30s 835ms/step - loss: 0.0074 - val_loss: 0.0110\n",
            "Epoch 12/50\n",
            "36/36 [==============================] - 30s 829ms/step - loss: 0.0075 - val_loss: 0.0031\n",
            "Epoch 13/50\n",
            "36/36 [==============================] - 30s 839ms/step - loss: 0.0052 - val_loss: 0.0069\n",
            "Epoch 14/50\n",
            "36/36 [==============================] - 30s 821ms/step - loss: 0.0053 - val_loss: 0.0039\n",
            "Epoch 15/50\n",
            "36/36 [==============================] - 29s 811ms/step - loss: 0.0043 - val_loss: 0.0084\n",
            "Epoch 16/50\n",
            "36/36 [==============================] - 30s 825ms/step - loss: 0.0046 - val_loss: 0.0033\n",
            "Epoch 17/50\n",
            "36/36 [==============================] - 31s 855ms/step - loss: 0.0042 - val_loss: 0.0041\n",
            "Epoch 18/50\n",
            "36/36 [==============================] - 30s 840ms/step - loss: 0.0040 - val_loss: 0.0041\n",
            "Epoch 19/50\n",
            "36/36 [==============================] - 31s 852ms/step - loss: 0.0047 - val_loss: 0.0073\n",
            "Epoch 20/50\n",
            "36/36 [==============================] - 30s 836ms/step - loss: 0.0059 - val_loss: 0.0024\n",
            "Epoch 21/50\n",
            "36/36 [==============================] - 30s 826ms/step - loss: 0.0036 - val_loss: 0.0099\n",
            "Epoch 22/50\n",
            "36/36 [==============================] - 30s 838ms/step - loss: 0.0055 - val_loss: 0.0063\n",
            "Epoch 23/50\n",
            "36/36 [==============================] - 30s 838ms/step - loss: 0.0048 - val_loss: 0.0041\n",
            "Epoch 24/50\n",
            "36/36 [==============================] - 30s 835ms/step - loss: 0.0045 - val_loss: 0.0058\n",
            "Epoch 25/50\n",
            "36/36 [==============================] - 28s 782ms/step - loss: 0.0053 - val_loss: 0.0060\n",
            "Epoch 26/50\n",
            "36/36 [==============================] - 29s 814ms/step - loss: 0.0045 - val_loss: 0.0049\n",
            "Epoch 27/50\n",
            "36/36 [==============================] - 30s 827ms/step - loss: 0.0045 - val_loss: 0.0091\n",
            "Epoch 28/50\n",
            "36/36 [==============================] - 29s 798ms/step - loss: 0.0051 - val_loss: 0.0066\n",
            "Epoch 29/50\n",
            "36/36 [==============================] - 29s 812ms/step - loss: 0.0052 - val_loss: 0.0087\n",
            "Epoch 30/50\n",
            "36/36 [==============================] - 29s 814ms/step - loss: 0.0051 - val_loss: 0.0063\n",
            "Epoch 31/50\n",
            "36/36 [==============================] - 30s 828ms/step - loss: 0.0049 - val_loss: 0.0108\n",
            "Epoch 32/50\n",
            "36/36 [==============================] - 29s 808ms/step - loss: 0.0054 - val_loss: 0.0050\n",
            "Epoch 33/50\n",
            "36/36 [==============================] - 29s 808ms/step - loss: 0.0042 - val_loss: 0.0092\n",
            "Epoch 34/50\n",
            "36/36 [==============================] - 29s 798ms/step - loss: 0.0048 - val_loss: 0.0056\n",
            "Epoch 35/50\n",
            "36/36 [==============================] - 30s 824ms/step - loss: 0.0038 - val_loss: 0.0083\n",
            "Epoch 36/50\n",
            "36/36 [==============================] - 29s 795ms/step - loss: 0.0042 - val_loss: 0.0050\n",
            "Epoch 37/50\n",
            "36/36 [==============================] - 29s 803ms/step - loss: 0.0037 - val_loss: 0.0102\n",
            "Epoch 38/50\n",
            "36/36 [==============================] - 29s 812ms/step - loss: 0.0042 - val_loss: 0.0035\n",
            "Epoch 39/50\n",
            "36/36 [==============================] - 29s 805ms/step - loss: 0.0032 - val_loss: 0.0096\n",
            "Epoch 40/50\n",
            "36/36 [==============================] - 28s 793ms/step - loss: 0.0041 - val_loss: 0.0024\n",
            "Epoch 41/50\n",
            "36/36 [==============================] - 30s 832ms/step - loss: 0.0029 - val_loss: 0.0081\n",
            "Epoch 42/50\n",
            "36/36 [==============================] - 29s 802ms/step - loss: 0.0037 - val_loss: 0.0022\n",
            "Epoch 43/50\n",
            "36/36 [==============================] - 29s 807ms/step - loss: 0.0033 - val_loss: 0.0064\n",
            "Epoch 44/50\n",
            "36/36 [==============================] - 30s 823ms/step - loss: 0.0031 - val_loss: 0.0027\n",
            "Epoch 45/50\n",
            "36/36 [==============================] - 29s 814ms/step - loss: 0.0032 - val_loss: 0.0077\n",
            "Epoch 46/50\n",
            "36/36 [==============================] - 30s 835ms/step - loss: 0.0037 - val_loss: 0.0023\n",
            "Epoch 47/50\n",
            "36/36 [==============================] - 30s 836ms/step - loss: 0.0027 - val_loss: 0.0070\n",
            "Epoch 48/50\n",
            "36/36 [==============================] - 28s 782ms/step - loss: 0.0034 - val_loss: 0.0037\n",
            "Epoch 49/50\n",
            "36/36 [==============================] - 29s 805ms/step - loss: 0.0032 - val_loss: 0.0064\n",
            "Epoch 50/50\n",
            "36/36 [==============================] - 30s 836ms/step - loss: 0.0032 - val_loss: 0.0038\n",
            "MSE = 0.00021994433815654182\n",
            "RMSE = 0.014830520495132388\n",
            "R-Squared Score = 0.6843504612674715\n"
          ]
        },
        {
          "output_type": "display_data",
          "data": {
            "image/png": "[encoded data removed]",
            "text/plain": [
              "<Figure size 432x288 with 1 Axes>"
            ]
          },
          "metadata": {}
        },
        {
          "output_type": "stream",
          "name": "stdout",
          "text": [
            "train_error  [0.060269784182310104, 0.05507463216781616, 0.036606233566999435, 0.01420366670936346, 0.02133318781852722, 0.010973908938467503, 0.010177068412303925, 0.011395836248993874, 0.007198471110314131, 0.007531989365816116, 0.007361842319369316, 0.007525426335632801, 0.005212677177041769, 0.0053122397512197495, 0.004349131602793932, 0.004626677371561527, 0.004188357852399349, 0.004013254772871733, 0.0047192759811878204, 0.005891764536499977, 0.0035732111427932978, 0.005486179608851671, 0.004783206153661013, 0.004525868222117424, 0.00527506647631526, 0.004456744529306889, 0.004466317128390074, 0.005122738890349865, 0.00520354975014925, 0.005149379838258028, 0.004858020693063736, 0.005412559024989605, 0.004156347829848528, 0.004813112318515778, 0.0037741984706372023, 0.004246347583830357, 0.0037170075811445713, 0.004200837109237909, 0.003189856419339776, 0.0041323378682136536, 0.0028523309156298637, 0.003693400416523218, 0.0033180261962115765, 0.0030668601393699646, 0.00316130043938756, 0.003731220029294491, 0.0026629422791302204, 0.0033804650884121656, 0.0031539318151772022, 0.003236308926716447]\n",
            "Epoch 1/50\n",
            "36/36 [==============================] - 38s 856ms/step - loss: 0.0777 - val_loss: 0.0644\n",
            "Epoch 2/50\n",
            "36/36 [==============================] - 30s 827ms/step - loss: 0.0626 - val_loss: 0.0120\n",
            "Epoch 3/50\n",
            "36/36 [==============================] - 30s 847ms/step - loss: 0.0451 - val_loss: 0.0351\n",
            "Epoch 4/50\n",
            "36/36 [==============================] - 31s 859ms/step - loss: 0.0479 - val_loss: 0.0936\n",
            "Epoch 5/50\n",
            "36/36 [==============================] - 31s 849ms/step - loss: 0.0668 - val_loss: 0.0046\n",
            "Epoch 6/50\n",
            "36/36 [==============================] - 29s 814ms/step - loss: 0.0287 - val_loss: 0.0014\n",
            "Epoch 7/50\n",
            "36/36 [==============================] - 30s 830ms/step - loss: 0.0202 - val_loss: 0.0227\n",
            "Epoch 8/50\n",
            "36/36 [==============================] - 30s 840ms/step - loss: 0.0367 - val_loss: 0.0304\n",
            "Epoch 9/50\n",
            "36/36 [==============================] - 30s 832ms/step - loss: 0.0350 - val_loss: 0.0199\n",
            "Epoch 10/50\n",
            "36/36 [==============================] - 30s 831ms/step - loss: 0.0242 - val_loss: 0.0119\n",
            "Epoch 11/50\n",
            "36/36 [==============================] - 29s 802ms/step - loss: 0.0207 - val_loss: 0.0152\n",
            "Epoch 12/50\n",
            "36/36 [==============================] - 30s 823ms/step - loss: 0.0215 - val_loss: 0.0103\n",
            "Epoch 13/50\n",
            "36/36 [==============================] - 29s 814ms/step - loss: 0.0122 - val_loss: 0.0015\n",
            "Epoch 14/50\n",
            "36/36 [==============================] - 29s 815ms/step - loss: 0.0075 - val_loss: 0.0019\n",
            "Epoch 15/50\n",
            "36/36 [==============================] - 30s 824ms/step - loss: 0.0075 - val_loss: 0.0030\n",
            "Epoch 16/50\n",
            "36/36 [==============================] - 29s 802ms/step - loss: 0.0067 - val_loss: 0.0031\n",
            "Epoch 17/50\n",
            "36/36 [==============================] - 30s 837ms/step - loss: 0.0077 - val_loss: 0.0028\n",
            "Epoch 18/50\n",
            "36/36 [==============================] - 30s 834ms/step - loss: 0.0062 - val_loss: 0.0036\n",
            "Epoch 19/50\n",
            "36/36 [==============================] - 30s 847ms/step - loss: 0.0074 - val_loss: 0.0040\n",
            "Epoch 20/50\n",
            "36/36 [==============================] - 31s 851ms/step - loss: 0.0067 - val_loss: 0.0044\n",
            "Epoch 21/50\n",
            "36/36 [==============================] - 31s 846ms/step - loss: 0.0061 - val_loss: 0.0039\n",
            "Epoch 22/50\n",
            "36/36 [==============================] - 31s 869ms/step - loss: 0.0062 - val_loss: 0.0039\n",
            "Epoch 23/50\n",
            "36/36 [==============================] - 29s 812ms/step - loss: 0.0055 - val_loss: 0.0041\n",
            "Epoch 24/50\n",
            "36/36 [==============================] - 30s 839ms/step - loss: 0.0059 - val_loss: 0.0019\n",
            "Epoch 25/50\n",
            "36/36 [==============================] - 30s 838ms/step - loss: 0.0053 - val_loss: 0.0047\n",
            "Epoch 26/50\n",
            "36/36 [==============================] - 30s 838ms/step - loss: 0.0053 - val_loss: 0.0039\n",
            "Epoch 27/50\n",
            "36/36 [==============================] - 29s 812ms/step - loss: 0.0064 - val_loss: 0.0047\n",
            "Epoch 28/50\n",
            "36/36 [==============================] - 29s 819ms/step - loss: 0.0061 - val_loss: 0.0049\n",
            "Epoch 29/50\n",
            "36/36 [==============================] - 30s 842ms/step - loss: 0.0063 - val_loss: 0.0044\n",
            "Epoch 30/50\n",
            "36/36 [==============================] - 30s 832ms/step - loss: 0.0058 - val_loss: 0.0046\n",
            "Epoch 31/50\n",
            "36/36 [==============================] - 30s 841ms/step - loss: 0.0051 - val_loss: 0.0026\n",
            "Epoch 32/50\n",
            "36/36 [==============================] - 29s 804ms/step - loss: 0.0047 - val_loss: 0.0039\n",
            "Epoch 33/50\n",
            "36/36 [==============================] - 29s 799ms/step - loss: 0.0045 - val_loss: 0.0040\n",
            "Epoch 34/50\n",
            "36/36 [==============================] - 29s 803ms/step - loss: 0.0043 - val_loss: 0.0024\n",
            "Epoch 35/50\n",
            "36/36 [==============================] - 30s 839ms/step - loss: 0.0040 - val_loss: 0.0025\n",
            "Epoch 36/50\n",
            "36/36 [==============================] - 29s 809ms/step - loss: 0.0038 - val_loss: 0.0019\n",
            "Epoch 37/50\n",
            "36/36 [==============================] - 29s 807ms/step - loss: 0.0034 - val_loss: 0.0016\n",
            "Epoch 38/50\n",
            "36/36 [==============================] - 30s 827ms/step - loss: 0.0031 - val_loss: 8.2672e-04\n",
            "Epoch 39/50\n",
            "36/36 [==============================] - 30s 836ms/step - loss: 0.0029 - val_loss: 0.0012\n",
            "Epoch 40/50\n",
            "36/36 [==============================] - 30s 828ms/step - loss: 0.0032 - val_loss: 7.5050e-04\n",
            "Epoch 41/50\n",
            "36/36 [==============================] - 30s 830ms/step - loss: 0.0029 - val_loss: 5.5754e-04\n",
            "Epoch 42/50\n",
            "36/36 [==============================] - 31s 855ms/step - loss: 0.0027 - val_loss: 0.0011\n",
            "Epoch 43/50\n",
            "36/36 [==============================] - 30s 836ms/step - loss: 0.0032 - val_loss: 6.5493e-04\n",
            "Epoch 44/50\n",
            "36/36 [==============================] - 28s 783ms/step - loss: 0.0026 - val_loss: 8.7127e-04\n",
            "Epoch 45/50\n",
            "36/36 [==============================] - 29s 817ms/step - loss: 0.0029 - val_loss: 5.4206e-04\n",
            "Epoch 46/50\n",
            "36/36 [==============================] - 30s 840ms/step - loss: 0.0027 - val_loss: 5.6377e-04\n",
            "Epoch 47/50\n",
            "36/36 [==============================] - 30s 834ms/step - loss: 0.0026 - val_loss: 0.0014\n",
            "Epoch 48/50\n",
            "36/36 [==============================] - 30s 824ms/step - loss: 0.0028 - val_loss: 0.0016\n",
            "Epoch 49/50\n",
            "36/36 [==============================] - 29s 818ms/step - loss: 0.0028 - val_loss: 0.0014\n",
            "Epoch 50/50\n",
            "36/36 [==============================] - 31s 853ms/step - loss: 0.0031 - val_loss: 9.5035e-04\n",
            "MSE = 0.00017875980713903688\n",
            "RMSE = 0.013370108718295333\n",
            "R-Squared Score = 0.743455770945134\n"
          ]
        },
        {
          "output_type": "display_data",
          "data": {
            "image/png": "[encoded data removed]",
            "text/plain": [
              "<Figure size 432x288 with 1 Axes>"
            ]
          },
          "metadata": {}
        },
        {
          "output_type": "stream",
          "name": "stdout",
          "text": [
            "train_error  [0.07769452035427094, 0.0626150593161583, 0.04513774812221527, 0.04793176054954529, 0.0668075829744339, 0.028665384277701378, 0.020219052210450172, 0.036706261336803436, 0.0349736250936985, 0.02423129975795746, 0.020733583718538284, 0.0214858315885067, 0.012242354452610016, 0.0074738613329827785, 0.007498977705836296, 0.006747086066752672, 0.007735396269708872, 0.006217047572135925, 0.007417166605591774, 0.006712240166962147, 0.006060566753149033, 0.006237548775970936, 0.005480461288243532, 0.005898941773921251, 0.005318524315953255, 0.00533483549952507, 0.006440297234803438, 0.006139140110462904, 0.006297350395470858, 0.00578295299783349, 0.005063975229859352, 0.004684462212026119, 0.004487722180783749, 0.004326301626861095, 0.003979360684752464, 0.003753408556804061, 0.003400139743462205, 0.0031380229629576206, 0.002938578138127923, 0.003153627971187234, 0.0028761825524270535, 0.0027448113542050123, 0.0031668334268033504, 0.0026035087648779154, 0.0029480434022843838, 0.00270362151786685, 0.002616266952827573, 0.0028454053681343794, 0.00281362421810627, 0.003054595086723566]\n",
            "Epoch 1/50\n",
            "36/36 [==============================] - 36s 805ms/step - loss: 0.0407 - val_loss: 0.0457\n",
            "Epoch 2/50\n",
            "36/36 [==============================] - 29s 795ms/step - loss: 0.0477 - val_loss: 0.0425\n",
            "Epoch 3/50\n",
            "36/36 [==============================] - 30s 821ms/step - loss: 0.0441 - val_loss: 0.0260\n",
            "Epoch 4/50\n",
            "36/36 [==============================] - 29s 802ms/step - loss: 0.0329 - val_loss: 0.0061\n",
            "Epoch 5/50\n",
            "36/36 [==============================] - 29s 794ms/step - loss: 0.0284 - val_loss: 0.0049\n",
            "Epoch 6/50\n",
            "36/36 [==============================] - 29s 810ms/step - loss: 0.0256 - val_loss: 0.0070\n",
            "Epoch 7/50\n",
            "36/36 [==============================] - 29s 817ms/step - loss: 0.0225 - val_loss: 0.0083\n",
            "Epoch 8/50\n",
            "36/36 [==============================] - 29s 806ms/step - loss: 0.0200 - val_loss: 0.0063\n",
            "Epoch 9/50\n",
            "36/36 [==============================] - 28s 784ms/step - loss: 0.0182 - val_loss: 0.0067\n",
            "Epoch 10/50\n",
            "36/36 [==============================] - 30s 822ms/step - loss: 0.0162 - val_loss: 0.0039\n",
            "Epoch 11/50\n",
            "36/36 [==============================] - 29s 800ms/step - loss: 0.0137 - val_loss: 0.0025\n",
            "Epoch 12/50\n",
            "36/36 [==============================] - 29s 798ms/step - loss: 0.0115 - val_loss: 0.0019\n",
            "Epoch 13/50\n",
            "36/36 [==============================] - 30s 827ms/step - loss: 0.0108 - val_loss: 0.0014\n",
            "Epoch 14/50\n",
            "36/36 [==============================] - 29s 816ms/step - loss: 0.0103 - val_loss: 0.0019\n",
            "Epoch 15/50\n",
            "36/36 [==============================] - 29s 812ms/step - loss: 0.0092 - val_loss: 0.0017\n",
            "Epoch 16/50\n",
            "36/36 [==============================] - 28s 780ms/step - loss: 0.0088 - val_loss: 7.4216e-04\n",
            "Epoch 17/50\n",
            "36/36 [==============================] - 30s 832ms/step - loss: 0.0073 - val_loss: 0.0013\n",
            "Epoch 18/50\n",
            "36/36 [==============================] - 29s 819ms/step - loss: 0.0078 - val_loss: 2.7544e-04\n",
            "Epoch 19/50\n",
            "36/36 [==============================] - 29s 803ms/step - loss: 0.0062 - val_loss: 0.0013\n",
            "Epoch 20/50\n",
            "36/36 [==============================] - 29s 808ms/step - loss: 0.0057 - val_loss: 2.4935e-04\n",
            "Epoch 21/50\n",
            "36/36 [==============================] - 30s 834ms/step - loss: 0.0045 - val_loss: 7.2274e-04\n",
            "Epoch 22/50\n",
            "36/36 [==============================] - 27s 765ms/step - loss: 0.0047 - val_loss: 2.8132e-04\n",
            "Epoch 23/50\n",
            "36/36 [==============================] - 29s 799ms/step - loss: 0.0042 - val_loss: 4.4872e-04\n",
            "Epoch 24/50\n",
            "36/36 [==============================] - 29s 815ms/step - loss: 0.0037 - val_loss: 2.8747e-04\n",
            "Epoch 25/50\n",
            "36/36 [==============================] - 30s 825ms/step - loss: 0.0037 - val_loss: 3.3753e-04\n",
            "Epoch 26/50\n",
            "36/36 [==============================] - 29s 805ms/step - loss: 0.0035 - val_loss: 2.6654e-04\n",
            "Epoch 27/50\n",
            "36/36 [==============================] - 28s 789ms/step - loss: 0.0032 - val_loss: 3.1758e-04\n",
            "Epoch 28/50\n",
            "36/36 [==============================] - 29s 803ms/step - loss: 0.0032 - val_loss: 3.3501e-04\n",
            "Epoch 29/50\n",
            "36/36 [==============================] - 29s 793ms/step - loss: 0.0033 - val_loss: 4.0378e-04\n",
            "Epoch 30/50\n",
            "36/36 [==============================] - 28s 764ms/step - loss: 0.0031 - val_loss: 4.6011e-04\n",
            "Epoch 31/50\n",
            "36/36 [==============================] - 29s 800ms/step - loss: 0.0032 - val_loss: 5.9478e-04\n",
            "Epoch 32/50\n",
            "36/36 [==============================] - 29s 799ms/step - loss: 0.0031 - val_loss: 0.0018\n",
            "Epoch 33/50\n",
            "36/36 [==============================] - 29s 797ms/step - loss: 0.0038 - val_loss: 4.6403e-04\n",
            "Epoch 34/50\n",
            "36/36 [==============================] - 28s 787ms/step - loss: 0.0030 - val_loss: 2.5806e-04\n",
            "Epoch 35/50\n",
            "36/36 [==============================] - 28s 763ms/step - loss: 0.0029 - val_loss: 2.3996e-04\n",
            "Epoch 36/50\n",
            "36/36 [==============================] - 29s 797ms/step - loss: 0.0028 - val_loss: 3.3064e-04\n",
            "Epoch 37/50\n",
            "36/36 [==============================] - 27s 750ms/step - loss: 0.0030 - val_loss: 0.0011\n",
            "Epoch 38/50\n",
            "36/36 [==============================] - 29s 807ms/step - loss: 0.0030 - val_loss: 5.0814e-04\n",
            "Epoch 39/50\n",
            "36/36 [==============================] - 28s 787ms/step - loss: 0.0027 - val_loss: 7.5095e-04\n",
            "Epoch 40/50\n",
            "36/36 [==============================] - 28s 782ms/step - loss: 0.0036 - val_loss: 2.4511e-04\n",
            "Epoch 41/50\n",
            "36/36 [==============================] - 28s 788ms/step - loss: 0.0027 - val_loss: 3.6812e-04\n",
            "Epoch 42/50\n",
            "36/36 [==============================] - 29s 806ms/step - loss: 0.0029 - val_loss: 2.2532e-04\n",
            "Epoch 43/50\n",
            "36/36 [==============================] - 29s 804ms/step - loss: 0.0027 - val_loss: 4.1694e-04\n",
            "Epoch 44/50\n",
            "36/36 [==============================] - 30s 839ms/step - loss: 0.0028 - val_loss: 4.7481e-04\n",
            "Epoch 45/50\n",
            "36/36 [==============================] - 29s 803ms/step - loss: 0.0028 - val_loss: 2.8055e-04\n",
            "Epoch 46/50\n",
            "36/36 [==============================] - 29s 791ms/step - loss: 0.0027 - val_loss: 4.4905e-04\n",
            "Epoch 47/50\n",
            "36/36 [==============================] - 27s 749ms/step - loss: 0.0027 - val_loss: 4.3078e-04\n",
            "Epoch 48/50\n",
            "36/36 [==============================] - 29s 804ms/step - loss: 0.0025 - val_loss: 2.8978e-04\n",
            "Epoch 49/50\n",
            "36/36 [==============================] - 28s 761ms/step - loss: 0.0028 - val_loss: 3.4648e-04\n",
            "Epoch 50/50\n",
            "36/36 [==============================] - 28s 787ms/step - loss: 0.0025 - val_loss: 4.3557e-04\n",
            "MSE = 0.0004288843716055047\n",
            "RMSE = 0.020709523693351925\n",
            "R-Squared Score = 0.38449357141207496\n"
          ]
        },
        {
          "output_type": "display_data",
          "data": {
            "image/png": "[encoded data removed]",
            "text/plain": [
              "<Figure size 432x288 with 1 Axes>"
            ]
          },
          "metadata": {}
        },
        {
          "output_type": "stream",
          "name": "stdout",
          "text": [
            "train_error  [0.040679797530174255, 0.04774080216884613, 0.044050946831703186, 0.032854579389095306, 0.028425490483641624, 0.025577854365110397, 0.022459665313363075, 0.01996624656021595, 0.018224431201815605, 0.016195762902498245, 0.013693331740796566, 0.011466608382761478, 0.010772055014967918, 0.01028719823807478, 0.009153444319963455, 0.008808000944554806, 0.007312148343771696, 0.007774996571242809, 0.006215251516550779, 0.005734994076192379, 0.0045044515281915665, 0.004680714104324579, 0.004248165991157293, 0.003717561950907111, 0.003681434551253915, 0.003497631987556815, 0.0031856661662459373, 0.003171247895807028, 0.0032591084018349648, 0.003124285489320755, 0.0031946529634296894, 0.0031258738599717617, 0.003826039144769311, 0.0030025243759155273, 0.002877545543015003, 0.002783323870971799, 0.0029545347206294537, 0.0029636628460139036, 0.002688199980184436, 0.0036124184262007475, 0.002723701298236847, 0.0028549942653626204, 0.0027423487044870853, 0.002797507680952549, 0.0027659761253744364, 0.002730643143877387, 0.002744095167145133, 0.002495377790182829, 0.002780446084216237, 0.0025493688881397247]\n",
            "Epoch 1/50\n",
            "36/36 [==============================] - 37s 830ms/step - loss: 0.0954 - val_loss: 0.0136\n",
            "Epoch 2/50\n",
            "36/36 [==============================] - 29s 793ms/step - loss: 0.0498 - val_loss: 0.0049\n",
            "Epoch 3/50\n",
            "36/36 [==============================] - 28s 786ms/step - loss: 0.0545 - val_loss: 0.0023\n",
            "Epoch 4/50\n",
            "36/36 [==============================] - 29s 798ms/step - loss: 0.0338 - val_loss: 0.0040\n",
            "Epoch 5/50\n",
            "36/36 [==============================] - 30s 834ms/step - loss: 0.0262 - val_loss: 0.0027\n",
            "Epoch 6/50\n",
            "36/36 [==============================] - 29s 820ms/step - loss: 0.0232 - val_loss: 0.0054\n",
            "Epoch 7/50\n",
            "36/36 [==============================] - 27s 748ms/step - loss: 0.0164 - val_loss: 0.0018\n",
            "Epoch 8/50\n",
            "36/36 [==============================] - 28s 774ms/step - loss: 0.0149 - val_loss: 0.0033\n",
            "Epoch 9/50\n",
            "36/36 [==============================] - 28s 774ms/step - loss: 0.0142 - val_loss: 0.0024\n",
            "Epoch 10/50\n",
            "36/36 [==============================] - 28s 767ms/step - loss: 0.0139 - val_loss: 0.0027\n",
            "Epoch 11/50\n",
            "36/36 [==============================] - 27s 760ms/step - loss: 0.0133 - val_loss: 0.0031\n",
            "Epoch 12/50\n",
            "36/36 [==============================] - 27s 758ms/step - loss: 0.0121 - val_loss: 0.0026\n",
            "Epoch 13/50\n",
            "36/36 [==============================] - 27s 754ms/step - loss: 0.0125 - val_loss: 0.0021\n",
            "Epoch 14/50\n",
            "36/36 [==============================] - 28s 772ms/step - loss: 0.0130 - val_loss: 0.0020\n",
            "Epoch 15/50\n",
            "36/36 [==============================] - 27s 761ms/step - loss: 0.0112 - val_loss: 0.0022\n",
            "Epoch 16/50\n",
            "36/36 [==============================] - 28s 776ms/step - loss: 0.0088 - val_loss: 0.0012\n",
            "Epoch 17/50\n",
            "36/36 [==============================] - 28s 785ms/step - loss: 0.0095 - val_loss: 0.0013\n",
            "Epoch 18/50\n",
            "36/36 [==============================] - 28s 773ms/step - loss: 0.0086 - val_loss: 0.0023\n",
            "Epoch 19/50\n",
            "36/36 [==============================] - 28s 787ms/step - loss: 0.0081 - val_loss: 0.0013\n",
            "Epoch 20/50\n",
            "36/36 [==============================] - 29s 792ms/step - loss: 0.0072 - val_loss: 0.0018\n",
            "Epoch 21/50\n",
            "36/36 [==============================] - 28s 773ms/step - loss: 0.0076 - val_loss: 0.0011\n",
            "Epoch 22/50\n",
            "36/36 [==============================] - 27s 754ms/step - loss: 0.0069 - val_loss: 0.0018\n",
            "Epoch 23/50\n",
            "36/36 [==============================] - 28s 791ms/step - loss: 0.0062 - val_loss: 0.0020\n",
            "Epoch 24/50\n",
            "36/36 [==============================] - 28s 767ms/step - loss: 0.0062 - val_loss: 0.0021\n",
            "Epoch 25/50\n",
            "36/36 [==============================] - 28s 786ms/step - loss: 0.0060 - val_loss: 0.0015\n",
            "Epoch 26/50\n",
            "36/36 [==============================] - 28s 764ms/step - loss: 0.0058 - val_loss: 0.0018\n",
            "Epoch 27/50\n",
            "36/36 [==============================] - 28s 773ms/step - loss: 0.0055 - val_loss: 0.0016\n",
            "Epoch 28/50\n",
            "36/36 [==============================] - 27s 739ms/step - loss: 0.0056 - val_loss: 0.0017\n",
            "Epoch 29/50\n",
            "36/36 [==============================] - 26s 718ms/step - loss: 0.0046 - val_loss: 0.0015\n",
            "Epoch 30/50\n",
            "36/36 [==============================] - 26s 738ms/step - loss: 0.0040 - val_loss: 0.0014\n",
            "Epoch 31/50\n",
            "36/36 [==============================] - 28s 779ms/step - loss: 0.0039 - val_loss: 0.0011\n",
            "Epoch 32/50\n",
            "36/36 [==============================] - 26s 730ms/step - loss: 0.0033 - val_loss: 7.6628e-04\n",
            "Epoch 33/50\n",
            "36/36 [==============================] - 27s 764ms/step - loss: 0.0034 - val_loss: 8.2326e-04\n",
            "Epoch 34/50\n",
            "36/36 [==============================] - 26s 733ms/step - loss: 0.0030 - val_loss: 8.3337e-04\n",
            "Epoch 35/50\n",
            "36/36 [==============================] - 26s 720ms/step - loss: 0.0029 - val_loss: 8.7584e-04\n",
            "Epoch 36/50\n",
            "36/36 [==============================] - 27s 743ms/step - loss: 0.0029 - val_loss: 7.1089e-04\n",
            "Epoch 37/50\n",
            "36/36 [==============================] - 27s 758ms/step - loss: 0.0030 - val_loss: 7.2207e-04\n",
            "Epoch 38/50\n",
            "36/36 [==============================] - 28s 771ms/step - loss: 0.0027 - val_loss: 8.0055e-04\n",
            "Epoch 39/50\n",
            "36/36 [==============================] - 28s 766ms/step - loss: 0.0027 - val_loss: 7.5898e-04\n",
            "Epoch 40/50\n",
            "36/36 [==============================] - 26s 725ms/step - loss: 0.0032 - val_loss: 6.8390e-04\n",
            "Epoch 41/50\n",
            "36/36 [==============================] - 28s 766ms/step - loss: 0.0029 - val_loss: 5.9762e-04\n",
            "Epoch 42/50\n",
            "36/36 [==============================] - 28s 777ms/step - loss: 0.0028 - val_loss: 5.9265e-04\n",
            "Epoch 43/50\n",
            "36/36 [==============================] - 28s 769ms/step - loss: 0.0030 - val_loss: 5.7272e-04\n",
            "Epoch 44/50\n",
            "36/36 [==============================] - 28s 784ms/step - loss: 0.0028 - val_loss: 5.8057e-04\n",
            "Epoch 45/50\n",
            "36/36 [==============================] - 27s 741ms/step - loss: 0.0028 - val_loss: 5.6536e-04\n",
            "Epoch 46/50\n",
            "36/36 [==============================] - 28s 777ms/step - loss: 0.0028 - val_loss: 5.7343e-04\n",
            "Epoch 47/50\n",
            "36/36 [==============================] - 27s 751ms/step - loss: 0.0026 - val_loss: 5.4239e-04\n",
            "Epoch 48/50\n",
            "36/36 [==============================] - 27s 744ms/step - loss: 0.0025 - val_loss: 5.9803e-04\n",
            "Epoch 49/50\n",
            "36/36 [==============================] - 28s 765ms/step - loss: 0.0026 - val_loss: 5.4580e-04\n",
            "Epoch 50/50\n",
            "36/36 [==============================] - 28s 767ms/step - loss: 0.0025 - val_loss: 5.6049e-04\n",
            "WARNING:tensorflow:5 out of the last 9 calls to <function Model.make_predict_function.<locals>.predict_function at 0x7f76dd420710> triggered tf.function retracing. Tracing is expensive and the excessive number of tracings could be due to (1) creating @tf.function repeatedly in a loop, (2) passing tensors with different shapes, (3) passing Python objects instead of tensors. For (1), please define your @tf.function outside of the loop. For (2), @tf.function has experimental_relax_shapes=True option that relaxes argument shapes that can avoid unnecessary retracing. For (3), please refer to https://www.tensorflow.org/guide/function#controlling_retracing and https://www.tensorflow.org/api_docs/python/tf/function for  more details.\n",
            "MSE = 0.00021548183279135002\n",
            "RMSE = 0.01467929946527933\n",
            "R-Squared Score = 0.6907547532438881\n"
          ]
        },
        {
          "output_type": "display_data",
          "data": {
            "image/png": "[encoded data removed]",
            "text/plain": [
              "<Figure size 432x288 with 1 Axes>"
            ]
          },
          "metadata": {}
        },
        {
          "output_type": "stream",
          "name": "stdout",
          "text": [
            "train_error  [0.09535002708435059, 0.04978775233030319, 0.05453125387430191, 0.03378305584192276, 0.026236360892653465, 0.023185212165117264, 0.016354896128177643, 0.01485641859471798, 0.014179935678839684, 0.013862141408026218, 0.013318255543708801, 0.012108034454286098, 0.012534726411104202, 0.013016513548791409, 0.011186265386641026, 0.008800989016890526, 0.009524018503725529, 0.008575030602514744, 0.00807804986834526, 0.007241759914904833, 0.007565867621451616, 0.0068705142475664616, 0.00616105692461133, 0.006211874540895224, 0.006032165605574846, 0.005770187824964523, 0.0055160559713840485, 0.005586293991655111, 0.0045623378828167915, 0.0039967261254787445, 0.00389535422436893, 0.003322086064144969, 0.0034226616844534874, 0.003009062958881259, 0.0029444291722029448, 0.002867545932531357, 0.003049634862691164, 0.0027483331505209208, 0.002721762517467141, 0.003194456221535802, 0.0029015224426984787, 0.002781034680083394, 0.002968749962747097, 0.002794681116938591, 0.002805795054882765, 0.0027746492996811867, 0.0026482874527573586, 0.0024796801153570414, 0.002568488707765937, 0.002543940208852291]\n",
            "[[50, [40, 35], 0.001, 64, 50, 'mean_squared_error', 'selu', 0.0027933537494391203, 0.004855274048168212]]\n"
          ]
        }
      ]
    },
    {
      "cell_type": "code",
      "source": [
        "results"
      ],
      "metadata": {
        "id": "kLagbWLQ_W-g",
        "colab": {
          "base_uri": "https://localhost:8080/"
        },
        "outputId": "96e7eb40-c7ce-4184-9ff9-5a8b48bd71bd"
      },
      "execution_count": 20,
      "outputs": [
        {
          "output_type": "execute_result",
          "data": {
            "text/plain": [
              "[[50,\n",
              "  [40, 35],\n",
              "  0.001,\n",
              "  64,\n",
              "  50,\n",
              "  'mean_squared_error',\n",
              "  'selu',\n",
              "  0.0027933537494391203,\n",
              "  0.004855274048168212]]"
            ]
          },
          "metadata": {},
          "execution_count": 20
        }
      ]
    },
    {
      "cell_type": "code",
      "source": [
        "cross_val_results"
      ],
      "metadata": {
        "colab": {
          "base_uri": "https://localhost:8080/"
        },
        "id": "SvArg1WHeLqn",
        "outputId": "67ef6903-bdfb-4a00-89c1-8af65bbb845f"
      },
      "execution_count": 21,
      "outputs": [
        {
          "output_type": "execute_result",
          "data": {
            "text/plain": [
              "[[0.00036981795339383614, 0.01923065140326339, 0.4692617805842795, 0],\n",
              " [0.00021994433815654182, 0.014830520495132388, 0.6843504612674715, 0],\n",
              " [0.00017875980713903688, 0.013370108718295333, 0.743455770945134, 0],\n",
              " [0.0004288843716055047, 0.020709523693351925, 0.38449357141207496, 0],\n",
              " [0.00021548183279135002, 0.01467929946527933, 0.6907547532438881, 0]]"
            ]
          },
          "metadata": {},
          "execution_count": 21
        }
      ]
    },
    {
      "cell_type": "code",
      "source": [
        "timesteps = 50\n",
        "hl = [60,55]\n",
        "lr = 1e-3\n",
        "batch = 64\n",
        "epochs = 100\n",
        "#optimizers = ['SGD', 'RMSprop', 'Adam']\n",
        "loss = 'mean_squared_error'\n",
        "activation = 'selu'"
      ],
      "metadata": {
        "id": "D1a0hsXrfKul"
      },
      "execution_count": 22,
      "outputs": []
    },
    {
      "cell_type": "code",
      "source": [
        "X_train = []\n",
        "Y_train = []\n",
        "X_val = []\n",
        "Y_val = []\n",
        "  \n",
        "# Loop for training data\n",
        "for i in range(timesteps,train.shape[0]):\n",
        "    X_train.append(train[i-timesteps:i])\n",
        "    Y_train.append(train[i][0])\n",
        "X_train,Y_train = np.array(X_train),np.array(Y_train)\n",
        "  \n",
        "# Loop for val data\n",
        "for i in range(timesteps,test.shape[0]):\n",
        "    X_val.append(test[i-timesteps:i])\n",
        "    Y_val.append(test[i][0])\n",
        "X_val,Y_val = np.array(X_val),np.array(Y_val)\n",
        "    \n",
        "# Adding Layers to the model\n",
        "model = Sequential()\n",
        "#Adding the first LSTM layer and some Dropout regularisation\n",
        "model.add(LSTM(units = 50, activation = activation, return_sequences = True, input_shape = (X_train.shape[1],X_train.shape[2])))\n",
        "model.add(Dropout(0.2))\n",
        "# Adding LSTM layers and some Dropout regularisation\n",
        "for i in range(len(hl)-1):        \n",
        "  model.add(LSTM(hl[i], activation = activation,return_sequences = True))\n",
        "  #model.add(Dropout(0.2))\n",
        "model.add(LSTM(hl[-1],activation = activation))\n",
        "model.add(Dropout(0.2))\n",
        "# Adding the output layer\n",
        "model.add(Dense(units = 1))\n",
        "\n",
        "# Compiling the RNN\n",
        "model.compile(optimizer = tf.keras.optimizers.Adam(learning_rate= lr), loss = loss)\n",
        "    \n",
        "# Training the data\n",
        "history = model.fit(X_train,Y_train,epochs = epochs,batch_size = batch,validation_data = (X_val, Y_val),verbose = 1,\n",
        "                        shuffle = False, callbacks=callbacks_list)\n",
        "model.reset_states()\n",
        "#model, history.history['loss'], history.history['val_loss']"
      ],
      "metadata": {
        "colab": {
          "base_uri": "https://localhost:8080/"
        },
        "id": "1PYpHZakgeWJ",
        "outputId": "fb1d1113-7d59-4094-c713-2e7116fe5d3e"
      },
      "execution_count": 23,
      "outputs": [
        {
          "output_type": "stream",
          "name": "stdout",
          "text": [
            "Epoch 1/100\n",
            "45/45 [==============================] - 44s 807ms/step - loss: 0.0740 - val_loss: 0.0112\n",
            "Epoch 2/100\n",
            "45/45 [==============================] - 37s 815ms/step - loss: 0.0364 - val_loss: 4.6338e-04\n",
            "Epoch 3/100\n",
            "45/45 [==============================] - 36s 811ms/step - loss: 0.0243 - val_loss: 5.2814e-04\n",
            "Epoch 4/100\n",
            "45/45 [==============================] - 35s 779ms/step - loss: 0.0146 - val_loss: 8.4418e-04\n",
            "Epoch 5/100\n",
            "45/45 [==============================] - 36s 808ms/step - loss: 0.0130 - val_loss: 3.9027e-04\n",
            "Epoch 6/100\n",
            "45/45 [==============================] - 36s 805ms/step - loss: 0.0089 - val_loss: 0.0014\n",
            "Epoch 7/100\n",
            "45/45 [==============================] - 37s 807ms/step - loss: 0.0084 - val_loss: 6.3944e-04\n",
            "Epoch 8/100\n",
            "45/45 [==============================] - 35s 790ms/step - loss: 0.0064 - val_loss: 7.0390e-04\n",
            "Epoch 9/100\n",
            "45/45 [==============================] - 34s 748ms/step - loss: 0.0058 - val_loss: 3.9629e-04\n",
            "Epoch 10/100\n",
            "45/45 [==============================] - 35s 771ms/step - loss: 0.0039 - val_loss: 3.8169e-04\n",
            "Epoch 11/100\n",
            "45/45 [==============================] - 35s 771ms/step - loss: 0.0038 - val_loss: 1.9776e-04\n",
            "Epoch 12/100\n",
            "45/45 [==============================] - 35s 775ms/step - loss: 0.0032 - val_loss: 2.2138e-04\n",
            "Epoch 13/100\n",
            "45/45 [==============================] - 36s 797ms/step - loss: 0.0030 - val_loss: 1.2087e-04\n",
            "Epoch 14/100\n",
            "45/45 [==============================] - 34s 749ms/step - loss: 0.0030 - val_loss: 2.7913e-04\n",
            "Epoch 15/100\n",
            "45/45 [==============================] - 34s 764ms/step - loss: 0.0030 - val_loss: 1.2464e-04\n",
            "Epoch 16/100\n",
            "45/45 [==============================] - 35s 772ms/step - loss: 0.0026 - val_loss: 3.8915e-04\n",
            "Epoch 17/100\n",
            "45/45 [==============================] - 36s 802ms/step - loss: 0.0025 - val_loss: 1.3090e-04\n",
            "Epoch 18/100\n",
            "45/45 [==============================] - 33s 731ms/step - loss: 0.0024 - val_loss: 5.9129e-04\n",
            "Epoch 19/100\n",
            "45/45 [==============================] - 35s 781ms/step - loss: 0.0027 - val_loss: 1.5613e-04\n",
            "Epoch 20/100\n",
            "45/45 [==============================] - 35s 772ms/step - loss: 0.0026 - val_loss: 3.7328e-04\n",
            "Epoch 21/100\n",
            "45/45 [==============================] - 34s 745ms/step - loss: 0.0024 - val_loss: 2.4327e-04\n",
            "Epoch 22/100\n",
            "45/45 [==============================] - 34s 757ms/step - loss: 0.0024 - val_loss: 5.9249e-04\n",
            "Epoch 23/100\n",
            "45/45 [==============================] - 36s 791ms/step - loss: 0.0025 - val_loss: 1.5623e-04\n",
            "Epoch 24/100\n",
            "45/45 [==============================] - 35s 779ms/step - loss: 0.0026 - val_loss: 3.8687e-04\n",
            "Epoch 25/100\n",
            "45/45 [==============================] - 36s 795ms/step - loss: 0.0022 - val_loss: 1.6357e-04\n",
            "Epoch 26/100\n",
            "45/45 [==============================] - 36s 790ms/step - loss: 0.0025 - val_loss: 0.0014\n",
            "Epoch 27/100\n",
            "45/45 [==============================] - 33s 729ms/step - loss: 0.0035 - val_loss: 2.7560e-04\n",
            "Epoch 28/100\n",
            "45/45 [==============================] - 33s 738ms/step - loss: 0.0024 - val_loss: 3.9664e-04\n",
            "Epoch 29/100\n",
            "45/45 [==============================] - 35s 773ms/step - loss: 0.0025 - val_loss: 1.4924e-04\n",
            "Epoch 30/100\n",
            "45/45 [==============================] - 33s 733ms/step - loss: 0.0024 - val_loss: 2.2825e-04\n",
            "Epoch 31/100\n",
            "45/45 [==============================] - 35s 788ms/step - loss: 0.0023 - val_loss: 1.3009e-04\n",
            "Epoch 32/100\n",
            "45/45 [==============================] - 33s 728ms/step - loss: 0.0024 - val_loss: 2.9094e-04\n",
            "Epoch 33/100\n",
            "45/45 [==============================] - 35s 778ms/step - loss: 0.0029 - val_loss: 1.6129e-04\n",
            "Epoch 34/100\n",
            "45/45 [==============================] - 35s 787ms/step - loss: 0.0023 - val_loss: 1.6421e-04\n",
            "Epoch 35/100\n",
            "45/45 [==============================] - 34s 765ms/step - loss: 0.0023 - val_loss: 2.4732e-04\n",
            "Epoch 36/100\n",
            "45/45 [==============================] - 36s 789ms/step - loss: 0.0027 - val_loss: 1.1564e-04\n",
            "Epoch 37/100\n",
            "45/45 [==============================] - 34s 749ms/step - loss: 0.0027 - val_loss: 2.6950e-04\n",
            "Epoch 38/100\n",
            "45/45 [==============================] - 36s 796ms/step - loss: 0.0026 - val_loss: 1.1959e-04\n",
            "Epoch 39/100\n",
            "45/45 [==============================] - 34s 744ms/step - loss: 0.0025 - val_loss: 1.5071e-04\n",
            "Epoch 40/100\n",
            "45/45 [==============================] - 33s 740ms/step - loss: 0.0023 - val_loss: 1.4036e-04\n",
            "Epoch 41/100\n",
            "45/45 [==============================] - 35s 775ms/step - loss: 0.0024 - val_loss: 4.3741e-04\n",
            "Epoch 42/100\n",
            "45/45 [==============================] - 33s 732ms/step - loss: 0.0023 - val_loss: 1.4928e-04\n",
            "Epoch 43/100\n",
            "45/45 [==============================] - 35s 773ms/step - loss: 0.0024 - val_loss: 4.6846e-04\n",
            "Epoch 44/100\n",
            "45/45 [==============================] - 35s 776ms/step - loss: 0.0021 - val_loss: 1.8419e-04\n",
            "Epoch 45/100\n",
            "45/45 [==============================] - 34s 768ms/step - loss: 0.0022 - val_loss: 4.2825e-04\n",
            "Epoch 46/100\n",
            "45/45 [==============================] - 34s 749ms/step - loss: 0.0024 - val_loss: 1.6504e-04\n",
            "Epoch 47/100\n",
            "45/45 [==============================] - 35s 771ms/step - loss: 0.0023 - val_loss: 1.3357e-04\n",
            "Epoch 48/100\n",
            "45/45 [==============================] - 35s 780ms/step - loss: 0.0019 - val_loss: 1.3623e-04\n",
            "Epoch 49/100\n",
            "45/45 [==============================] - 32s 718ms/step - loss: 0.0019 - val_loss: 3.2260e-04\n",
            "Epoch 50/100\n",
            "45/45 [==============================] - 35s 788ms/step - loss: 0.0019 - val_loss: 1.7159e-04\n",
            "Epoch 51/100\n",
            "45/45 [==============================] - 35s 778ms/step - loss: 0.0019 - val_loss: 1.6600e-04\n",
            "Epoch 52/100\n",
            "45/45 [==============================] - 33s 737ms/step - loss: 0.0021 - val_loss: 5.1563e-04\n",
            "Epoch 53/100\n",
            "45/45 [==============================] - 34s 751ms/step - loss: 0.0019 - val_loss: 2.1327e-04\n",
            "Epoch 54/100\n",
            "45/45 [==============================] - 32s 717ms/step - loss: 0.0019 - val_loss: 1.2225e-04\n",
            "Epoch 55/100\n",
            "45/45 [==============================] - 34s 750ms/step - loss: 0.0019 - val_loss: 1.3116e-04\n",
            "Epoch 56/100\n",
            "45/45 [==============================] - 33s 725ms/step - loss: 0.0019 - val_loss: 1.5501e-04\n",
            "Epoch 57/100\n",
            "45/45 [==============================] - 33s 734ms/step - loss: 0.0018 - val_loss: 1.2152e-04\n",
            "Epoch 58/100\n",
            "45/45 [==============================] - 34s 755ms/step - loss: 0.0018 - val_loss: 1.2285e-04\n",
            "Epoch 59/100\n",
            "45/45 [==============================] - 34s 765ms/step - loss: 0.0016 - val_loss: 2.2766e-04\n",
            "Epoch 60/100\n",
            "45/45 [==============================] - 32s 718ms/step - loss: 0.0018 - val_loss: 6.4990e-04\n",
            "Epoch 61/100\n",
            "45/45 [==============================] - 36s 790ms/step - loss: 0.0017 - val_loss: 1.3887e-04\n",
            "Epoch 62/100\n",
            "45/45 [==============================] - 34s 765ms/step - loss: 0.0015 - val_loss: 3.8979e-04\n",
            "Epoch 63/100\n",
            "45/45 [==============================] - 33s 737ms/step - loss: 0.0019 - val_loss: 1.4849e-04\n",
            "Epoch 64/100\n",
            "45/45 [==============================] - 33s 732ms/step - loss: 0.0015 - val_loss: 1.3488e-04\n",
            "Epoch 65/100\n",
            "45/45 [==============================] - 33s 728ms/step - loss: 0.0020 - val_loss: 1.6687e-04\n",
            "Epoch 66/100\n",
            "45/45 [==============================] - 33s 722ms/step - loss: 0.0017 - val_loss: 1.2437e-04\n",
            "Epoch 67/100\n",
            "45/45 [==============================] - 33s 727ms/step - loss: 0.0016 - val_loss: 1.1734e-04\n",
            "Epoch 68/100\n",
            "45/45 [==============================] - 33s 738ms/step - loss: 0.0019 - val_loss: 1.2809e-04\n",
            "Epoch 69/100\n",
            "45/45 [==============================] - 33s 726ms/step - loss: 0.0018 - val_loss: 2.2585e-04\n",
            "Epoch 70/100\n",
            "45/45 [==============================] - 32s 718ms/step - loss: 0.0019 - val_loss: 1.5384e-04\n",
            "Epoch 71/100\n",
            "45/45 [==============================] - 32s 709ms/step - loss: 0.0016 - val_loss: 1.2107e-04\n",
            "Epoch 72/100\n",
            "45/45 [==============================] - 33s 733ms/step - loss: 0.0017 - val_loss: 1.1506e-04\n",
            "Epoch 73/100\n",
            "45/45 [==============================] - 33s 735ms/step - loss: 0.0016 - val_loss: 1.1894e-04\n",
            "Epoch 74/100\n",
            "45/45 [==============================] - 32s 703ms/step - loss: 0.0015 - val_loss: 2.3557e-04\n",
            "Epoch 75/100\n",
            "45/45 [==============================] - 36s 796ms/step - loss: 0.0016 - val_loss: 3.5041e-04\n",
            "Epoch 76/100\n",
            "45/45 [==============================] - 34s 748ms/step - loss: 0.0015 - val_loss: 2.3961e-04\n",
            "Epoch 77/100\n",
            "45/45 [==============================] - 33s 740ms/step - loss: 0.0016 - val_loss: 2.4459e-04\n",
            "Epoch 78/100\n",
            "45/45 [==============================] - 34s 745ms/step - loss: 0.0013 - val_loss: 1.2637e-04\n",
            "Epoch 79/100\n",
            "45/45 [==============================] - 35s 773ms/step - loss: 0.0016 - val_loss: 1.1744e-04\n",
            "Epoch 80/100\n",
            "45/45 [==============================] - 33s 735ms/step - loss: 0.0017 - val_loss: 3.6386e-04\n",
            "Epoch 81/100\n",
            "45/45 [==============================] - 33s 744ms/step - loss: 0.0018 - val_loss: 2.7104e-04\n",
            "Epoch 82/100\n",
            "45/45 [==============================] - 34s 750ms/step - loss: 0.0017 - val_loss: 2.1285e-04\n",
            "Epoch 83/100\n",
            "45/45 [==============================] - 34s 751ms/step - loss: 0.0015 - val_loss: 1.1212e-04\n",
            "Epoch 84/100\n",
            "45/45 [==============================] - 34s 749ms/step - loss: 0.0015 - val_loss: 1.1921e-04\n",
            "Epoch 85/100\n",
            "45/45 [==============================] - 35s 780ms/step - loss: 0.0012 - val_loss: 1.4583e-04\n",
            "Epoch 86/100\n",
            "45/45 [==============================] - 34s 749ms/step - loss: 0.0013 - val_loss: 1.5247e-04\n",
            "Epoch 87/100\n",
            "45/45 [==============================] - 34s 746ms/step - loss: 0.0014 - val_loss: 1.6812e-04\n",
            "Epoch 88/100\n",
            "45/45 [==============================] - 35s 773ms/step - loss: 0.0021 - val_loss: 5.1990e-04\n",
            "Epoch 89/100\n",
            "45/45 [==============================] - 34s 764ms/step - loss: 0.0017 - val_loss: 4.0904e-04\n",
            "Epoch 90/100\n",
            "45/45 [==============================] - 34s 753ms/step - loss: 0.0013 - val_loss: 3.0105e-04\n",
            "Epoch 91/100\n",
            "45/45 [==============================] - 35s 790ms/step - loss: 0.0013 - val_loss: 1.6293e-04\n",
            "Epoch 00091: early stopping\n"
          ]
        }
      ]
    },
    {
      "cell_type": "code",
      "source": [
        "results = list()\n",
        "cross_val_results = list()\n",
        "\n",
        "mse, rmse, r2_value,true,predicted = evaluate_model(model,test,timesteps)\n",
        "\n",
        "print('MSE = {}'.format(mse))\n",
        "print('RMSE = {}'.format(rmse))\n",
        "print('R-Squared Score = {}'.format(r2_value))\n",
        "                      \n",
        "plot_data(true,predicted)\n"
      ],
      "metadata": {
        "colab": {
          "base_uri": "https://localhost:8080/",
          "height": 389
        },
        "id": "QMygZd4WjqEw",
        "outputId": "cb3038f7-9977-49a7-c31e-b99dca5fdc7f"
      },
      "execution_count": 24,
      "outputs": [
        {
          "output_type": "stream",
          "name": "stdout",
          "text": [
            "WARNING:tensorflow:6 out of the last 11 calls to <function Model.make_predict_function.<locals>.predict_function at 0x7f7642e01a70> triggered tf.function retracing. Tracing is expensive and the excessive number of tracings could be due to (1) creating @tf.function repeatedly in a loop, (2) passing tensors with different shapes, (3) passing Python objects instead of tensors. For (1), please define your @tf.function outside of the loop. For (2), @tf.function has experimental_relax_shapes=True option that relaxes argument shapes that can avoid unnecessary retracing. For (3), please refer to https://www.tensorflow.org/guide/function#controlling_retracing and https://www.tensorflow.org/api_docs/python/tf/function for  more details.\n",
            "MSE = 0.000162929149528402\n",
            "RMSE = 0.012764370314606279\n",
            "R-Squared Score = 0.7661748816733811\n"
          ]
        },
        {
          "output_type": "display_data",
          "data": {
            "image/png": "[encoded data removed]",
            "text/plain": [
              "<Figure size 432x288 with 1 Axes>"
            ]
          },
          "metadata": {}
        }
      ]
    },
    {
      "cell_type": "code",
      "source": [
        "import matplotlib.pyplot as pyplot\n",
        "pyplot.plot(history.history['loss'], label='train')\n",
        "pyplot.plot(history.history['val_loss'], label='test')\n",
        "pyplot.legend()\n",
        "pyplot.show()"
      ],
      "metadata": {
        "colab": {
          "base_uri": "https://localhost:8080/",
          "height": 265
        },
        "id": "th2u9Yu49N0e",
        "outputId": "7bc08a8b-5631-438a-9b2f-aa2939ab6389"
      },
      "execution_count": 29,
      "outputs": [
        {
          "output_type": "display_data",
          "data": {
            "image/png": "[encoded data removed]",
            "text/plain": [
              "<Figure size 432x288 with 1 Axes>"
            ]
          },
          "metadata": {}
        }
      ]
    },
    {
      "cell_type": "code",
      "source": [
        "print(history.history['loss'])"
      ],
      "metadata": {
        "colab": {
          "base_uri": "https://localhost:8080/"
        },
        "id": "xKs4uSA7yoIN",
        "outputId": "37b3f8b6-ed42-4652-f76c-135d78fa6ce6"
      },
      "execution_count": 25,
      "outputs": [
        {
          "output_type": "stream",
          "name": "stdout",
          "text": [
            "[0.07399521768093109, 0.03639234974980354, 0.024307725951075554, 0.014625204727053642, 0.013019215315580368, 0.008901779539883137, 0.008385257795453072, 0.006409260910004377, 0.005785529967397451, 0.0038809047546237707, 0.0037761733401566744, 0.003218888072296977, 0.0029608902987092733, 0.003048960119485855, 0.0029727353248745203, 0.0025707115419209003, 0.002548615215346217, 0.0023921080864965916, 0.0027118653524667025, 0.0026100713293999434, 0.002355029806494713, 0.0024209655821323395, 0.0024769275914877653, 0.0026086182333528996, 0.002207761397585273, 0.0025109194684773684, 0.0034501494374126196, 0.002427524421364069, 0.002469317987561226, 0.0024214002769440413, 0.0022941825445741415, 0.0023734639398753643, 0.0028684271965175867, 0.002260980661958456, 0.002303691813722253, 0.0027369766030460596, 0.002745302626863122, 0.0026104587595909834, 0.002457226160913706, 0.0022749928757548332, 0.002425282495096326, 0.0022843764163553715, 0.0024271062575280666, 0.002064051339402795, 0.002225721487775445, 0.0023719773162156343, 0.0022568947169929743, 0.0018907133489847183, 0.0018642445793375373, 0.0019285771995782852, 0.0018877157708629966, 0.002077057957649231, 0.0019038055324926972, 0.0018911829683929682, 0.0019196809735149145, 0.001931445556692779, 0.0017586842877790332, 0.0018020316492766142, 0.0015704412944614887, 0.0018228631233796477, 0.001731240190565586, 0.0015488077187910676, 0.0018772534094750881, 0.0015499596484005451, 0.0019943180959671736, 0.0017226847121492028, 0.0016152323223650455, 0.0019388602813705802, 0.0017859576037153602, 0.0019006007350981236, 0.0015809274045750499, 0.0017015059711411595, 0.0015672814333811402, 0.0015160563634708524, 0.0016265908489003778, 0.0014757405733689666, 0.001581032876856625, 0.0012625294039025903, 0.0016091500874608755, 0.0016786596970632672, 0.001762511907145381, 0.0017332215793430805, 0.001473248703405261, 0.0014552791835740209, 0.0012113179545849562, 0.0013377027353271842, 0.001426825881935656, 0.0020993547514081, 0.0017309405375272036, 0.0013039836194366217, 0.0013160209637135267]\n"
          ]
        }
      ]
    },
    {
      "cell_type": "code",
      "source": [
        "print(history.history['val_loss'])"
      ],
      "metadata": {
        "colab": {
          "base_uri": "https://localhost:8080/"
        },
        "id": "RthHAQony11H",
        "outputId": "8e6c7573-4c92-461d-bdb2-574fccb8131a"
      },
      "execution_count": 26,
      "outputs": [
        {
          "output_type": "stream",
          "name": "stdout",
          "text": [
            "[0.011235100217163563, 0.0004633758217096329, 0.0005281379562802613, 0.0008441818063147366, 0.0003902667958755046, 0.0013914124574512243, 0.0006394408992491663, 0.0007039029733277857, 0.0003962910268455744, 0.0003816882090177387, 0.0001977552310563624, 0.00022137706400826573, 0.00012086635251762345, 0.0002791309671010822, 0.00012463860912248492, 0.000389152584830299, 0.00013089561252854764, 0.0005912860506214201, 0.00015612661081831902, 0.00037327699828892946, 0.00024327084247488528, 0.0005924930446781218, 0.0001562270481372252, 0.00038686898187734187, 0.00016356745618395507, 0.0013816970167681575, 0.00027559546288102865, 0.00039664041833020747, 0.00014924128481652588, 0.0002282470086356625, 0.0001300874719163403, 0.0002909426111727953, 0.00016128561401274055, 0.00016421351756434888, 0.00024732164456509054, 0.00011564415763132274, 0.000269501528237015, 0.0001195942095364444, 0.00015071089728735387, 0.00014036450011190027, 0.00043741081026382744, 0.00014927779557183385, 0.00046845737961120903, 0.0001841869088821113, 0.00042825363925658166, 0.00016503760707564652, 0.00013356568524613976, 0.0001362256589345634, 0.0003226008266210556, 0.00017158711852971464, 0.00016600113303866237, 0.0005156328552402556, 0.00021326917340047657, 0.0001222454011440277, 0.00013116426998749375, 0.0001550093002151698, 0.00012151719420216978, 0.00012284796684980392, 0.00022765771427657455, 0.0006499002920463681, 0.0001388740784022957, 0.0003897861752193421, 0.00014849031867925078, 0.00013488063996192068, 0.00016686742310412228, 0.00012437357509043068, 0.00011733937571989372, 0.00012809147301595658, 0.00022584838734474033, 0.000153835178934969, 0.00012107058864785358, 0.00011506317969178781, 0.00011893853661604226, 0.00023557011445518583, 0.0003504081105347723, 0.0002396061026956886, 0.00024459068663418293, 0.00012636923929676414, 0.00011744214134523645, 0.00036385725252330303, 0.0002710399858187884, 0.0002128543274011463, 0.00011212423851247877, 0.00011920906399609521, 0.00014582915173377842, 0.00015246609109453857, 0.0001681242138147354, 0.0005198984290473163, 0.0004090441216249019, 0.0003010500513482839, 0.00016292918007820845]\n"
          ]
        }
      ]
    },
    {
      "cell_type": "code",
      "source": [
        "model.save('DL_Project_LSTM_20220107')"
      ],
      "metadata": {
        "id": "eecBzK3VcUcs",
        "colab": {
          "base_uri": "https://localhost:8080/"
        },
        "outputId": "a00ffb73-9886-4962-c7be-c6a7681cffa0"
      },
      "execution_count": 28,
      "outputs": [
        {
          "output_type": "stream",
          "name": "stdout",
          "text": [
            "INFO:tensorflow:Assets written to: DL_Project_LSTM_20220107/assets\n"
          ]
        },
        {
          "output_type": "stream",
          "name": "stderr",
          "text": [
            "INFO:tensorflow:Assets written to: DL_Project_LSTM_20220107/assets\n",
            "WARNING:absl:<keras.layers.recurrent.LSTM object at 0x7f76dd0b5a50> has the same name 'LSTM' as a built-in Keras object. Consider renaming <class 'keras.layers.recurrent.LSTM'> to avoid naming conflicts when loading with `tf.keras.models.load_model`. If renaming is not possible, pass the object in the `custom_objects` parameter of the load function.\n",
            "WARNING:absl:<keras.layers.recurrent.LSTM object at 0x7f764324a750> has the same name 'LSTM' as a built-in Keras object. Consider renaming <class 'keras.layers.recurrent.LSTM'> to avoid naming conflicts when loading with `tf.keras.models.load_model`. If renaming is not possible, pass the object in the `custom_objects` parameter of the load function.\n",
            "WARNING:absl:<keras.layers.recurrent.LSTM object at 0x7f764312f690> has the same name 'LSTM' as a built-in Keras object. Consider renaming <class 'keras.layers.recurrent.LSTM'> to avoid naming conflicts when loading with `tf.keras.models.load_model`. If renaming is not possible, pass the object in the `custom_objects` parameter of the load function.\n",
            "WARNING:absl:<keras.layers.recurrent.LSTMCell object at 0x7f7645f9ee10> has the same name 'LSTMCell' as a built-in Keras object. Consider renaming <class 'keras.layers.recurrent.LSTMCell'> to avoid naming conflicts when loading with `tf.keras.models.load_model`. If renaming is not possible, pass the object in the `custom_objects` parameter of the load function.\n",
            "WARNING:absl:<keras.layers.recurrent.LSTMCell object at 0x7f7645f8ff10> has the same name 'LSTMCell' as a built-in Keras object. Consider renaming <class 'keras.layers.recurrent.LSTMCell'> to avoid naming conflicts when loading with `tf.keras.models.load_model`. If renaming is not possible, pass the object in the `custom_objects` parameter of the load function.\n",
            "WARNING:absl:<keras.layers.recurrent.LSTMCell object at 0x7f7645f9ac10> has the same name 'LSTMCell' as a built-in Keras object. Consider renaming <class 'keras.layers.recurrent.LSTMCell'> to avoid naming conflicts when loading with `tf.keras.models.load_model`. If renaming is not possible, pass the object in the `custom_objects` parameter of the load function.\n"
          ]
        }
      ]
    }
  ]
}